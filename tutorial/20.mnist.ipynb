{
 "cells": [
  {
   "cell_type": "markdown",
   "metadata": {
    "slideshow": {
     "slide_type": "slide"
    }
   },
   "source": [
    "# Load and minibatch MNIST data\n",
    "(c) Deniz Yuret, 2019"
   ]
  },
  {
   "cell_type": "markdown",
   "metadata": {},
   "source": [
    "* Objective: Learning the structure of the MNIST dataset, usage of the Knet.Data struct and Julia Iterators.\n",
    "* Prerequisites: Iterators: see [Interfaces](https://docs.julialang.org/en/v1/manual/interfaces/#man-interface-iteration-1),  [Collections](https://docs.julialang.org/en/v1/base/collections/#lib-collections-iteration-1) and [Iteration Utilities](https://docs.julialang.org/en/v1/base/iterators) in the Julia manual.\n",
    "* Knet: minibatch, mnistview, dir (used and explained)"
   ]
  },
  {
   "cell_type": "code",
   "execution_count": 1,
   "metadata": {},
   "outputs": [],
   "source": [
    "# Load packages, import symbols\n",
    "using Pkg; for p in (\"Knet\",\"Images\",\"ImageMagick\"); haskey(Pkg.installed(),p) || Pkg.add(p); end\n",
    "using Knet: Knet, dir, minibatch, mnistview"
   ]
  },
  {
   "cell_type": "code",
   "execution_count": 2,
   "metadata": {},
   "outputs": [
    {
     "name": "stderr",
     "output_type": "stream",
     "text": [
      "┌ Info: Recompiling stale cache file /home/gridsan/dyuret/.julia/compiled/v1.0/Knet/f4vSz.ji for Knet [1902f260-5fb4-5aff-8c31-6271790ab950]\n",
      "└ @ Base loading.jl:1190\n",
      "┌ Info: Loading MNIST...\n",
      "└ @ Main /home/gridsan/dyuret/.julia/dev/Knet/data/mnist.jl:33\n"
     ]
    },
    {
     "name": "stdout",
     "output_type": "stream",
     "text": [
      "28×28×1×60000 Array{Float32,4}\n",
      "60000-element Array{UInt8,1}\n",
      "28×28×1×10000 Array{Float32,4}\n",
      "10000-element Array{UInt8,1}\n"
     ]
    }
   ],
   "source": [
    "# This loads the MNIST handwritten digit recognition dataset:\n",
    "include(Knet.dir(\"data\",\"mnist.jl\")) \n",
    "xtrn,ytrn,xtst,ytst = mnist()\n",
    "println.(summary.((xtrn,ytrn,xtst,ytst)));"
   ]
  },
  {
   "cell_type": "code",
   "execution_count": 3,
   "metadata": {
    "slideshow": {
     "slide_type": "fragment"
    }
   },
   "outputs": [
    {
     "data": {
      "text/plain": [
       "(600, 100)"
      ]
     },
     "execution_count": 3,
     "metadata": {},
     "output_type": "execute_result"
    }
   ],
   "source": [
    "# `minibatch` splits the data tensors to small chunks called minibatches\n",
    "# dtrn contains 600 minibatches of 100 images (total 60000)\n",
    "# dtst contains 100 minibatches of 100 images (total 10000)\n",
    "dtrn = minibatch(xtrn,ytrn,100)\n",
    "dtst = minibatch(xtst,ytst,100)\n",
    "length.((dtrn,dtst))"
   ]
  },
  {
   "cell_type": "code",
   "execution_count": 4,
   "metadata": {
    "slideshow": {
     "slide_type": "fragment"
    }
   },
   "outputs": [
    {
     "data": {
      "text/plain": [
       "(\"28×28×1×100 Array{Float32,4}\", \"100-element Array{UInt8,1}\")"
      ]
     },
     "execution_count": 4,
     "metadata": {},
     "output_type": "execute_result"
    }
   ],
   "source": [
    "# Each minibatch is an (x,y) pair where x is 100 28x28x1 images and y are the labels.\n",
    "# Here is the first minibatch in the test set:\n",
    "(x,y) = first(dtst)\n",
    "summary.((x,y))"
   ]
  },
  {
   "cell_type": "code",
   "execution_count": 5,
   "metadata": {
    "slideshow": {
     "slide_type": "slide"
    }
   },
   "outputs": [
    {
     "data": {
      "image/png": "[encoded data removed]",
      "text/plain": [
       "28×140 Array{Gray{Float32},2} with eltype Gray{Float32}:\n",
       " Gray{Float32}(0.0)  Gray{Float32}(0.0)  …  Gray{Float32}(0.0)\n",
       " Gray{Float32}(0.0)  Gray{Float32}(0.0)     Gray{Float32}(0.0)\n",
       " Gray{Float32}(0.0)  Gray{Float32}(0.0)     Gray{Float32}(0.0)\n",
       " Gray{Float32}(0.0)  Gray{Float32}(0.0)     Gray{Float32}(0.0)\n",
       " Gray{Float32}(0.0)  Gray{Float32}(0.0)     Gray{Float32}(0.0)\n",
       " Gray{Float32}(0.0)  Gray{Float32}(0.0)  …  Gray{Float32}(0.0)\n",
       " Gray{Float32}(0.0)  Gray{Float32}(0.0)     Gray{Float32}(0.0)\n",
       " Gray{Float32}(0.0)  Gray{Float32}(0.0)     Gray{Float32}(0.0)\n",
       " Gray{Float32}(0.0)  Gray{Float32}(0.0)     Gray{Float32}(0.0)\n",
       " Gray{Float32}(0.0)  Gray{Float32}(0.0)     Gray{Float32}(0.0)\n",
       " Gray{Float32}(0.0)  Gray{Float32}(0.0)  …  Gray{Float32}(0.0)\n",
       " Gray{Float32}(0.0)  Gray{Float32}(0.0)     Gray{Float32}(0.0)\n",
       " Gray{Float32}(0.0)  Gray{Float32}(0.0)     Gray{Float32}(0.0)\n",
       " ⋮                                       ⋱                    \n",
       " Gray{Float32}(0.0)  Gray{Float32}(0.0)     Gray{Float32}(0.0)\n",
       " Gray{Float32}(0.0)  Gray{Float32}(0.0)     Gray{Float32}(0.0)\n",
       " Gray{Float32}(0.0)  Gray{Float32}(0.0)     Gray{Float32}(0.0)\n",
       " Gray{Float32}(0.0)  Gray{Float32}(0.0)     Gray{Float32}(0.0)\n",
       " Gray{Float32}(0.0)  Gray{Float32}(0.0)  …  Gray{Float32}(0.0)\n",
       " Gray{Float32}(0.0)  Gray{Float32}(0.0)     Gray{Float32}(0.0)\n",
       " Gray{Float32}(0.0)  Gray{Float32}(0.0)     Gray{Float32}(0.0)\n",
       " Gray{Float32}(0.0)  Gray{Float32}(0.0)     Gray{Float32}(0.0)\n",
       " Gray{Float32}(0.0)  Gray{Float32}(0.0)     Gray{Float32}(0.0)\n",
       " Gray{Float32}(0.0)  Gray{Float32}(0.0)  …  Gray{Float32}(0.0)\n",
       " Gray{Float32}(0.0)  Gray{Float32}(0.0)     Gray{Float32}(0.0)\n",
       " Gray{Float32}(0.0)  Gray{Float32}(0.0)     Gray{Float32}(0.0)"
      ]
     },
     "execution_count": 5,
     "metadata": {},
     "output_type": "execute_result"
    }
   ],
   "source": [
    "# Here is the first five images from the test set:\n",
    "using Images\n",
    "hcat([mnistview(x,i) for i=1:5]...)"
   ]
  },
  {
   "cell_type": "code",
   "execution_count": 6,
   "metadata": {
    "slideshow": {
     "slide_type": "fragment"
    }
   },
   "outputs": [
    {
     "name": "stdout",
     "output_type": "stream",
     "text": [
      "[7, 2, 1, 10, 4]\n"
     ]
    }
   ],
   "source": [
    "# Here are their labels (10 is used to represent 0)\n",
    "println(Int.(y[1:5]));"
   ]
  },
  {
   "cell_type": "markdown",
   "metadata": {},
   "source": [
    "# Iterators\n",
    "\n",
    "The `minibatch` function returns `dtrn` and `dtst` implemented as Julia iterators. These are lazy objects that only generate their next element when asked. This has the advantage of not wasting memory trying to store all the minibatches. We can even have infinite data generators! Here are some things Julia can do with iterators:"
   ]
  },
  {
   "cell_type": "code",
   "execution_count": 7,
   "metadata": {},
   "outputs": [],
   "source": [
    "using Base.Iterators: take, drop, cycle, Stateful"
   ]
  },
  {
   "cell_type": "code",
   "execution_count": 8,
   "metadata": {},
   "outputs": [
    {
     "name": "stdout",
     "output_type": "stream",
     "text": [
      "n = 100\n"
     ]
    }
   ],
   "source": [
    "# Iterators can be used in for loops\n",
    "# Let's count the elements in dtst:\n",
    "n = 0\n",
    "for (x,y) in dtst; n += 1; end\n",
    "@show n;"
   ]
  },
  {
   "cell_type": "code",
   "execution_count": 9,
   "metadata": {},
   "outputs": [
    {
     "data": {
      "text/plain": [
       "\"100-element Array{Tuple{Array{Float32,4},Array{UInt8,1}},1}\""
      ]
     },
     "execution_count": 9,
     "metadata": {},
     "output_type": "execute_result"
    }
   ],
   "source": [
    "# Iterators can be converted to arrays using `collect` \n",
    "# (don't do this unless necessary, it just wastes memory. Use a for loop instead)\n",
    "collect(dtst) |> summary"
   ]
  },
  {
   "cell_type": "code",
   "execution_count": 10,
   "metadata": {},
   "outputs": [
    {
     "name": "stdout",
     "output_type": "stream",
     "text": [
      "n = 500\n"
     ]
    }
   ],
   "source": [
    "# We can generate an iterator for multiple epochs using `repeat`\n",
    "# (an epoch is a single pass over the dataset)\n",
    "n = 0\n",
    "for (x,y) in repeat(dtst,5); n += 1; end\n",
    "@show n;"
   ]
  },
  {
   "cell_type": "code",
   "execution_count": 11,
   "metadata": {},
   "outputs": [
    {
     "name": "stdout",
     "output_type": "stream",
     "text": [
      "n = 20\n"
     ]
    }
   ],
   "source": [
    "# We can generate partial epochs using `take` which takes the first n elements\n",
    "n = 0\n",
    "for (x,y) in take(dtst,20); n += 1; end\n",
    "@show n;"
   ]
  },
  {
   "cell_type": "code",
   "execution_count": 12,
   "metadata": {},
   "outputs": [
    {
     "name": "stdout",
     "output_type": "stream",
     "text": [
      "n = 80\n"
     ]
    }
   ],
   "source": [
    "# We can also generate partial epochs using `drop` which drops the first n elements\n",
    "n = 0\n",
    "for (x,y) in drop(dtst,20); n += 1; end\n",
    "@show n;"
   ]
  },
  {
   "cell_type": "code",
   "execution_count": 13,
   "metadata": {},
   "outputs": [
    {
     "name": "stdout",
     "output_type": "stream",
     "text": [
      "n = 19831\n"
     ]
    }
   ],
   "source": [
    "# We can repeat forever using `cycle` (this is useful to train until convergence)\n",
    "# You do not want to collect a cycle or run a for loop without break! \n",
    "n = 0; t = time_ns()\n",
    "for (x,y) in cycle(dtst)\n",
    "    n += 1\n",
    "    time_ns() - t > 2e9 && break # Break after 2 seconds\n",
    "end\n",
    "@show n;"
   ]
  },
  {
   "cell_type": "code",
   "execution_count": 14,
   "metadata": {},
   "outputs": [
    {
     "name": "stdout",
     "output_type": "stream",
     "text": [
      "[7, 2, 1, 10, 4]\n",
      "[7, 2, 1, 10, 4]\n",
      "[7, 2, 1, 10, 4]\n",
      "[6, 10, 5, 4, 9]\n"
     ]
    }
   ],
   "source": [
    "# We can make an iterator `Stateful` so it remembers where it left off.\n",
    "# (by default iterators start from the beginning)\n",
    "dtst1 = dtst            # dtst1 will start from beginning every time\n",
    "dtst2 = Stateful(dtst)  # dtst2 will remember where we left off\n",
    "for (x,y) in dtst1; println(Int.(y[1:5])); break; end\n",
    "for (x,y) in dtst1; println(Int.(y[1:5])); break; end\n",
    "for (x,y) in dtst2; println(Int.(y[1:5])); break; end\n",
    "for (x,y) in dtst2; println(Int.(y[1:5])); break; end"
   ]
  },
  {
   "cell_type": "code",
   "execution_count": 15,
   "metadata": {},
   "outputs": [
    {
     "name": "stdout",
     "output_type": "stream",
     "text": [
      "[7, 2, 1, 10, 4]\n",
      "[7, 2, 1, 10, 4]\n",
      "[7, 1, 2, 9, 10]\n",
      "[10, 9, 10, 10, 1]\n"
     ]
    }
   ],
   "source": [
    "# We can shuffle instances at every epoch using the keyword argument `shuffle=true`\n",
    "# (by default elements are generated in the same order)\n",
    "dtst1 = minibatch(xtst,ytst,100)              # dtst1 iterates in the same order\n",
    "dtst2 = minibatch(xtst,ytst,100,shuffle=true) # dtst2 shuffles each time\n",
    "for (x,y) in dtst1; println(Int.(y[1:5])); break; end\n",
    "for (x,y) in dtst1; println(Int.(y[1:5])); break; end\n",
    "for (x,y) in dtst2; println(Int.(y[1:5])); break; end\n",
    "for (x,y) in dtst2; println(Int.(y[1:5])); break; end"
   ]
  },
  {
   "cell_type": "code",
   "execution_count": 16,
   "metadata": {},
   "outputs": [
    {
     "name": "stdout",
     "output_type": "stream",
     "text": [
      "n = 100\n"
     ]
    }
   ],
   "source": [
    "# Every iterator implements the `iterate` function which returns\n",
    "# the next element and state (or nothing if no elements left).\n",
    "# Here is how the for loop for dtst is implemented:\n",
    "n = 0; next = iterate(dtst)\n",
    "while next != nothing\n",
    "    ((x,y), state) = next\n",
    "    n += 1\n",
    "    next = iterate(dtst,state)\n",
    "end\n",
    "@show n;"
   ]
  },
  {
   "cell_type": "code",
   "execution_count": 17,
   "metadata": {},
   "outputs": [
    {
     "data": {
      "text/plain": [
       "1×600 LinearAlgebra.Adjoint{Any,Array{Any,1}}:\n",
       " 8464.93  8514.65  8632.75  8385.32  …  9034.64  8812.92  10116.4  7348.92"
      ]
     },
     "execution_count": 17,
     "metadata": {},
     "output_type": "execute_result"
    }
   ],
   "source": [
    "# You can define your own iterator by defining an `iterate` method.\n",
    "# Here is an iterator that computes sum(abs2,x) for each minibatch:\n",
    "struct Xnorm; itr; end\n",
    "\n",
    "function Base.iterate(f::Xnorm, s...)\n",
    "    next = iterate(f.itr, s...)\n",
    "    next === nothing && return nothing\n",
    "    ((x,y),state) = next\n",
    "    return sum(abs2,x), state\n",
    "end\n",
    "\n",
    "Base.length(f::Xnorm) = length(f.itr) # collect needs this\n",
    "\n",
    "collect(Xnorm(dtrn))'"
   ]
  },
  {
   "cell_type": "code",
   "execution_count": 18,
   "metadata": {},
   "outputs": [
    {
     "data": {
      "text/plain": [
       "1×600 LinearAlgebra.Adjoint{Float32,Array{Float32,1}}:\n",
       " 8464.93  8514.65  8632.75  8385.32  …  9034.64  8812.92  10116.4  7348.92"
      ]
     },
     "execution_count": 18,
     "metadata": {},
     "output_type": "execute_result"
    }
   ],
   "source": [
    "# The same result can be more compactly obtained using [Generator expressions](https://docs.julialang.org/en/v1/manual/arrays/#Generator-Expressions-1)\n",
    "xnorm(data) = (sum(abs2,x) for (x,y) in data)\n",
    "collect(xnorm(dtrn))'"
   ]
  },
  {
   "cell_type": "code",
   "execution_count": null,
   "metadata": {},
   "outputs": [],
   "source": []
  }
 ],
 "metadata": {
  "accelerator": "GPU",
  "colab": {
   "collapsed_sections": [],
   "name": "julia.ipynb",
   "provenance": [],
   "version": "0.3.2"
  },
  "kernelspec": {
   "display_name": "Julia 1.0.3",
   "language": "julia",
   "name": "julia-1.0"
  },
  "language_info": {
   "file_extension": ".jl",
   "mimetype": "application/julia",
   "name": "julia",
   "version": "1.0.3"
  }
 },
 "nbformat": 4,
 "nbformat_minor": 1
}
