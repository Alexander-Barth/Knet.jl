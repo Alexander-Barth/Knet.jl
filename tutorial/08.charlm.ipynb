{
 "cells": [
  {
   "cell_type": "markdown",
   "metadata": {
    "slideshow": {
     "slide_type": "slide"
    }
   },
   "source": [
    "# Character based RNN language model\n",
    "(c) Deniz Yuret, 2018. Based on http://karpathy.github.io/2015/05/21/rnn-effectiveness."
   ]
  },
  {
   "cell_type": "markdown",
   "metadata": {},
   "source": [
    "* Objectives: Learn to define and train a character based language model and generate text from it. Minibatch blocks of text. Keep a persistent RNN state between updates. Train a Shakespeare generator and a Julia programmer using the same type of model.\n",
    "* Prerequisites: [RNN basics](06.rnn.ipynb), minibatch, param, param0, RNN, dropout, train!, Adam, nll"
   ]
  },
  {
   "cell_type": "code",
   "execution_count": 1,
   "metadata": {},
   "outputs": [],
   "source": [
    "using Pkg\n",
    "for p in (\"Knet\",\"ProgressMeter\")\n",
    "    haskey(Pkg.installed(),p) || Pkg.add(p)\n",
    "end"
   ]
  },
  {
   "cell_type": "markdown",
   "metadata": {},
   "source": [
    "## Define the model"
   ]
  },
  {
   "cell_type": "code",
   "execution_count": 2,
   "metadata": {},
   "outputs": [],
   "source": [
    "using Knet: param, param0, RNN, dropout"
   ]
  },
  {
   "cell_type": "code",
   "execution_count": 3,
   "metadata": {},
   "outputs": [],
   "source": [
    "struct Embed; w; end\n",
    "\n",
    "Embed(vocab::Int,embed::Int)=Embed(param(embed,vocab))\n",
    "\n",
    "(e::Embed)(x) = e.w[:,x]"
   ]
  },
  {
   "cell_type": "code",
   "execution_count": 4,
   "metadata": {},
   "outputs": [],
   "source": [
    "struct Linear; w; b; end\n",
    "\n",
    "Linear(input::Int, output::Int)=Linear(param(output,input), param0(output))\n",
    "\n",
    "(l::Linear)(x) = l.w * x .+ l.b"
   ]
  },
  {
   "cell_type": "code",
   "execution_count": 5,
   "metadata": {},
   "outputs": [],
   "source": [
    "struct CharLM; input; rnn; output; end\n",
    "\n",
    "CharLM(vocab::Int,input::Int,hidden::Int; o...) = \n",
    "    CharLM(Embed(vocab,input), RNN(input,hidden; o...), Linear(hidden,vocab))\n",
    "\n",
    "function (c::CharLM)(x; pdrop=0, hidden=nothing)\n",
    "    x = c.input(x)                # (B,T)->(X,B,T)\n",
    "    x = dropout(x, pdrop)\n",
    "    x = c.rnn(x, hidden=hidden)   # (H,B,T)\n",
    "    x = dropout(x, pdrop)\n",
    "    x = reshape(x, size(x,1), :)  # (H,B*T)\n",
    "    return c.output(x)            # (V,B*T)\n",
    "end"
   ]
  },
  {
   "cell_type": "code",
   "execution_count": 6,
   "metadata": {
    "slideshow": {
     "slide_type": "slide"
    }
   },
   "outputs": [],
   "source": [
    "# To generate text from trained models\n",
    "function generate(model,chars,n)\n",
    "    function sample(y)\n",
    "        p = Array(exp.(y)); r = rand()*sum(p)\n",
    "        for j=1:length(p); (r -= p[j]) < 0 && return j; end\n",
    "    end\n",
    "    x = 1\n",
    "    h = []\n",
    "    for i=1:n\n",
    "        y = model([x], hidden=h)\n",
    "        x = sample(y)\n",
    "        print(chars[x])\n",
    "    end\n",
    "    println()\n",
    "end;"
   ]
  },
  {
   "cell_type": "code",
   "execution_count": 7,
   "metadata": {},
   "outputs": [
    {
     "data": {
      "text/plain": [
       "trainresults (generic function with 1 method)"
      ]
     },
     "execution_count": 7,
     "metadata": {},
     "output_type": "execute_result"
    }
   ],
   "source": [
    "# For running experiments\n",
    "using Knet: train!, Adam; import ProgressMeter\n",
    "function trainresults(file,model,chars)\n",
    "    if (print(\"Train from scratch? \");readline()[1]=='y')\n",
    "        updates = 0; prog = ProgressMeter.Progress(EPOCHS * length(dtrn))\n",
    "        callback(J)=(ProgressMeter.update!(prog, updates); (updates += 1) <= prog.n)\n",
    "        opt = Adam(lr=LR, beta1=BETA_1, beta2=BETA_2, eps=EPS)\n",
    "        train!(model, dtrn; callback=callback, optimizer=opt, pdrop=DROPOUT, hidden=[])\n",
    "        Knet.gc(); Knet.save(file,\"model\",model,\"chars\",chars)\n",
    "    else\n",
    "        isfile(file) || download(\"http://people.csail.mit.edu/deniz/models/tutorial/$file\",file)\n",
    "        model,chars = Knet.load(file,\"model\",\"chars\")\n",
    "    end\n",
    "    return model,chars\n",
    "end"
   ]
  },
  {
   "cell_type": "markdown",
   "metadata": {},
   "source": [
    "## The Complete Works of William Shakespeare"
   ]
  },
  {
   "cell_type": "code",
   "execution_count": 8,
   "metadata": {
    "slideshow": {
     "slide_type": "slide"
    }
   },
   "outputs": [],
   "source": [
    "RNNTYPE = :lstm\n",
    "BATCHSIZE = 256\n",
    "SEQLENGTH = 100\n",
    "INPUTSIZE = 168\n",
    "VOCABSIZE = 84\n",
    "HIDDENSIZE = 334\n",
    "NUMLAYERS = 1\n",
    "DROPOUT = 0.0\n",
    "LR=0.001\n",
    "BETA_1=0.9\n",
    "BETA_2=0.999\n",
    "EPS=1e-08\n",
    "EPOCHS = 30\n",
    "ENV[\"COLUMNS\"]=92;"
   ]
  },
  {
   "cell_type": "code",
   "execution_count": 9,
   "metadata": {
    "slideshow": {
     "slide_type": "slide"
    }
   },
   "outputs": [
    {
     "data": {
      "text/plain": [
       "(\"4934845-element Array{UInt8,1}\", \"526731-element Array{UInt8,1}\", \"84-element Array{Char,1}\")"
      ]
     },
     "execution_count": 9,
     "metadata": {},
     "output_type": "execute_result"
    }
   ],
   "source": [
    "# Load 'The Complete Works of William Shakespeare'\n",
    "using Knet: Knet\n",
    "include(Knet.dir(\"data\",\"gutenberg.jl\"))\n",
    "trn,tst,chars = shakespeare()\n",
    "map(summary,(trn,tst,chars))"
   ]
  },
  {
   "cell_type": "code",
   "execution_count": 10,
   "metadata": {
    "slideshow": {
     "slide_type": "fragment"
    }
   },
   "outputs": [
    {
     "name": "stdout",
     "output_type": "stream",
     "text": [
      "\r\n",
      "    Cheated of feature by dissembling nature,\r\n",
      "    Deform'd, unfinish'd, sent before my time\r\n",
      "    Into this breathing world scarce half made up,\r\n",
      "    And that so lamely and unfashionable\r\n",
      " \n"
     ]
    }
   ],
   "source": [
    "# Print a sample\n",
    "println(string(chars[trn[1020:1210]]...)) "
   ]
  },
  {
   "cell_type": "code",
   "execution_count": 11,
   "metadata": {
    "slideshow": {
     "slide_type": "slide"
    }
   },
   "outputs": [
    {
     "data": {
      "text/plain": [
       "(192, 20)"
      ]
     },
     "execution_count": 11,
     "metadata": {},
     "output_type": "execute_result"
    }
   ],
   "source": [
    "# Minibatch data\n",
    "using Knet: minibatch\n",
    "function mb(a)\n",
    "    N = length(a) ÷ BATCHSIZE\n",
    "    x = reshape(a[1:N*BATCHSIZE],N,BATCHSIZE)' # reshape full data to (B,N) with contiguous rows\n",
    "    minibatch(x[:,1:N-1], x[:,2:N], SEQLENGTH) # split into (B,T) blocks \n",
    "end\n",
    "dtrn,dtst = mb.((trn,tst))\n",
    "length.((dtrn,dtst))"
   ]
  },
  {
   "cell_type": "code",
   "execution_count": 12,
   "metadata": {},
   "outputs": [
    {
     "data": {
      "text/plain": [
       "(\"256×100 Array{UInt8,2}\", \"256×100 Array{UInt8,2}\")"
      ]
     },
     "execution_count": 12,
     "metadata": {},
     "output_type": "execute_result"
    }
   ],
   "source": [
    "summary.(first(dtrn))  # each x and y have dimensions (BATCHSIZE,SEQLENGTH)"
   ]
  },
  {
   "cell_type": "code",
   "execution_count": 13,
   "metadata": {},
   "outputs": [
    {
     "name": "stdout",
     "output_type": "stream",
     "text": [
      "Train from scratch? stdin> n\n"
     ]
    }
   ],
   "source": [
    "using Knet: AutoGrad\n",
    "shakemodel,shakechars = trainresults(\"shakespeare.jld2\", \n",
    "    CharLM(VOCABSIZE, INPUTSIZE, HIDDENSIZE; rnnType=RNNTYPE, numLayers=NUMLAYERS, dropout=DROPOUT), chars);"
   ]
  },
  {
   "cell_type": "code",
   "execution_count": 14,
   "metadata": {},
   "outputs": [
    {
     "data": {
      "text/plain": [
       "4.175054f0"
      ]
     },
     "execution_count": 14,
     "metadata": {},
     "output_type": "execute_result"
    }
   ],
   "source": [
    "using Knet: nll\n",
    "exp(nll(shakemodel,dtst))  # Perplexity"
   ]
  },
  {
   "cell_type": "code",
   "execution_count": 15,
   "metadata": {
    "slideshow": {
     "slide_type": "slide"
    }
   },
   "outputs": [
    {
     "name": "stdout",
     "output_type": "stream",
     "text": [
      "ment.\n",
      "ANTIPHAOLUS OF EPHESUS. You know, my lord lords, let the wreshsome birth\n",
      "  Affligers formering youth be with thy idle\n",
      "  There is fear'd, all with the force of quarrel ran there.\n",
      "  Within icellance to you for she could Dircess,\n",
      "  'If thou drrew'd or nothing the England's rock.\n",
      "AUGE. Mean! \"Where renowned Got speaking part,\n",
      "     This day of country'st wrantless fellowed carliquis, I\n",
      "     to well gold on.\n",
      "  Os, Falstaff England. Bed with onvilers to the knavies\n",
      "  LUCENTIO. As if thou his breast in't, and 'Jadam,\n",
      "    Dreadful true, lady; when I apel fair,\n",
      "    For those help crutly Troyan petilone!\n",
      "    Some wenches, you may be cock, brother, we know,\n",
      "    And so indeed no less on the day does\n",
      "    That needs this- it phyied on walks to thee.  \n",
      "    But know you undervy, suid there be loose;\n",
      "    What sleeps I frightly command this fault,\n",
      "    It were gentlemen.\n",
      "  POSTARD. Good godem.\n",
      "  CLOWN. Neither knowing the heads\n",
      "    Trathed little recondstitancerous print.\n",
      "    H\n"
     ]
    }
   ],
   "source": [
    "generate(shakemodel,shakechars,1000)"
   ]
  },
  {
   "cell_type": "markdown",
   "metadata": {},
   "source": [
    "## Julia programmer"
   ]
  },
  {
   "cell_type": "code",
   "execution_count": 16,
   "metadata": {},
   "outputs": [],
   "source": [
    "RNNTYPE = :lstm\n",
    "BATCHSIZE = 64\n",
    "SEQLENGTH = 64\n",
    "INPUTSIZE = 512\n",
    "VOCABSIZE = 128\n",
    "HIDDENSIZE = 512\n",
    "NUMLAYERS = 2\n",
    "DROPOUT = 0.0\n",
    "LR=0.001\n",
    "BETA_1=0.9\n",
    "BETA_2=0.999\n",
    "EPS=1e-08\n",
    "EPOCHS = 10\n",
    "ENV[\"COLUMNS\"]=92;"
   ]
  },
  {
   "cell_type": "code",
   "execution_count": 17,
   "metadata": {},
   "outputs": [
    {
     "data": {
      "text/plain": [
       "9131265"
      ]
     },
     "execution_count": 17,
     "metadata": {},
     "output_type": "execute_result"
    }
   ],
   "source": [
    "# Read julia base library source code\n",
    "base = joinpath(Sys.BINDIR, Base.DATAROOTDIR, \"julia\")\n",
    "text = \"\"\n",
    "for (root,dirs,files) in walkdir(base)\n",
    "    for f in files\n",
    "        f[end-2:end] == \".jl\" || continue\n",
    "        text *= read(joinpath(root,f), String)\n",
    "    end\n",
    "    # println((root,length(files),all(f->contains(f,\".jl\"),files)))\n",
    "end\n",
    "length(text)"
   ]
  },
  {
   "cell_type": "code",
   "execution_count": 18,
   "metadata": {},
   "outputs": [
    {
     "data": {
      "text/plain": [
       "3642×2 Array{Any,2}:\n",
       " ' '   1971836\n",
       " 'e'    548012\n",
       " 't'    477724\n",
       " 'n'    343215\n",
       " 'r'    338122\n",
       " 'i'    329419\n",
       " 's'    325865\n",
       " 'a'    316561\n",
       " 'o'    275999\n",
       " '\\n'   265652\n",
       " 'l'    203478\n",
       " ','    200306\n",
       " ')'    194094\n",
       " ⋮            \n",
       " 'ה'         1\n",
       " '🍢'         1\n",
       " '𝗾'         1\n",
       " '𝔔'         1\n",
       " 'É'         1\n",
       " '𝓟'         1\n",
       " '𝚿'         1\n",
       " '𝕨'         1\n",
       " 'ɛ'         1\n",
       " 'Χ'         1\n",
       " '🕙'         1\n",
       " 'ℚ'         1"
      ]
     },
     "execution_count": 18,
     "metadata": {},
     "output_type": "execute_result"
    }
   ],
   "source": [
    "# Find unique chars, sort by frequency, assign integer ids.\n",
    "charcnt = Dict{Char,Int}()\n",
    "for c in text; charcnt[c]=1+get(charcnt,c,0); end\n",
    "chars = sort(collect(keys(charcnt)), by=(x->charcnt[x]), rev=true)\n",
    "charid = Dict{Char,Int}()\n",
    "for i=1:length(chars); charid[chars[i]]=i; end\n",
    "hcat(chars, map(c->charcnt[c],chars))"
   ]
  },
  {
   "cell_type": "code",
   "execution_count": 19,
   "metadata": {},
   "outputs": [
    {
     "data": {
      "text/plain": [
       "(9131265, 8606977, 524288)"
      ]
     },
     "execution_count": 19,
     "metadata": {},
     "output_type": "execute_result"
    }
   ],
   "source": [
    "# Keep only VOCABSIZE most frequent chars, split into train and test\n",
    "data = map(c->charid[c], collect(text))\n",
    "data[data .> VOCABSIZE] .= VOCABSIZE\n",
    "ntst = 1<<19\n",
    "tst = data[1:ntst]\n",
    "trn = data[1+ntst:end]\n",
    "length.((data,trn,tst))"
   ]
  },
  {
   "cell_type": "code",
   "execution_count": 20,
   "metadata": {},
   "outputs": [
    {
     "name": "stdout",
     "output_type": "stream",
     "text": [
      "u\n",
      "        end\n",
      "    end\n",
      "\n",
      "    f = Symbol(umf_nm(\"free_numeric\", Tv, Ti))\n",
      "    @eval begin\n",
      "        function ($f)(num::Ptr{Cvoid})\n",
      "            tmp = [num]\n",
      "            ccall(($(string(f)), :libumfpack), Cvoid, (Ptr{Cvoid},), tmp)\n",
      "        end\n",
      "        function umfpack_free_numeric(lu::UmfpackLU{$Tv,$Ti})\n",
      "            if lu.numeric == C_NULL return lu end\n",
      "            ($f)(lu.numeric)\n",
      "            lu.numeric = C_NULL\n",
      "            return lu\n",
      "        end\n",
      "    end\n",
      "end\n",
      "\n",
      "function umfpack_report_symbolic(symb::Ptr{Cvoid}, level::Real)\n",
      "    old_prl::Float64 = umf_ctrl[UMFPACK_PRL]\n",
      "    umf_ctrl[UMFPACK_PRL] = Float64(level)\n",
      "    @isok ccall((:umfpack_dl_report_symbolic, :libumfpack), Int,\n",
      "                (Ptr{Cvoid}, Ptr{Float64}), symb, umf_ctrl)\n",
      "    umf_ctrl[UMFPACK_PRL] = old_prl\n",
      "end\n",
      "\n",
      "umfpack_report_symbolic(symb::Ptr{Cvoid}) = umfpack_report_symbolic(symb, 4.)\n",
      "\n",
      "function umfpack_report_symbolic(lu::UmfpackLU, level::Real)\n",
      "    umfpack_report_symbolic(umfpack_symbolic!(lu).symbolic, level)\n",
      "end\n",
      "\n",
      "umfpack_report_s\n"
     ]
    }
   ],
   "source": [
    "# Print a sample\n",
    "r = rand(1:(length(trn)-1000))\n",
    "println(string(chars[trn[r:r+1000]]...)) "
   ]
  },
  {
   "cell_type": "code",
   "execution_count": 21,
   "metadata": {},
   "outputs": [
    {
     "data": {
      "text/plain": [
       "(2101, 127)"
      ]
     },
     "execution_count": 21,
     "metadata": {},
     "output_type": "execute_result"
    }
   ],
   "source": [
    "# Minibatch data\n",
    "using Knet: minibatch\n",
    "function mb(a)\n",
    "    N = length(a) ÷ BATCHSIZE\n",
    "    x = reshape(a[1:N*BATCHSIZE],N,BATCHSIZE)' # reshape full data to (B,N) with contiguous rows\n",
    "    minibatch(x[:,1:N-1], x[:,2:N], SEQLENGTH) # split into (B,T) blocks \n",
    "end\n",
    "dtrn,dtst = mb.((trn,tst))\n",
    "length.((dtrn,dtst))"
   ]
  },
  {
   "cell_type": "code",
   "execution_count": 22,
   "metadata": {},
   "outputs": [
    {
     "data": {
      "text/plain": [
       "(\"64×64 Array{Int64,2}\", \"64×64 Array{Int64,2}\")"
      ]
     },
     "execution_count": 22,
     "metadata": {},
     "output_type": "execute_result"
    }
   ],
   "source": [
    "summary.(first(dtrn))  # each x and y have dimensions (BATCHSIZE,SEQLENGTH)"
   ]
  },
  {
   "cell_type": "code",
   "execution_count": 23,
   "metadata": {},
   "outputs": [
    {
     "name": "stdout",
     "output_type": "stream",
     "text": [
      "Train from scratch? stdin> n\n"
     ]
    }
   ],
   "source": [
    "using Knet: AutoGrad\n",
    "juliamodel,juliachars = trainresults(\"juliacharlm.jld2\", \n",
    "    CharLM(VOCABSIZE, INPUTSIZE, HIDDENSIZE; rnnType=RNNTYPE, numLayers=NUMLAYERS, dropout=DROPOUT),chars);"
   ]
  },
  {
   "cell_type": "code",
   "execution_count": 24,
   "metadata": {},
   "outputs": [
    {
     "data": {
      "text/plain": [
       "4.802427f0"
      ]
     },
     "execution_count": 24,
     "metadata": {},
     "output_type": "execute_result"
    }
   ],
   "source": [
    "using Knet: nll\n",
    "exp(nll(juliamodel,dtst))  # Perplexity"
   ]
  },
  {
   "cell_type": "code",
   "execution_count": 25,
   "metadata": {},
   "outputs": [
    {
     "name": "stdout",
     "output_type": "stream",
     "text": [
      " # tolim just precise-charwabbrr characters)\n",
      "\n",
      "    \"\"\"\n",
      "    scale_cmp([summary.safep, select...], inf_end)\n",
      "    ((i < i + 2) && isnan(y) ? Complex{T}(x)) : min((x, y))\n",
      "    cf <= sizeof(Int(l)) # 0 bits\n",
      "end\n",
      "\n",
      "@testset) TerminalMenu expression 1.\n",
      "# This file is a part of Julia. License is MIT: https://julialang.org/license\n",
      "\n",
      "export Uff_method\n",
      "using .Future\n",
      "@test diy_fp.struct === Union{Float64, Float64}\n",
      "\n",
      "# test rounding methods to finition table.\n",
      "import Libdl\n",
      "import Libdl\n",
      "DLt\n",
      "\n",
      "@test rr.dest[1][1] == DocULeverError(docstrtraigbes2docatests)\n",
      "test_15995(@repurse_mt),\n",
      "    # needed for mibccs and/using a debug\n",
      "finalize(-) # wait to the sdiagonal in bitarization store., and is determined safe\n",
      "# * Max{N} ... capturely depends and all the documentation of the above in the waiting where f(id) whll binary\n",
      "complexity remaining of type `T` have checkset cases.\n",
      "if implicit_read(IOBuffer(), CustomTestSet, DataType, Rebuffer)\n",
      "    # N15, the } handlee on the cache DNS tha ARC libraries\n",
      "    @test remotecall_f\n"
     ]
    }
   ],
   "source": [
    "generate(juliamodel,juliachars,1000)"
   ]
  },
  {
   "cell_type": "code",
   "execution_count": null,
   "metadata": {},
   "outputs": [],
   "source": []
  }
 ],
 "metadata": {
  "accelerator": "GPU",
  "colab": {
   "collapsed_sections": [],
   "name": "julia.ipynb",
   "provenance": [],
   "version": "0.3.2"
  },
  "kernelspec": {
   "display_name": "Julia 1.0.1",
   "language": "julia",
   "name": "julia-1.0"
  },
  "language_info": {
   "file_extension": ".jl",
   "mimetype": "application/julia",
   "name": "julia",
   "version": "1.0.1"
  }
 },
 "nbformat": 4,
 "nbformat_minor": 2
}
