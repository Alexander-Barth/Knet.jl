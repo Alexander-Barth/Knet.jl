{
 "cells": [
  {
   "cell_type": "markdown",
   "metadata": {
    "slideshow": {
     "slide_type": "slide"
    }
   },
   "source": [
    "# Introduction to Recurrent Neural Networks\n",
    "(c) Deniz Yuret, 2018"
   ]
  },
  {
   "cell_type": "markdown",
   "metadata": {},
   "source": [
    "* Objectives: learn about RNNs, the RNN layer, compare with MLP on a tagging task.\n",
    "* Prerequisites: param, train!, Train, Adam, relu"
   ]
  },
  {
   "cell_type": "markdown",
   "metadata": {},
   "source": [
    "## The Brown Corpus\n",
    "To introduce recurrent neural networks (RNNs) we will train a part-of-speech tagger using the [Brown Corpus](https://en.wikipedia.org/wiki/Brown_Corpus). We will train three models: a MLP, a unidirectional RNN, a bidirectional RNN and observe significant performance differences."
   ]
  },
  {
   "cell_type": "code",
   "execution_count": 1,
   "metadata": {},
   "outputs": [
    {
     "name": "stdout",
     "output_type": "stream",
     "text": [
      "The Brown Corpus has 57340 sentences, 1161192 tokens, with a word vocabulary of 56057 and a tag vocabulary of 472.\n"
     ]
    }
   ],
   "source": [
    "using Knet: Knet\n",
    "include(Knet.dir(\"data/nltk.jl\"))\n",
    "(data,words,tags) = brown()\n",
    "println(\"The Brown Corpus has $(length(data)) sentences, $(sum(length(p[1]) for p in data)) tokens, with a word vocabulary of $(length(words)) and a tag vocabulary of $(length(tags)).\")"
   ]
  },
  {
   "cell_type": "markdown",
   "metadata": {},
   "source": [
    "`data` is an array of `(w,t)` pairs each representing a sentence, where `w` is a sequence of word ids, and `t` is a sequence of tag ids. `words` and `tags` contain the strings for the ids. "
   ]
  },
  {
   "cell_type": "code",
   "execution_count": 2,
   "metadata": {},
   "outputs": [
    {
     "data": {
      "text/plain": [
       "(\"57340-element Array{Tuple{Array{UInt16,1},Array{UInt16,1}},1}\", \"56057-element Array{String,1}\", \"472-element Array{String,1}\")"
      ]
     },
     "execution_count": 2,
     "metadata": {},
     "output_type": "execute_result"
    }
   ],
   "source": [
    "summary.((data,words,tags))"
   ]
  },
  {
   "cell_type": "markdown",
   "metadata": {},
   "source": [
    "Here is what the first sentence looks like with ids and with strings:"
   ]
  },
  {
   "cell_type": "code",
   "execution_count": 3,
   "metadata": {},
   "outputs": [
    {
     "data": {
      "text/plain": [
       "2×25 Array{UInt16,2}:\n",
       " 0x000f  0x16e4  0x0510  0x15dd  0x443c  0x003c  0x075e  …  0x000e  0x0009  0x0055  0x2714  0x00dd  0x00bd  0x0003\n",
       " 0x0003  0x0028  0x0015  0x0027  0x0015  0x000d  0x003a     0x001d  0x000e  0x002e  0x0007  0x000d  0x0001  0x0005"
      ]
     },
     "metadata": {},
     "output_type": "display_data"
    },
    {
     "data": {
      "text/plain": [
       "2×25 Array{String,2}:\n",
       " \"The\"  \"Fulton\"  \"County\"  \"Grand\"  \"Jury\"   \"said\"  …  \"that\"  \"any\"  \"irregularities\"  \"took\"  \"place\"  \".\"\n",
       " \"at\"   \"np-tl\"   \"nn-tl\"   \"jj-tl\"  \"nn-tl\"  \"vbd\"      \"cs\"    \"dti\"  \"nns\"             \"vbd\"   \"nn\"     \".\""
      ]
     },
     "metadata": {},
     "output_type": "display_data"
    }
   ],
   "source": [
    "ENV[\"COLUMNS\"]=120\n",
    "(w,t) = first(data)\n",
    "display(permutedims([w t]))\n",
    "display(permutedims([words[w] tags[t]]))"
   ]
  },
  {
   "cell_type": "markdown",
   "metadata": {},
   "source": [
    "## Word Embeddings\n",
    "`data` has each sentence tokenized into an array of words and each word mapped to a `UInt16` id. To use these words as inputs to a neural network we further map each word to a Float32 vector. We will keep these vectors in the columns of a size (X,V) matrix where X is the embedding dimension and V is the vocabulary size. The vectors will be initialized randomly, and trained just like any other network parameter. Let's define an embedding layer for this purpose:"
   ]
  },
  {
   "cell_type": "code",
   "execution_count": 4,
   "metadata": {},
   "outputs": [],
   "source": [
    "using Knet: param\n",
    "struct Embed; w; end\n",
    "Embed(vocabsize::Int,embedsize::Int) = Embed(param(embedsize,vocabsize))\n",
    "(e::Embed)(x) = e.w[:,x]"
   ]
  },
  {
   "cell_type": "markdown",
   "metadata": {},
   "source": [
    "This is what the words, word ids and embeddings for a sentence looks like: (note the identical id and embedding for the 2nd and 5th words)"
   ]
  },
  {
   "cell_type": "code",
   "execution_count": 5,
   "metadata": {
    "scrolled": true
   },
   "outputs": [
    {
     "data": {
      "text/plain": [
       "1×7 Array{String,2}:\n",
       " \"Rapping\"  \"the\"  \"stick\"  \"against\"  \"the\"  \"desk\"  \".\""
      ]
     },
     "metadata": {},
     "output_type": "display_data"
    },
    {
     "data": {
      "text/plain": [
       "1×7 Array{UInt16,2}:\n",
       " 0xbb1c  0x0001  0x0bc6  0x00a3  0x0001  0x06b7  0x0003"
      ]
     },
     "metadata": {},
     "output_type": "display_data"
    },
    {
     "data": {
      "text/plain": [
       "8×7 Array{Float32,2}:\n",
       "  0.00449417   0.00490984   0.00462522   -0.0021955     0.00490984   0.00111493    0.00510001\n",
       " -0.00301878  -0.00513508   0.00510575   -0.00396186   -0.00513508   0.00187766    0.00400152\n",
       " -0.00496544   0.00153929  -0.005417      0.00483976    0.00153929   0.000386565   0.00205652\n",
       "  0.00307459   0.00590658   0.00278484    0.00171649    0.00590658   0.00556928    0.00333731\n",
       " -0.00365931   0.00214283  -0.000839027  -0.00522254    0.00214283  -0.00194581   -0.00428738\n",
       " -0.00472921   0.0056069   -0.00395523    0.000618473   0.0056069   -0.00200072   -0.0028218 \n",
       " -0.00366795   5.08159e-5   0.00322368    0.00422737    5.08159e-5  -0.00200981   -0.00569366\n",
       "  0.00189759   0.00565007   0.00143426   -0.00272972    0.00565007  -0.00481315    0.00424067"
      ]
     },
     "metadata": {},
     "output_type": "display_data"
    }
   ],
   "source": [
    "embedlayer = Embed(length(words),8)\n",
    "(w,t) = data[52855]\n",
    "display(permutedims(words[w]))\n",
    "display(permutedims(w))\n",
    "display(embedlayer(w))"
   ]
  },
  {
   "cell_type": "markdown",
   "metadata": {},
   "source": [
    "## Fully connected layers"
   ]
  },
  {
   "cell_type": "code",
   "execution_count": 6,
   "metadata": {},
   "outputs": [],
   "source": [
    "# Fully connected (Linear) layer with optional activation function at the end\n",
    "struct FC; w; b; f; end\n",
    "FC(input::Int,output::Int,f=identity) = FC(param(output,input),param(output),f)\n",
    "reshape2d(x) = reshape(x,(size(x,1),:))\n",
    "(fc::FC)(x;o...) = fc.f.(fc.w * reshape2d(x) .+ fc.b)"
   ]
  },
  {
   "cell_type": "markdown",
   "metadata": {},
   "source": [
    "## RNN layers"
   ]
  },
  {
   "cell_type": "code",
   "execution_count": 7,
   "metadata": {},
   "outputs": [],
   "source": [
    "# TODO: define these manually, for now just check out @doc RNN\n",
    "using Knet: RNN"
   ]
  },
  {
   "cell_type": "markdown",
   "metadata": {},
   "source": [
    "## The three taggers: MLP, RNN, biRNN"
   ]
  },
  {
   "cell_type": "code",
   "execution_count": 8,
   "metadata": {},
   "outputs": [],
   "source": [
    "# A chain of layers\n",
    "struct Chain; layers; end\n",
    "Chain(layer1,layer2,layers...)=Chain((layer1,layer2,layers...))\n",
    "(c::Chain)(x;o...) = (for l in c.layers; x = l(x;o...); end; x)"
   ]
  },
  {
   "cell_type": "code",
   "execution_count": 9,
   "metadata": {},
   "outputs": [],
   "source": [
    "Tagger0(vocab,embed,hidden,output)=  # MLP Tagger\n",
    "    Chain(Embed(vocab,embed),FC(embed,hidden,relu),FC(hidden,output))\n",
    "Tagger1(vocab,embed,hidden,output)=  # RNN Tagger\n",
    "    Chain(Embed(vocab,embed),RNN(embed,hidden,rnnType=:relu),FC(hidden,output))\n",
    "Tagger2(vocab,embed,hidden,output)=  # biRNN Tagger\n",
    "    Chain(Embed(vocab,embed),RNN(embed,hidden,rnnType=:relu,bidirectional=true),FC(2hidden,output));"
   ]
  },
  {
   "cell_type": "code",
   "execution_count": 10,
   "metadata": {},
   "outputs": [],
   "source": [
    "# TODO: we need pictures here."
   ]
  },
  {
   "cell_type": "markdown",
   "metadata": {},
   "source": [
    "## Sequence Minibatching\n",
    "Minibatching is a bit more complicated with sequences compared to simple classification problems, this section can be skipped on a first reading. In addition to the input and minibatch sizes, there is also the time dimension to consider. To keep things simple we will concatenate all sentences into one big sequence, then split this sequence into equal sized chunks. The input to the tagger will be size (B,T) where B is the minibatch size, and T is the chunk size. The input to the RNN layer will be size (X,B,T) where X is the embedding size."
   ]
  },
  {
   "cell_type": "code",
   "execution_count": 11,
   "metadata": {},
   "outputs": [],
   "source": [
    "BATCHSIZE = 64\n",
    "SEQLENGTH = 32;"
   ]
  },
  {
   "cell_type": "code",
   "execution_count": 12,
   "metadata": {},
   "outputs": [],
   "source": [
    "function seqbatch(x,y,B,T)\n",
    "    N = length(x) ÷ B\n",
    "    x = permutedims(reshape(x[1:N*B],N,B))\n",
    "    y = permutedims(reshape(y[1:N*B],N,B))\n",
    "    d = []; for i in 0:T:N-T\n",
    "        push!(d, (x[:,i+1:i+T], y[:,i+1:i+T]))\n",
    "    end\n",
    "    return d\n",
    "end\n",
    "allw = vcat((x->x[1]).(data)...)\n",
    "allt = vcat((x->x[2]).(data)...)\n",
    "d = seqbatch(allw, allt, BATCHSIZE, SEQLENGTH);"
   ]
  },
  {
   "cell_type": "markdown",
   "metadata": {},
   "source": [
    "This may be a bit more clear if we look at an example minibatch:"
   ]
  },
  {
   "cell_type": "code",
   "execution_count": 13,
   "metadata": {},
   "outputs": [
    {
     "data": {
      "text/plain": [
       "64×32 Array{String,2}:\n",
       " \"The\"              \"Fulton\"    \"County\"         \"Grand\"        …  \"in\"         \"term-end\"     \"presentments\" \n",
       " \"director\"         \"of\"        \"architecture\"   \"and\"             \"accepting\"  \"gifts\"        \"from\"         \n",
       " \"local\"            \"club\"      \"to\"             \"import\"          \",\"          \"who\"          \"will\"         \n",
       " \".\"                \"The\"       \"judge\"          \"replaced\"        \"opening\"    \"of\"           \"the\"          \n",
       " \"plans\"            \"titled\"    \"``\"             \"Threshold\"       \"Kong\"       \"this\"         \"fall\"         \n",
       " \"admitted\"         \"for\"       \"next\"           \"fall\"         …  \"interview\"  \"''\"           \".\"            \n",
       " \"American\"         \"system\"    \"?\"              \"?\"               \"the\"        \"patriotic\"    \"apprehensions\"\n",
       " \"of\"               \"the\"       \"King\"           \"James\"           \"``\"         \"Then\"         \"cometh\"       \n",
       " \"the\"              \"misdeeds\"  \"of\"             \"his\"             \"he\"         \"is\"           \"entitled\"     \n",
       " \"entertaining\"     \"and\"       \"irresponsible\"  \"novels\"          \"take\"       \"from\"         \"these\"        \n",
       " \"is\"               \"merely\"    \"more\"           \"mindful\"      …  \"slavish\"    \"to\"           \"the\"          \n",
       " \"is\"               \"not\"       \"only\"           \"unnecessary\"     \"bloc\"       \"that\"         \"any\"          \n",
       " \"has\"              \"said\"      \":\"              \"``\"              \"is\"         \"important\"    \"that\"         \n",
       " ⋮                                                              ⋱               ⋮                             \n",
       " \".\"                \"But\"       \",\"              \"of\"              \"hell\"       \"would\"        \"I\"            \n",
       " \"not\"              \"worth\"     \"the\"            \"trouble\"         \"Faith\"      \"Constable's\"  \"explanation\"  \n",
       " \",\"                \"I\"         \"don't\"          \"hold\"            \"she\"        \"carries\"      \",\"            \n",
       " \"not\"              \"hurt\"      \".\"              \"The\"          …  \"so\"         \"happy\"        \"to\"           \n",
       " \"you\"              \"do\"        \"''\"             \".\"               \"sent\"       \"away\"         \".\"            \n",
       " \"west\"             \",\"         \"the\"            \"dark\"            \".\"          \"Water\"        \"splashed\"     \n",
       " \"caught\"           \"sight\"     \"of\"             \"his\"             \"talking\"    \"rapidly\"      \".\"            \n",
       " \"city\"             \".\"         \"Sameness\"       \"lined\"           \"porches\"    \".\"            \"It\"           \n",
       " \"her\"              \"life\"      \"and\"            \"take\"         …  \"let\"        \"him\"          \"lead\"         \n",
       " \"dog\"              \".\"         \"What\"           \"kind\"            \",\"          \"that's\"       \"the\"          \n",
       " \"what's-his-name\"  \"got\"       \"a\"              \"sunburn\"         \"Charlie\"    \"spent\"        \"the\"          \n",
       " \"solid\"            \",\"         \"unrelieved\"     \"black\"           \"could\"      \"dislike\"      \"them\"         "
      ]
     },
     "execution_count": 13,
     "metadata": {},
     "output_type": "execute_result"
    }
   ],
   "source": [
    "(x,y) = first(d)\n",
    "words[x]"
   ]
  },
  {
   "cell_type": "markdown",
   "metadata": {},
   "source": [
    "Julia indexing allows us to get the embeddings for this minibatch in one go as an (X,B,T) array where X is the embedding size, B is the minibatch size, and T is the subsequence length."
   ]
  },
  {
   "cell_type": "code",
   "execution_count": 14,
   "metadata": {},
   "outputs": [
    {
     "data": {
      "text/plain": [
       "\"128×64×32 Array{Float32,3}\""
      ]
     },
     "execution_count": 14,
     "metadata": {},
     "output_type": "execute_result"
    }
   ],
   "source": [
    "embedlayer = Embed(length(words),128)\n",
    "summary(embedlayer(x))"
   ]
  },
  {
   "cell_type": "markdown",
   "metadata": {},
   "source": [
    "## Experiments"
   ]
  },
  {
   "cell_type": "code",
   "execution_count": 15,
   "metadata": {},
   "outputs": [],
   "source": [
    "VOCABSIZE = length(words)\n",
    "EMBEDSIZE = 128\n",
    "HIDDENSIZE = 128\n",
    "OUTPUTSIZE = length(tags);"
   ]
  },
  {
   "cell_type": "code",
   "execution_count": 16,
   "metadata": {},
   "outputs": [
    {
     "data": {
      "text/plain": [
       "(556, 10)"
      ]
     },
     "execution_count": 16,
     "metadata": {},
     "output_type": "execute_result"
    }
   ],
   "source": [
    "# shuffle and split minibatches into train and test portions\n",
    "using Random; shuffle!(d)\n",
    "dtst = d[1:10]\n",
    "dtrn = d[11:end]\n",
    "length.((dtrn,dtst))"
   ]
  },
  {
   "cell_type": "code",
   "execution_count": 17,
   "metadata": {},
   "outputs": [
    {
     "data": {
      "text/plain": [
       "0"
      ]
     },
     "execution_count": 17,
     "metadata": {},
     "output_type": "execute_result"
    }
   ],
   "source": [
    "using Knet: train!, Train, Adam, relu; Knet.gpu()"
   ]
  },
  {
   "cell_type": "code",
   "execution_count": 18,
   "metadata": {},
   "outputs": [
    {
     "name": "stderr",
     "output_type": "stream",
     "text": [
      "\u001b[32mProgress: 100%|█████████████████████████████████████████████████████████████████████████████████| Time: 0:00:30\u001b[39m\n"
     ]
    },
    {
     "data": {
      "text/plain": [
       "(0.30172020196914673, 0.098876953125)"
      ]
     },
     "execution_count": 18,
     "metadata": {},
     "output_type": "execute_result"
    }
   ],
   "source": [
    "t0 = Tagger0(VOCABSIZE,EMBEDSIZE,HIDDENSIZE,OUTPUTSIZE)\n",
    "r0 = Train(0:100:2500,dtst)\n",
    "train!(t0, dtrn; optimizer=Adam(), callback=r0); Knet.gc()\n",
    "minimum.((r0.losses..., r0.errors...))"
   ]
  },
  {
   "cell_type": "code",
   "execution_count": 19,
   "metadata": {},
   "outputs": [
    {
     "name": "stderr",
     "output_type": "stream",
     "text": [
      "\u001b[32mProgress: 100%|█████████████████████████████████████████████████████████████████████████████████| Time: 0:00:29\u001b[39m\n"
     ]
    },
    {
     "data": {
      "text/plain": [
       "(0.22708269953727722, 0.06669921874999996)"
      ]
     },
     "execution_count": 19,
     "metadata": {},
     "output_type": "execute_result"
    }
   ],
   "source": [
    "t1 = Tagger1(VOCABSIZE,EMBEDSIZE,HIDDENSIZE,OUTPUTSIZE)\n",
    "r1 = Train(0:100:2500,dtst)\n",
    "train!(t1, dtrn; optimizer=Adam(), callback=r1); Knet.gc()\n",
    "minimum.((r1.losses..., r1.errors...))"
   ]
  },
  {
   "cell_type": "code",
   "execution_count": 20,
   "metadata": {},
   "outputs": [
    {
     "name": "stderr",
     "output_type": "stream",
     "text": [
      "\u001b[32mProgress: 100%|█████████████████████████████████████████████████████████████████████████████████| Time: 0:00:30\u001b[39m\n"
     ]
    },
    {
     "data": {
      "text/plain": [
       "(0.1702299267053604, 0.04770507812500002)"
      ]
     },
     "execution_count": 20,
     "metadata": {},
     "output_type": "execute_result"
    }
   ],
   "source": [
    "t2 = Tagger2(VOCABSIZE,EMBEDSIZE,HIDDENSIZE,OUTPUTSIZE)\n",
    "r2 = Train(0:100:2500,dtst)\n",
    "train!(t2, dtrn; optimizer=Adam(), callback=r2); Knet.gc()\n",
    "minimum.((r2.losses..., r2.errors...))"
   ]
  },
  {
   "cell_type": "code",
   "execution_count": 26,
   "metadata": {},
   "outputs": [],
   "source": [
    "using Plots; default(fmt=:png,ls=:auto,ymirror=true)"
   ]
  },
  {
   "cell_type": "code",
   "execution_count": 22,
   "metadata": {},
   "outputs": [
    {
     "data": {
      "image/png": "[encoded data removed]"
     },
     "execution_count": 22,
     "metadata": {},
     "output_type": "execute_result"
    }
   ],
   "source": [
    "plot([r0.errors, r1.errors, r2.errors]; \n",
    "    ylim=(0,0.15), yticks=0:0.01:0.15, labels=[\"MLP\",\"RNN\",\"biRNN\"], ymirror=true)"
   ]
  },
  {
   "cell_type": "code",
   "execution_count": 23,
   "metadata": {},
   "outputs": [
    {
     "data": {
      "image/png": "[encoded data removed]"
     },
     "execution_count": 23,
     "metadata": {},
     "output_type": "execute_result"
    }
   ],
   "source": [
    "plot([r0.losses, r1.losses, r2.losses]; \n",
    "    ylim=(0,.5), yticks=0:0.1:.5, labels=[\"MLP\",\"RNN\",\"biRNN\"])"
   ]
  },
  {
   "cell_type": "markdown",
   "metadata": {},
   "source": [
    "## Playground\n",
    "Below, you can type and tag your own sentences:"
   ]
  },
  {
   "cell_type": "code",
   "execution_count": 24,
   "metadata": {},
   "outputs": [
    {
     "data": {
      "text/plain": [
       "tag (generic function with 1 method)"
      ]
     },
     "execution_count": 24,
     "metadata": {},
     "output_type": "execute_result"
    }
   ],
   "source": [
    "wdict=Dict{String,UInt16}(); for (i,w) in enumerate(words); wdict[w]=i; end\n",
    "unk = UInt16(length(words))\n",
    "wid(w) = get(wdict,w,unk)\n",
    "function tag(s::String)\n",
    "    w = permutedims(split(s))\n",
    "    t = tags[(x->x[1]).(argmax(Array(t2(wid.(w))),dims=1))]\n",
    "    vcat(w,t)\n",
    "end"
   ]
  },
  {
   "cell_type": "code",
   "execution_count": 25,
   "metadata": {},
   "outputs": [
    {
     "name": "stdout",
     "output_type": "stream",
     "text": [
      "stdin> Time flies like an arrow , fruit flies like a banana .\n"
     ]
    },
    {
     "data": {
      "text/plain": [
       "2×12 Array{AbstractString,2}:\n",
       " \"Time\"   \"flies\"  \"like\"  \"an\"  \"arrow\"  \",\"  \"fruit\"  \"flies\"  \"like\"  \"a\"   \"banana\"  \".\"\n",
       " \"nn-tl\"  \"nns\"    \"cs\"    \"at\"  \"nn\"     \",\"  \"nn\"     \"nns\"    \"cs\"    \"at\"  \"nn\"      \".\""
      ]
     },
     "execution_count": 25,
     "metadata": {},
     "output_type": "execute_result"
    }
   ],
   "source": [
    "tag(readline())"
   ]
  },
  {
   "cell_type": "code",
   "execution_count": null,
   "metadata": {},
   "outputs": [],
   "source": []
  }
 ],
 "metadata": {
  "kernelspec": {
   "display_name": "Julia 1.0.0",
   "language": "julia",
   "name": "julia-1.0"
  },
  "language_info": {
   "file_extension": ".jl",
   "mimetype": "application/julia",
   "name": "julia",
   "version": "1.0.0"
  }
 },
 "nbformat": 4,
 "nbformat_minor": 2
}
