{
 "cells": [
  {
   "cell_type": "markdown",
   "metadata": {
    "slideshow": {
     "slide_type": "slide"
    }
   },
   "source": [
    "# Introduction to Recurrent Neural Networks"
   ]
  },
  {
   "cell_type": "code",
   "execution_count": 4,
   "metadata": {
    "slideshow": {
     "slide_type": "fragment"
    }
   },
   "outputs": [],
   "source": [
    "using Knet"
   ]
  },
  {
   "cell_type": "markdown",
   "metadata": {
    "slideshow": {
     "slide_type": "slide"
    }
   },
   "source": [
    "## A one layer MLP vs a simple RNN\n",
    "\n",
    "([Elman 1990](http://onlinelibrary.wiley.com/doi/10.1207/s15516709cog1402_1/pdf)) A simple RNN takes the previous hidden state as an extra input, and returns the next hidden state as an output."
   ]
  },
  {
   "cell_type": "code",
   "execution_count": 5,
   "metadata": {
    "slideshow": {
     "slide_type": "fragment"
    }
   },
   "outputs": [],
   "source": [
    "# Comparison of a single MLP layer and corresponding RNN\n",
    "\n",
    "function tanhmlp(param, input)\n",
    "    weight,bias = param\n",
    "    return tanh(input * weight .+ bias)\n",
    "end\n",
    "\n",
    "function tanhrnn(param, input, state)\n",
    "    weight,bias = param\n",
    "    return tanh(hcat(input, state) * weight .+ bias)\n",
    "end;"
   ]
  },
  {
   "cell_type": "markdown",
   "metadata": {
    "slideshow": {
     "slide_type": "slide"
    }
   },
   "source": [
    "<img src=\"images/rnn-vs-mlp.png\" />(<a href=\"https://docs.google.com/drawings/d/1bPttFA0GEh7ti3xoWDma1ZbrQ21eulsPDeVUbPgdA7g/edit?usp=sharing\">image source</a>)"
   ]
  },
  {
   "cell_type": "markdown",
   "metadata": {
    "slideshow": {
     "slide_type": "slide"
    }
   },
   "source": [
    "## Architectures\n",
    "\n",
    "<img src=\"images/diags.png\" />\n",
    "(<a href=\"http://karpathy.github.io/2015/05/21/rnn-effectiveness\">image source</a>)"
   ]
  },
  {
   "cell_type": "markdown",
   "metadata": {
    "slideshow": {
     "slide_type": "slide"
    }
   },
   "source": [
    "## Long Short-Term Memory (LSTM)\n",
    "([Hochreiter and Schmidhuber, 1997](https://papers.nips.cc/paper/5346-sequence-to-sequence-learning-with-neural-networks.pdf))\n",
    "LSTM is a more sophisticated RNN module that performs better with long-range dependencies. "
   ]
  },
  {
   "cell_type": "markdown",
   "metadata": {
    "slideshow": {
     "slide_type": "fragment"
    }
   },
   "source": [
    "<img src=\"images/LSTM3-chain.png\" width=800 />\n",
    "([image source](http://colah.github.io/posts/2015-08-Understanding-LSTMs))"
   ]
  },
  {
   "cell_type": "markdown",
   "metadata": {
    "slideshow": {
     "slide_type": "slide"
    }
   },
   "source": [
    "\n",
    "\n",
    "$$\\begin{align}\n",
    "f_t &= \\sigma(W_f\\cdot[h_{t-1},x_t] + b_f) & \\text{forget gate} \\\\\n",
    "i_t &= \\sigma(W_i\\cdot[h_{t-1},x_t] + b_i) & \\text{input gate} \\\\\n",
    "\\tilde{C}_t &= \\tanh(W_C\\cdot[h_{t-1},x_t] + b_C) & \\text{cell candidate} \\\\\n",
    "C_t &= f_t \\ast C_{t-1} + i_t \\ast \\tilde{C}_t & \\text{new cell} \\\\\n",
    "o_t &= \\sigma(W_o\\cdot[h_{t-1},x_t] + b_o) & \\text{output gate} \\\\\n",
    "h_t &= o_t \\ast \\tanh(C_t) & \\text{new output}\\\\\n",
    "\\end{align}$$"
   ]
  },
  {
   "cell_type": "markdown",
   "metadata": {
    "slideshow": {
     "slide_type": "slide"
    }
   },
   "source": [
    "## A pure Julia LSTM implementation"
   ]
  },
  {
   "cell_type": "code",
   "execution_count": 6,
   "metadata": {
    "slideshow": {
     "slide_type": "fragment"
    }
   },
   "outputs": [],
   "source": [
    "function lstm(param, input, state)\n",
    "    weight,bias = param\n",
    "    hidden,cell = state\n",
    "    h       = size(hidden,2)\n",
    "    gates   = hcat(input,hidden) * weight .+ bias\n",
    "    forget  = sigm.(gates[:,1:h])\n",
    "    ingate  = sigm.(gates[:,1+h:2h])\n",
    "    outgate = sigm.(gates[:,1+2h:3h])\n",
    "    change  = tanh.(gates[:,1+3h:4h])\n",
    "    cell    = cell .* forget + ingate .* change\n",
    "    hidden  = outgate .* tanh.(cell)\n",
    "    return (hidden,cell)\n",
    "end;"
   ]
  },
  {
   "cell_type": "markdown",
   "metadata": {
    "slideshow": {
     "slide_type": "slide"
    }
   },
   "source": [
    "## Gated Recurrent Unit (GRU)\n",
    "\n",
    "Introduced by <a href=\"http://arxiv.org/pdf/1406.1078v3.pdf\">Cho, et al. (2014)</a>, GRU combines the forget and input gates into a single “update gate.”\n",
    "\n",
    "<img src=\"images/LSTM3-var-GRU.png\" />\n",
    "(<a href=\"http://colah.github.io/posts/2015-08-Understanding-LSTMs/\">image source</a>)\n",
    "\n"
   ]
  },
  {
   "cell_type": "markdown",
   "metadata": {
    "slideshow": {
     "slide_type": "slide"
    }
   },
   "source": [
    "## A more efficient cuDNN based implementation: Knet.RNN"
   ]
  },
  {
   "cell_type": "code",
   "execution_count": 7,
   "metadata": {
    "slideshow": {
     "slide_type": "slide"
    }
   },
   "outputs": [
    {
     "data": {
      "text/markdown": [
       "```\n",
       "rnn = RNN(inputSize, hiddenSize; opts...)\n",
       "rnn(x; hidden, batchSizes) => y\n",
       "```\n",
       "\n",
       "`RNN` returns a callable RNN object `rnn`. Given a minibatch of sequences `x`, `rnn(x)` returns `y`, the hidden states of the final layer for each time step.\n",
       "\n",
       "**Dimensions:** The input `x` can be 1, 2, or 3 dimensional and `y` will have the same number of dimensions as `x`. size(x)=(X,[B,T]) and size(y)=(H/2H,[B,T]) where X is inputSize, H is hiddenSize, B is batchSize, T is seqLength. By default a 1-D `x` represents a single instance for a single time step, a 2-D `x` represents a single minibatch for a single time step, and a 3-D `x` represents a sequence of identically sized minibatches for multiple time steps. The output `y` gives the hidden state (of the final layer for multi-layer RNNs) for each time step, its first dimension is H for unidirectional and 2H for bidirectional RNNs.\n",
       "\n",
       "**batchSizes:** If `batchSizes=nothing` (default), all sequences in a minibatch are assumed to be the same length. If `batchSizes` is an array of (non-increasing) integers, it gives us the batch size for each time step (allowing different sequences in the minibatch to have different lengths). In this case `x` will typically be 2-D with the second dimension representing variable size batches for time steps. If `batchSizes` is used, `sum(batchSizes)` should equal `length(x) ÷ size(x,1)`.\n",
       "\n",
       "**Hidden states:** If `hidden=nothing` (default), initial hidden states are assumed zero and final hidden states are discarded. If `hidden=Any[]`, initial hidden states are assumed zero and final hidden states are pushed into hidden.  If `hidden=Any[h,c]` (for LSTM) or `hidden=Any[h]` (for others), the values in the hidden array are taken to be the initial hidden states and are replaced by the final hidden states on return.  Note that the final time step of `y` always contains the final hidden state of the last layer, so `hidden` will return no extra information for a single layer network.  All hidden and cell states have dimensionality (H,B,L) for unidirectional and (H,B,2L) for bidirectional RNNs.  If `batchSizes` is used and minibatch sizes change over time, B is always taken to be the size of the first minibatch for hidden sizes.\n",
       "\n",
       "**Keyword arguments for RNN:**\n",
       "\n",
       "  * `rnnType=:lstm` Type of RNN: One of :relu, :tanh, :lstm, :gru.\n",
       "  * `numLayers=1`: Number of RNN layers.\n",
       "  * `bidirectional=false`: Create a bidirectional RNN if `true`.\n",
       "  * `dropout=0`: Dropout probability. Ignored if `numLayers==1`.\n",
       "  * `skipInput=false`: Do not multiply the input with a matrix if `true`.\n",
       "  * `dataType=Float32`: Data type to use for weights.\n",
       "  * `algo=0`: Algorithm to use, see CUDNN docs for details.\n",
       "  * `seed=0`: Random number seed for dropout. Uses `time()` if 0.\n",
       "  * `winit=xavier`: Weight initialization method for matrices.\n",
       "  * `binit=zeros`: Weight initialization method for bias vectors.\n",
       "  * `usegpu=(gpu()>=0)`: GPU used by default if one exists.\n",
       "\n",
       "**Formulas:** RNNs compute the output h[t] for a given iteration from the recurrent input h[t-1] and the previous layer input x[t] given matrices W, R and biases bW, bR from the following equations:\n",
       "\n",
       "`:relu` and `:tanh`: Single gate RNN with activation function f:\n",
       "\n",
       "```\n",
       "h[t] = f(W * x[t] .+ R * h[t-1] .+ bW .+ bR)\n",
       "```\n",
       "\n",
       "`:gru`: Gated recurrent unit:\n",
       "\n",
       "```\n",
       "i[t] = sigm(Wi * x[t] .+ Ri * h[t-1] .+ bWi .+ bRi) # input gate\n",
       "r[t] = sigm(Wr * x[t] .+ Rr * h[t-1] .+ bWr .+ bRr) # reset gate\n",
       "n[t] = tanh(Wn * x[t] .+ r[t] .* (Rn * h[t-1] .+ bRn) .+ bWn) # new gate\n",
       "h[t] = (1 - i[t]) .* n[t] .+ i[t] .* h[t-1]\n",
       "```\n",
       "\n",
       "`:lstm`: Long short term memory unit with no peephole connections:\n",
       "\n",
       "```\n",
       "i[t] = sigm(Wi * x[t] .+ Ri * h[t-1] .+ bWi .+ bRi) # input gate\n",
       "f[t] = sigm(Wf * x[t] .+ Rf * h[t-1] .+ bWf .+ bRf) # forget gate\n",
       "o[t] = sigm(Wo * x[t] .+ Ro * h[t-1] .+ bWo .+ bRo) # output gate\n",
       "n[t] = tanh(Wn * x[t] .+ Rn * h[t-1] .+ bWn .+ bRn) # new gate\n",
       "c[t] = f[t] .* c[t-1] .+ i[t] .* n[t]               # cell output\n",
       "h[t] = o[t] .* tanh(c[t])\n",
       "```\n"
      ],
      "text/plain": [
       "\u001b[36m  rnn = RNN(inputSize, hiddenSize; opts...)\u001b[39m\n",
       "\u001b[36m  rnn(x; hidden, batchSizes) => y\u001b[39m\n",
       "\n",
       "  \u001b[36mRNN\u001b[39m returns a callable RNN object \u001b[36mrnn\u001b[39m. Given a minibatch of sequences \u001b[36mx\u001b[39m, \u001b[36mrnn(x)\u001b[39m returns \u001b[36my\u001b[39m, the hidden states of the final layer for each time\n",
       "  step.\n",
       "\n",
       "  \u001b[1mDimensions:\u001b[22m The input \u001b[36mx\u001b[39m can be 1, 2, or 3 dimensional and \u001b[36my\u001b[39m will have the same number of dimensions as \u001b[36mx\u001b[39m. size(x)=(X,[B,T]) and\n",
       "  size(y)=(H/2H,[B,T]) where X is inputSize, H is hiddenSize, B is batchSize, T is seqLength. By default a 1-D \u001b[36mx\u001b[39m represents a single instance for a\n",
       "  single time step, a 2-D \u001b[36mx\u001b[39m represents a single minibatch for a single time step, and a 3-D \u001b[36mx\u001b[39m represents a sequence of identically sized minibatches\n",
       "  for multiple time steps. The output \u001b[36my\u001b[39m gives the hidden state (of the final layer for multi-layer RNNs) for each time step, its first dimension is\n",
       "  H for unidirectional and 2H for bidirectional RNNs.\n",
       "\n",
       "  \u001b[1mbatchSizes:\u001b[22m If \u001b[36mbatchSizes=nothing\u001b[39m (default), all sequences in a minibatch are assumed to be the same length. If \u001b[36mbatchSizes\u001b[39m is an array of\n",
       "  (non-increasing) integers, it gives us the batch size for each time step (allowing different sequences in the minibatch to have different\n",
       "  lengths). In this case \u001b[36mx\u001b[39m will typically be 2-D with the second dimension representing variable size batches for time steps. If \u001b[36mbatchSizes\u001b[39m is used,\n",
       "  \u001b[36msum(batchSizes)\u001b[39m should equal \u001b[36mlength(x) ÷ size(x,1)\u001b[39m.\n",
       "\n",
       "  \u001b[1mHidden states:\u001b[22m If \u001b[36mhidden=nothing\u001b[39m (default), initial hidden states are assumed zero and final hidden states are discarded. If \u001b[36mhidden=Any[]\u001b[39m, initial\n",
       "  hidden states are assumed zero and final hidden states are pushed into hidden. If \u001b[36mhidden=Any[h,c]\u001b[39m (for LSTM) or \u001b[36mhidden=Any[h]\u001b[39m (for others), the\n",
       "  values in the hidden array are taken to be the initial hidden states and are replaced by the final hidden states on return. Note that the final\n",
       "  time step of \u001b[36my\u001b[39m always contains the final hidden state of the last layer, so \u001b[36mhidden\u001b[39m will return no extra information for a single layer network.\n",
       "  All hidden and cell states have dimensionality (H,B,L) for unidirectional and (H,B,2L) for bidirectional RNNs. If \u001b[36mbatchSizes\u001b[39m is used and minibatch\n",
       "  sizes change over time, B is always taken to be the size of the first minibatch for hidden sizes.\n",
       "\n",
       "  \u001b[1mKeyword arguments for RNN:\u001b[22m\n",
       "\n",
       "    •    \u001b[36mrnnType=:lstm\u001b[39m Type of RNN: One of :relu, :tanh, :lstm, :gru.\n",
       "\n",
       "    •    \u001b[36mnumLayers=1\u001b[39m: Number of RNN layers.\n",
       "\n",
       "    •    \u001b[36mbidirectional=false\u001b[39m: Create a bidirectional RNN if \u001b[36mtrue\u001b[39m.\n",
       "\n",
       "    •    \u001b[36mdropout=0\u001b[39m: Dropout probability. Ignored if \u001b[36mnumLayers==1\u001b[39m.\n",
       "\n",
       "    •    \u001b[36mskipInput=false\u001b[39m: Do not multiply the input with a matrix if \u001b[36mtrue\u001b[39m.\n",
       "\n",
       "    •    \u001b[36mdataType=Float32\u001b[39m: Data type to use for weights.\n",
       "\n",
       "    •    \u001b[36malgo=0\u001b[39m: Algorithm to use, see CUDNN docs for details.\n",
       "\n",
       "    •    \u001b[36mseed=0\u001b[39m: Random number seed for dropout. Uses \u001b[36mtime()\u001b[39m if 0.\n",
       "\n",
       "    •    \u001b[36mwinit=xavier\u001b[39m: Weight initialization method for matrices.\n",
       "\n",
       "    •    \u001b[36mbinit=zeros\u001b[39m: Weight initialization method for bias vectors.\n",
       "\n",
       "    •    \u001b[36musegpu=(gpu()>=0)\u001b[39m: GPU used by default if one exists.\n",
       "\n",
       "  \u001b[1mFormulas:\u001b[22m RNNs compute the output h[t] for a given iteration from the recurrent input h[t-1] and the previous layer input x[t] given matrices W, R\n",
       "  and biases bW, bR from the following equations:\n",
       "\n",
       "  \u001b[36m:relu\u001b[39m and \u001b[36m:tanh\u001b[39m: Single gate RNN with activation function f:\n",
       "\n",
       "\u001b[36m  h[t] = f(W * x[t] .+ R * h[t-1] .+ bW .+ bR)\u001b[39m\n",
       "\n",
       "  \u001b[36m:gru\u001b[39m: Gated recurrent unit:\n",
       "\n",
       "\u001b[36m  i[t] = sigm(Wi * x[t] .+ Ri * h[t-1] .+ bWi .+ bRi) # input gate\u001b[39m\n",
       "\u001b[36m  r[t] = sigm(Wr * x[t] .+ Rr * h[t-1] .+ bWr .+ bRr) # reset gate\u001b[39m\n",
       "\u001b[36m  n[t] = tanh(Wn * x[t] .+ r[t] .* (Rn * h[t-1] .+ bRn) .+ bWn) # new gate\u001b[39m\n",
       "\u001b[36m  h[t] = (1 - i[t]) .* n[t] .+ i[t] .* h[t-1]\u001b[39m\n",
       "\n",
       "  \u001b[36m:lstm\u001b[39m: Long short term memory unit with no peephole connections:\n",
       "\n",
       "\u001b[36m  i[t] = sigm(Wi * x[t] .+ Ri * h[t-1] .+ bWi .+ bRi) # input gate\u001b[39m\n",
       "\u001b[36m  f[t] = sigm(Wf * x[t] .+ Rf * h[t-1] .+ bWf .+ bRf) # forget gate\u001b[39m\n",
       "\u001b[36m  o[t] = sigm(Wo * x[t] .+ Ro * h[t-1] .+ bWo .+ bRo) # output gate\u001b[39m\n",
       "\u001b[36m  n[t] = tanh(Wn * x[t] .+ Rn * h[t-1] .+ bWn .+ bRn) # new gate\u001b[39m\n",
       "\u001b[36m  c[t] = f[t] .* c[t-1] .+ i[t] .* n[t]               # cell output\u001b[39m\n",
       "\u001b[36m  h[t] = o[t] .* tanh(c[t])\u001b[39m"
      ]
     },
     "execution_count": 7,
     "metadata": {},
     "output_type": "execute_result"
    }
   ],
   "source": [
    "using Knet: RNN\n",
    "@doc RNN"
   ]
  },
  {
   "cell_type": "code",
   "execution_count": 8,
   "metadata": {},
   "outputs": [
    {
     "data": {
      "text/plain": [
       "0"
      ]
     },
     "execution_count": 8,
     "metadata": {},
     "output_type": "execute_result"
    }
   ],
   "source": [
    "using Knet; Knet.gpu(0)"
   ]
  },
  {
   "cell_type": "code",
   "execution_count": 9,
   "metadata": {},
   "outputs": [],
   "source": [
    "ENV[\"COLUMNS\"] = 92\n",
    "using Knet: train!, Train, Adam"
   ]
  },
  {
   "cell_type": "code",
   "execution_count": 10,
   "metadata": {},
   "outputs": [
    {
     "data": {
      "text/markdown": [
       "```\n",
       "brown()\n",
       "```\n",
       "\n",
       "Return (data, words, tags) where data is an array of (x,y) pairs, each pair represents a sentence, x is an UInt16 array of word ids, y is an UInt16 array of postag ids. words and tags are String arrays to convert word and tag ids to strings. Ids are assigned in order of frequency, i.e. words[1] is the most frequent word.\n"
      ],
      "text/plain": [
       "\u001b[36m  brown()\u001b[39m\n",
       "\n",
       "  Return (data, words, tags) where data is an array of (x,y) pairs, each pair represents a\n",
       "  sentence, x is an UInt16 array of word ids, y is an UInt16 array of postag ids. words\n",
       "  and tags are String arrays to convert word and tag ids to strings. Ids are assigned in\n",
       "  order of frequency, i.e. words[1] is the most frequent word."
      ]
     },
     "execution_count": 10,
     "metadata": {},
     "output_type": "execute_result"
    }
   ],
   "source": [
    "# Download data\n",
    "using Knet: Knet\n",
    "include(Knet.dir(\"data/nltk.jl\"))\n",
    "@doc brown"
   ]
  },
  {
   "cell_type": "code",
   "execution_count": 11,
   "metadata": {},
   "outputs": [
    {
     "data": {
      "text/plain": [
       "(57340, 56057, 472)"
      ]
     },
     "execution_count": 11,
     "metadata": {},
     "output_type": "execute_result"
    }
   ],
   "source": [
    "(data,words,tags) = brown()\n",
    "length.((data,words,tags))"
   ]
  },
  {
   "cell_type": "code",
   "execution_count": 12,
   "metadata": {},
   "outputs": [
    {
     "name": "stdout",
     "output_type": "stream",
     "text": [
      "x = UInt16[0x000f, 0x16e4, 0x0510, 0x15dd, 0x443c, 0x003c, 0x075e, 0x0023, 0x0a31, 0x0004, 0x456e, 0x0254, 0x0491, 0x05fc, 0x04bc, 0x000d, 0x0044, 0x01de, 0x000e, 0x0009, 0x0055, 0x2714, 0x00dd, 0x00bd, 0x0003]\n",
      "y = UInt16[0x0003, 0x0028, 0x0015, 0x0027, 0x0015, 0x000d, 0x003a, 0x0003, 0x0001, 0x0002, 0x0030, 0x0004, 0x0001, 0x0001, 0x000d, 0x001c, 0x0003, 0x0001, 0x001d, 0x000e, 0x002e, 0x0007, 0x000d, 0x0001, 0x0005]\n",
      "words[x] = [\"The\", \"Fulton\", \"County\", \"Grand\", \"Jury\", \"said\", \"Friday\", \"an\", \"investigation\", \"of\", \"Atlanta's\", \"recent\", \"primary\", \"election\", \"produced\", \"``\", \"no\", \"evidence\", \"''\", \"that\", \"any\", \"irregularities\", \"took\", \"place\", \".\"]\n",
      "tags[y] = [\"at\", \"np-tl\", \"nn-tl\", \"jj-tl\", \"nn-tl\", \"vbd\", \"nr\", \"at\", \"nn\", \"in\", \"np\\$\", \"jj\", \"nn\", \"nn\", \"vbd\", \"``\", \"at\", \"nn\", \"''\", \"cs\", \"dti\", \"nns\", \"vbd\", \"nn\", \".\"]\n"
     ]
    }
   ],
   "source": [
    "(x,y) = first(data)\n",
    "@show x\n",
    "@show y\n",
    "@show words[x]\n",
    "@show tags[y];"
   ]
  },
  {
   "cell_type": "code",
   "execution_count": 13,
   "metadata": {},
   "outputs": [
    {
     "data": {
      "text/plain": [
       "(1161192, 1161192)"
      ]
     },
     "execution_count": 13,
     "metadata": {},
     "output_type": "execute_result"
    }
   ],
   "source": [
    "# Concatenate all sentences, minibatching a bit complicated otherwise\n",
    "second(x)=x[2]\n",
    "allx = vcat(first.(data)...)\n",
    "ally = vcat(second.(data)...)\n",
    "length.((allx,ally))"
   ]
  },
  {
   "cell_type": "code",
   "execution_count": 97,
   "metadata": {},
   "outputs": [
    {
     "data": {
      "text/plain": [
       "512"
      ]
     },
     "execution_count": 97,
     "metadata": {},
     "output_type": "execute_result"
    }
   ],
   "source": [
    "CORPUSSIZE = length(allx)\n",
    "NUMWORDS = length(words)\n",
    "NUMTAGS = length(tags)\n",
    "EMBEDSIZE = 512\n",
    "BATCHSIZE = 64\n",
    "SEQLENGTH = 32\n",
    "HIDDENSIZE = EMBEDSIZE"
   ]
  },
  {
   "cell_type": "code",
   "execution_count": 98,
   "metadata": {},
   "outputs": [
    {
     "data": {
      "text/plain": [
       "seqbatch (generic function with 1 method)"
      ]
     },
     "execution_count": 98,
     "metadata": {},
     "output_type": "execute_result"
    }
   ],
   "source": [
    "function seqbatch(x,y,B,T)\n",
    "    N = length(x) ÷ B\n",
    "    x = permutedims(reshape(x[1:N*B],N,B))\n",
    "    y = permutedims(reshape(y[1:N*B],N,B))\n",
    "    minibatch(x,y,T)\n",
    "end"
   ]
  },
  {
   "cell_type": "code",
   "execution_count": 99,
   "metadata": {},
   "outputs": [
    {
     "name": "stdout",
     "output_type": "stream",
     "text": [
      "summary.(first(d)) = (\"64×32 Array{UInt16,2}\", \"64×32 Array{UInt16,2}\")\n"
     ]
    },
    {
     "data": {
      "text/plain": [
       "(\"64×32 Array{UInt16,2}\", \"64×32 Array{UInt16,2}\")"
      ]
     },
     "execution_count": 99,
     "metadata": {},
     "output_type": "execute_result"
    }
   ],
   "source": [
    "d = seqbatch(allx,ally,BATCHSIZE,SEQLENGTH)\n",
    "(x,y) = first(d)\n",
    "@show summary.(first(d))"
   ]
  },
  {
   "cell_type": "code",
   "execution_count": 100,
   "metadata": {},
   "outputs": [
    {
     "data": {
      "text/plain": [
       "64×32 Array{String,2}:\n",
       " \"The\"              \"Fulton\"    \"County\"         …  \"term-end\"     \"presentments\" \n",
       " \"director\"         \"of\"        \"architecture\"      \"gifts\"        \"from\"         \n",
       " \"local\"            \"club\"      \"to\"                \"who\"          \"will\"         \n",
       " \".\"                \"The\"       \"judge\"             \"of\"           \"the\"          \n",
       " \"plans\"            \"titled\"    \"``\"                \"this\"         \"fall\"         \n",
       " \"admitted\"         \"for\"       \"next\"           …  \"''\"           \".\"            \n",
       " \"American\"         \"system\"    \"?\"                 \"patriotic\"    \"apprehensions\"\n",
       " \"of\"               \"the\"       \"King\"              \"Then\"         \"cometh\"       \n",
       " \"the\"              \"misdeeds\"  \"of\"                \"is\"           \"entitled\"     \n",
       " \"entertaining\"     \"and\"       \"irresponsible\"     \"from\"         \"these\"        \n",
       " \"is\"               \"merely\"    \"more\"           …  \"to\"           \"the\"          \n",
       " \"is\"               \"not\"       \"only\"              \"that\"         \"any\"          \n",
       " \"has\"              \"said\"      \":\"                 \"important\"    \"that\"         \n",
       " ⋮                                               ⋱  ⋮                             \n",
       " \".\"                \"But\"       \",\"                 \"would\"        \"I\"            \n",
       " \"not\"              \"worth\"     \"the\"               \"Constable's\"  \"explanation\"  \n",
       " \",\"                \"I\"         \"don't\"             \"carries\"      \",\"            \n",
       " \"not\"              \"hurt\"      \".\"              …  \"happy\"        \"to\"           \n",
       " \"you\"              \"do\"        \"''\"                \"away\"         \".\"            \n",
       " \"west\"             \",\"         \"the\"               \"Water\"        \"splashed\"     \n",
       " \"caught\"           \"sight\"     \"of\"                \"rapidly\"      \".\"            \n",
       " \"city\"             \".\"         \"Sameness\"          \".\"            \"It\"           \n",
       " \"her\"              \"life\"      \"and\"            …  \"him\"          \"lead\"         \n",
       " \"dog\"              \".\"         \"What\"              \"that's\"       \"the\"          \n",
       " \"what's-his-name\"  \"got\"       \"a\"                 \"spent\"        \"the\"          \n",
       " \"solid\"            \",\"         \"unrelieved\"        \"dislike\"      \"them\"         "
      ]
     },
     "metadata": {},
     "output_type": "display_data"
    },
    {
     "data": {
      "text/plain": [
       "64×32 Array{String,2}:\n",
       " \"that\"      \"the\"         \"City\"        \"Executive\"    …  \"which\"     \"the\"         \n",
       " \"the\"       \"contractor\"  \".\"           \"Managing\"        \"would\"     \"sue\"         \n",
       " \"meet\"      \"with\"        \"the\"         \"probate\"         \"closed\"    \"for\"         \n",
       " \"trial\"     \",\"           \"the\"         \"jury\"            \"he\"        \"had\"         \n",
       " \"in\"        \"four\"        \"languages\"   \":\"               \"The\"       \"week\"        \n",
       " \"The\"       \"evidence\"    \"in\"          \"court\"        …  \"a\"         \"simple\"      \n",
       " \"of\"        \"Americans\"   \"in\"          \"a\"               \"tropical\"  \"green\"       \n",
       " \"Jesus\"     \"from\"        \"Galilee\"     \"to\"              \",\"         \"and\"         \n",
       " \"to\"        \"stay\"        \"put\"         \".\"               \"Burma\"     \"as\"          \n",
       " \"pages\"     \"is\"          \"that\"        \"the\"             \".\"         \"One\"         \n",
       " \"detailed\"  \"accents\"     \",\"           \"phrasings\"    …  \"of\"        \"contemporary\"\n",
       " \"progress\"  \"towards\"     \"peaceful\"    \"coexistence\"     \"''\"        \",\"           \n",
       " \"Moscow\"    \"shall\"       \"recognize\"   \"it\"              \"it\"        \"is\"          \n",
       " ⋮                                                      ⋱  ⋮                         \n",
       " \"remember\"  \"that\"        \"''\"          \"?\"               \"after\"     \"they\"        \n",
       " \"of\"        \"her\"         \"confidence\"  \",\"               \"dark\"      \"boy\"         \n",
       " \"where\"     \"the\"         \"live\"        \"wind\"            \"saying\"    \",\"           \n",
       " \"be\"        \"here\"        \"''\"          \".\"            …  \"and\"       \"charming\"    \n",
       " \"``\"        \"I\"           \"can't\"       \"leave\"           \".\"         \"I've\"        \n",
       " \"against\"   \"his\"         \"windshield\"  \"as\"              \"it\"        \".\"           \n",
       " \"Ramey\"     \"caught\"      \"a\"           \"glimpse\"         \"driver\"    \"thought\"     \n",
       " \"swayed\"    \"with\"        \"the\"         \"wicker\"          \"a\"         \"lawn\"        \n",
       " \"her\"       \"around\"      \".\"           \"He\"           …  \"wherever\"  \"he\"          \n",
       " \"most\"      \"unique\"      \"dog\"         \"I\"               \"He's\"      \"braver\"      \n",
       " \"next\"      \"two\"         \"days\"        \"in\"              \"and\"       \"forth\"       \n",
       " \",\"         \"I\"           \"thought\"     \".\"               \"but\"       \"rather\"      "
      ]
     },
     "metadata": {},
     "output_type": "display_data"
    }
   ],
   "source": [
    "dd = collect(d)\n",
    "display(words[dd[1][1]])\n",
    "display(words[dd[2][1]])"
   ]
  },
  {
   "cell_type": "code",
   "execution_count": 101,
   "metadata": {},
   "outputs": [
    {
     "data": {
      "text/plain": [
       "(556, 10)"
      ]
     },
     "execution_count": 101,
     "metadata": {},
     "output_type": "execute_result"
    }
   ],
   "source": [
    "dtst = dd[1:10]\n",
    "dtrn = dd[11:end]\n",
    "length.((dtrn,dtst))"
   ]
  },
  {
   "cell_type": "code",
   "execution_count": 102,
   "metadata": {},
   "outputs": [],
   "source": [
    "struct Embed; w; end\n",
    "Embed(vocab::Int,embed::Int) = Embed(param(embed,vocab))\n",
    "(e::Embed)(x;o...) = e.w[:,x]"
   ]
  },
  {
   "cell_type": "code",
   "execution_count": 103,
   "metadata": {},
   "outputs": [
    {
     "data": {
      "text/plain": [
       "\"512×64×32 KnetArray{Float32,3}\""
      ]
     },
     "execution_count": 103,
     "metadata": {},
     "output_type": "execute_result"
    }
   ],
   "source": [
    "(x,y) = first(dtrn)\n",
    "emb = Embed(length(tags),EMBEDSIZE)\n",
    "emby = emb(y)\n",
    "summary(emby)  # (X,B,T)"
   ]
  },
  {
   "cell_type": "code",
   "execution_count": 104,
   "metadata": {},
   "outputs": [],
   "source": [
    "struct FC; w; b; f; end\n",
    "FC(input::Int,output::Int,f::Function=identity) = FC(param(output,input),param(output),f)\n",
    "resize1(x) = reshape(x,size(x,1),:)\n",
    "(fc::FC)(x;o...) = fc.f.(fc.w * resize1(x) .+ fc.b)"
   ]
  },
  {
   "cell_type": "code",
   "execution_count": 105,
   "metadata": {},
   "outputs": [],
   "source": [
    "struct Chain; layers; end\n",
    "Chain(layer1,layer2,layers...)=Chain((layer1,layer2,layers...))\n",
    "(c::Chain)(x;o...) = (for l in c.layers; x = l(x;o...); end; x)"
   ]
  },
  {
   "cell_type": "code",
   "execution_count": 106,
   "metadata": {},
   "outputs": [
    {
     "data": {
      "text/plain": [
       "(UInt16[0x1bca 0x04c0 … 0x196b 0x0be1; 0x0291 0x0008 … 0x1973 0x0002; … ; 0x0006 0x008e … 0x0aec 0x0003; 0x79d4 0x010d … 0x0271 0x0004], UInt16[0x0010 0x0007 … 0x0057 0x0001; 0x003e 0x004f … 0x000a 0x0006; … ; 0x0012 0x000b … 0x000d 0x0005; 0x0004 0x0007 … 0x0001 0x0002])"
      ]
     },
     "execution_count": 106,
     "metadata": {},
     "output_type": "execute_result"
    }
   ],
   "source": [
    "(x,y) = first(dtrn)"
   ]
  },
  {
   "cell_type": "code",
   "execution_count": 107,
   "metadata": {},
   "outputs": [
    {
     "data": {
      "text/plain": [
       "\"472×2048 KnetArray{Float32,2}\""
      ]
     },
     "execution_count": 107,
     "metadata": {},
     "output_type": "execute_result"
    }
   ],
   "source": [
    "Tagger0(vocab,embed,hidden,output)=Chain(Embed(vocab,embed),FC(embed,hidden,relu),FC(hidden,output))\n",
    "tag = Tagger0(length(words),EMBEDSIZE,HIDDENSIZE,length(tags))\n",
    "summary(tag(x))"
   ]
  },
  {
   "cell_type": "code",
   "execution_count": 108,
   "metadata": {},
   "outputs": [
    {
     "data": {
      "text/plain": [
       "\"472×2048 KnetArray{Float32,2}\""
      ]
     },
     "execution_count": 108,
     "metadata": {},
     "output_type": "execute_result"
    }
   ],
   "source": [
    "Tagger1(vocab,embed,hidden,output)=Chain(Embed(vocab,embed),RNN(embed,hidden),FC(hidden,output))\n",
    "tag = Tagger1(length(words),EMBEDSIZE,HIDDENSIZE,length(tags))\n",
    "summary(tag(x))"
   ]
  },
  {
   "cell_type": "code",
   "execution_count": 109,
   "metadata": {},
   "outputs": [
    {
     "data": {
      "text/plain": [
       "\"472×2048 KnetArray{Float32,2}\""
      ]
     },
     "execution_count": 109,
     "metadata": {},
     "output_type": "execute_result"
    }
   ],
   "source": [
    "Tagger2(vocab,embed,hidden,output)=Chain(Embed(vocab,embed),RNN(embed,hidden,bidirectional=true),FC(2hidden,output))\n",
    "tag = Tagger2(length(words),EMBEDSIZE,HIDDENSIZE,length(tags))\n",
    "summary(tag(x))"
   ]
  },
  {
   "cell_type": "code",
   "execution_count": 110,
   "metadata": {},
   "outputs": [
    {
     "name": "stderr",
     "output_type": "stream",
     "text": [
      "\u001b[32mProgress: 100%|█████████████████████████████████████████████████████| Time: 0:01:15\u001b[39m\n"
     ]
    },
    {
     "name": "stdout",
     "output_type": "stream",
     "text": [
      " 75.043434 seconds (2.69 M allocations: 1.214 GiB, 63.36% gc time)\n"
     ]
    },
    {
     "data": {
      "text/plain": [
       "(0.2994007468223572, 0.10312500000000002)"
      ]
     },
     "execution_count": 110,
     "metadata": {},
     "output_type": "execute_result"
    }
   ],
   "source": [
    "t0 = Tagger0(length(words),EMBEDSIZE,HIDDENSIZE,length(tags))\n",
    "r0 = Train(0:100:2500,dtst)\n",
    "@time train!(t0, dtrn; optimizer=Adam(), callback=r0); Knet.gc()\n",
    "minimum.((r0.losses..., r0.errors...))"
   ]
  },
  {
   "cell_type": "code",
   "execution_count": 111,
   "metadata": {},
   "outputs": [
    {
     "name": "stderr",
     "output_type": "stream",
     "text": [
      "\u001b[32mProgress: 100%|█████████████████████████████████████████████████████| Time: 0:01:42\u001b[39m\n"
     ]
    },
    {
     "name": "stdout",
     "output_type": "stream",
     "text": [
      "101.722237 seconds (2.61 M allocations: 1.216 GiB, 52.71% gc time)\n"
     ]
    },
    {
     "data": {
      "text/plain": [
       "(0.2283434122800827, 0.06787109375)"
      ]
     },
     "execution_count": 111,
     "metadata": {},
     "output_type": "execute_result"
    }
   ],
   "source": [
    "t1 = Tagger1(length(words),EMBEDSIZE,HIDDENSIZE,length(tags))\n",
    "r1 = Train(0:100:2500,dtst)\n",
    "@time train!(t1, dtrn; optimizer=Adam(), callback=r1); Knet.gc()\n",
    "minimum.((r1.losses..., r1.errors...))"
   ]
  },
  {
   "cell_type": "code",
   "execution_count": 112,
   "metadata": {},
   "outputs": [
    {
     "name": "stderr",
     "output_type": "stream",
     "text": [
      "\u001b[32mProgress: 100%|█████████████████████████████████████████████████████| Time: 0:01:41\u001b[39m\n"
     ]
    },
    {
     "name": "stdout",
     "output_type": "stream",
     "text": [
      "101.454082 seconds (2.90 M allocations: 1.228 GiB, 52.09% gc time)\n"
     ]
    },
    {
     "data": {
      "text/plain": [
       "(0.3767203092575073, 0.07465820312500004)"
      ]
     },
     "execution_count": 112,
     "metadata": {},
     "output_type": "execute_result"
    }
   ],
   "source": [
    "t1a = Tagger1(length(words),EMBEDSIZE,HIDDENSIZE,length(tags))\n",
    "r1a = Train(0:100:2500,dtst); h1a = []\n",
    "@time train!(t1a, dtrn; optimizer=Adam(), callback=r1a, hidden=h1a); Knet.gc()\n",
    "minimum.((r1a.losses..., r1a.errors...))"
   ]
  },
  {
   "cell_type": "code",
   "execution_count": 113,
   "metadata": {},
   "outputs": [
    {
     "name": "stderr",
     "output_type": "stream",
     "text": [
      "\u001b[32mProgress: 100%|█████████████████████████████████████████████████████| Time: 0:01:58\u001b[39m\n"
     ]
    },
    {
     "name": "stdout",
     "output_type": "stream",
     "text": [
      "118.234509 seconds (2.61 M allocations: 1.216 GiB, 49.30% gc time)\n"
     ]
    },
    {
     "data": {
      "text/plain": [
       "(0.16208715736865997, 0.046630859375)"
      ]
     },
     "execution_count": 113,
     "metadata": {},
     "output_type": "execute_result"
    }
   ],
   "source": [
    "t2 = Tagger2(length(words),EMBEDSIZE,HIDDENSIZE,length(tags))\n",
    "r2 = Train(0:100:2500,dtst)\n",
    "@time train!(t2, dtrn; optimizer=Adam(), callback=r2); Knet.gc()\n",
    "minimum.((r2.losses..., r2.errors...))"
   ]
  },
  {
   "cell_type": "code",
   "execution_count": 114,
   "metadata": {},
   "outputs": [
    {
     "name": "stderr",
     "output_type": "stream",
     "text": [
      "\u001b[32mProgress: 100%|█████████████████████████████████████████████████████| Time: 0:01:59\u001b[39m\n"
     ]
    },
    {
     "name": "stdout",
     "output_type": "stream",
     "text": [
      "119.639760 seconds (2.87 M allocations: 1.226 GiB, 49.56% gc time)\n"
     ]
    },
    {
     "data": {
      "text/plain": [
       "(0.17254191637039185, 0.04746093750000002)"
      ]
     },
     "execution_count": 114,
     "metadata": {},
     "output_type": "execute_result"
    }
   ],
   "source": [
    "t2a = Tagger2(length(words),EMBEDSIZE,HIDDENSIZE,length(tags))\n",
    "r2a = Train(0:100:2500,dtst); h2a = []\n",
    "@time train!(t2a, dtrn; optimizer=Adam(), callback=r2a, hidden=h2a); Knet.gc()\n",
    "minimum.((r2a.losses..., r2a.errors...))"
   ]
  },
  {
   "cell_type": "code",
   "execution_count": 115,
   "metadata": {},
   "outputs": [],
   "source": [
    "# MLP: 10%\n",
    "# RNN: 7.5%\n",
    "# RNN2: 5%\n",
    "# RNN with keep state: 10% ???\n",
    "# Try pdrop?"
   ]
  },
  {
   "cell_type": "code",
   "execution_count": 122,
   "metadata": {},
   "outputs": [
    {
     "data": {
      "image/svg+xml": [
       "<?xml version=\"1.0\" encoding=\"utf-8\"?>\n",
       "<svg xmlns=\"http://www.w3.org/2000/svg\" xmlns:xlink=\"http://www.w3.org/1999/xlink\" width=\"600\" height=\"400\" viewBox=\"0 0 600 400\">\n",
       "<defs>\n",
       "  <clipPath id=\"clip0300\">\n",
       "    <rect x=\"0\" y=\"0\" width=\"600\" height=\"400\"/>\n",
       "  </clipPath>\n",
       "</defs>\n",
       "<polygon clip-path=\"url(#clip0300)\" points=\"\n",
       "0,400 600,400 600,0 0,0 \n",
       "  \" fill=\"#000000\" fill-opacity=\"1\"/>\n",
       "<defs>\n",
       "  <clipPath id=\"clip0301\">\n",
       "    <rect x=\"120\" y=\"0\" width=\"421\" height=\"400\"/>\n",
       "  </clipPath>\n",
       "</defs>\n",
       "<polygon clip-path=\"url(#clip0300)\" points=\"\n",
       "47.0391,375.869 580.315,375.869 580.315,11.811 47.0391,11.811 \n",
       "  \" fill=\"#000000\" fill-opacity=\"1\"/>\n",
       "<defs>\n",
       "  <clipPath id=\"clip0302\">\n",
       "    <rect x=\"47\" y=\"11\" width=\"534\" height=\"365\"/>\n",
       "  </clipPath>\n",
       "</defs>\n",
       "<polyline clip-path=\"url(#clip0302)\" style=\"stroke:#ffff00; stroke-width:0.5; stroke-opacity:0.1; fill:none\" points=\"\n",
       "  142.626,375.869 142.626,11.811 \n",
       "  \"/>\n",
       "<polyline clip-path=\"url(#clip0302)\" style=\"stroke:#ffff00; stroke-width:0.5; stroke-opacity:0.1; fill:none\" points=\"\n",
       "  243.244,375.869 243.244,11.811 \n",
       "  \"/>\n",
       "<polyline clip-path=\"url(#clip0302)\" style=\"stroke:#ffff00; stroke-width:0.5; stroke-opacity:0.1; fill:none\" points=\"\n",
       "  343.862,375.869 343.862,11.811 \n",
       "  \"/>\n",
       "<polyline clip-path=\"url(#clip0302)\" style=\"stroke:#ffff00; stroke-width:0.5; stroke-opacity:0.1; fill:none\" points=\"\n",
       "  444.481,375.869 444.481,11.811 \n",
       "  \"/>\n",
       "<polyline clip-path=\"url(#clip0302)\" style=\"stroke:#ffff00; stroke-width:0.5; stroke-opacity:0.1; fill:none\" points=\"\n",
       "  545.099,375.869 545.099,11.811 \n",
       "  \"/>\n",
       "<polyline clip-path=\"url(#clip0302)\" style=\"stroke:#ffff00; stroke-width:0.5; stroke-opacity:0.1; fill:none\" points=\"\n",
       "  47.0391,375.869 580.315,375.869 \n",
       "  \"/>\n",
       "<polyline clip-path=\"url(#clip0302)\" style=\"stroke:#ffff00; stroke-width:0.5; stroke-opacity:0.1; fill:none\" points=\"\n",
       "  47.0391,351.598 580.315,351.598 \n",
       "  \"/>\n",
       "<polyline clip-path=\"url(#clip0302)\" style=\"stroke:#ffff00; stroke-width:0.5; stroke-opacity:0.1; fill:none\" points=\"\n",
       "  47.0391,327.328 580.315,327.328 \n",
       "  \"/>\n",
       "<polyline clip-path=\"url(#clip0302)\" style=\"stroke:#ffff00; stroke-width:0.5; stroke-opacity:0.1; fill:none\" points=\"\n",
       "  47.0391,303.057 580.315,303.057 \n",
       "  \"/>\n",
       "<polyline clip-path=\"url(#clip0302)\" style=\"stroke:#ffff00; stroke-width:0.5; stroke-opacity:0.1; fill:none\" points=\"\n",
       "  47.0391,278.787 580.315,278.787 \n",
       "  \"/>\n",
       "<polyline clip-path=\"url(#clip0302)\" style=\"stroke:#ffff00; stroke-width:0.5; stroke-opacity:0.1; fill:none\" points=\"\n",
       "  47.0391,254.516 580.315,254.516 \n",
       "  \"/>\n",
       "<polyline clip-path=\"url(#clip0302)\" style=\"stroke:#ffff00; stroke-width:0.5; stroke-opacity:0.1; fill:none\" points=\"\n",
       "  47.0391,230.246 580.315,230.246 \n",
       "  \"/>\n",
       "<polyline clip-path=\"url(#clip0302)\" style=\"stroke:#ffff00; stroke-width:0.5; stroke-opacity:0.1; fill:none\" points=\"\n",
       "  47.0391,205.975 580.315,205.975 \n",
       "  \"/>\n",
       "<polyline clip-path=\"url(#clip0302)\" style=\"stroke:#ffff00; stroke-width:0.5; stroke-opacity:0.1; fill:none\" points=\"\n",
       "  47.0391,181.705 580.315,181.705 \n",
       "  \"/>\n",
       "<polyline clip-path=\"url(#clip0302)\" style=\"stroke:#ffff00; stroke-width:0.5; stroke-opacity:0.1; fill:none\" points=\"\n",
       "  47.0391,157.434 580.315,157.434 \n",
       "  \"/>\n",
       "<polyline clip-path=\"url(#clip0302)\" style=\"stroke:#ffff00; stroke-width:0.5; stroke-opacity:0.1; fill:none\" points=\"\n",
       "  47.0391,133.164 580.315,133.164 \n",
       "  \"/>\n",
       "<polyline clip-path=\"url(#clip0302)\" style=\"stroke:#ffff00; stroke-width:0.5; stroke-opacity:0.1; fill:none\" points=\"\n",
       "  47.0391,108.893 580.315,108.893 \n",
       "  \"/>\n",
       "<polyline clip-path=\"url(#clip0302)\" style=\"stroke:#ffff00; stroke-width:0.5; stroke-opacity:0.1; fill:none\" points=\"\n",
       "  47.0391,84.6226 580.315,84.6226 \n",
       "  \"/>\n",
       "<polyline clip-path=\"url(#clip0302)\" style=\"stroke:#ffff00; stroke-width:0.5; stroke-opacity:0.1; fill:none\" points=\"\n",
       "  47.0391,60.352 580.315,60.352 \n",
       "  \"/>\n",
       "<polyline clip-path=\"url(#clip0302)\" style=\"stroke:#ffff00; stroke-width:0.5; stroke-opacity:0.1; fill:none\" points=\"\n",
       "  47.0391,36.0815 580.315,36.0815 \n",
       "  \"/>\n",
       "<polyline clip-path=\"url(#clip0302)\" style=\"stroke:#ffff00; stroke-width:0.5; stroke-opacity:0.1; fill:none\" points=\"\n",
       "  47.0391,11.811 580.315,11.811 \n",
       "  \"/>\n",
       "<polyline clip-path=\"url(#clip0300)\" style=\"stroke:#ffffff; stroke-width:1; stroke-opacity:1; fill:none\" points=\"\n",
       "  47.0391,375.869 580.315,375.869 \n",
       "  \"/>\n",
       "<polyline clip-path=\"url(#clip0300)\" style=\"stroke:#ffffff; stroke-width:1; stroke-opacity:1; fill:none\" points=\"\n",
       "  47.0391,375.869 47.0391,11.811 \n",
       "  \"/>\n",
       "<polyline clip-path=\"url(#clip0300)\" style=\"stroke:#ffffff; stroke-width:1; stroke-opacity:1; fill:none\" points=\"\n",
       "  142.626,375.869 142.626,370.408 \n",
       "  \"/>\n",
       "<polyline clip-path=\"url(#clip0300)\" style=\"stroke:#ffffff; stroke-width:1; stroke-opacity:1; fill:none\" points=\"\n",
       "  243.244,375.869 243.244,370.408 \n",
       "  \"/>\n",
       "<polyline clip-path=\"url(#clip0300)\" style=\"stroke:#ffffff; stroke-width:1; stroke-opacity:1; fill:none\" points=\"\n",
       "  343.862,375.869 343.862,370.408 \n",
       "  \"/>\n",
       "<polyline clip-path=\"url(#clip0300)\" style=\"stroke:#ffffff; stroke-width:1; stroke-opacity:1; fill:none\" points=\"\n",
       "  444.481,375.869 444.481,370.408 \n",
       "  \"/>\n",
       "<polyline clip-path=\"url(#clip0300)\" style=\"stroke:#ffffff; stroke-width:1; stroke-opacity:1; fill:none\" points=\"\n",
       "  545.099,375.869 545.099,370.408 \n",
       "  \"/>\n",
       "<polyline clip-path=\"url(#clip0300)\" style=\"stroke:#ffffff; stroke-width:1; stroke-opacity:1; fill:none\" points=\"\n",
       "  47.0391,375.869 55.0382,375.869 \n",
       "  \"/>\n",
       "<polyline clip-path=\"url(#clip0300)\" style=\"stroke:#ffffff; stroke-width:1; stroke-opacity:1; fill:none\" points=\"\n",
       "  47.0391,351.598 55.0382,351.598 \n",
       "  \"/>\n",
       "<polyline clip-path=\"url(#clip0300)\" style=\"stroke:#ffffff; stroke-width:1; stroke-opacity:1; fill:none\" points=\"\n",
       "  47.0391,327.328 55.0382,327.328 \n",
       "  \"/>\n",
       "<polyline clip-path=\"url(#clip0300)\" style=\"stroke:#ffffff; stroke-width:1; stroke-opacity:1; fill:none\" points=\"\n",
       "  47.0391,303.057 55.0382,303.057 \n",
       "  \"/>\n",
       "<polyline clip-path=\"url(#clip0300)\" style=\"stroke:#ffffff; stroke-width:1; stroke-opacity:1; fill:none\" points=\"\n",
       "  47.0391,278.787 55.0382,278.787 \n",
       "  \"/>\n",
       "<polyline clip-path=\"url(#clip0300)\" style=\"stroke:#ffffff; stroke-width:1; stroke-opacity:1; fill:none\" points=\"\n",
       "  47.0391,254.516 55.0382,254.516 \n",
       "  \"/>\n",
       "<polyline clip-path=\"url(#clip0300)\" style=\"stroke:#ffffff; stroke-width:1; stroke-opacity:1; fill:none\" points=\"\n",
       "  47.0391,230.246 55.0382,230.246 \n",
       "  \"/>\n",
       "<polyline clip-path=\"url(#clip0300)\" style=\"stroke:#ffffff; stroke-width:1; stroke-opacity:1; fill:none\" points=\"\n",
       "  47.0391,205.975 55.0382,205.975 \n",
       "  \"/>\n",
       "<polyline clip-path=\"url(#clip0300)\" style=\"stroke:#ffffff; stroke-width:1; stroke-opacity:1; fill:none\" points=\"\n",
       "  47.0391,181.705 55.0382,181.705 \n",
       "  \"/>\n",
       "<polyline clip-path=\"url(#clip0300)\" style=\"stroke:#ffffff; stroke-width:1; stroke-opacity:1; fill:none\" points=\"\n",
       "  47.0391,157.434 55.0382,157.434 \n",
       "  \"/>\n",
       "<polyline clip-path=\"url(#clip0300)\" style=\"stroke:#ffffff; stroke-width:1; stroke-opacity:1; fill:none\" points=\"\n",
       "  47.0391,133.164 55.0382,133.164 \n",
       "  \"/>\n",
       "<polyline clip-path=\"url(#clip0300)\" style=\"stroke:#ffffff; stroke-width:1; stroke-opacity:1; fill:none\" points=\"\n",
       "  47.0391,108.893 55.0382,108.893 \n",
       "  \"/>\n",
       "<polyline clip-path=\"url(#clip0300)\" style=\"stroke:#ffffff; stroke-width:1; stroke-opacity:1; fill:none\" points=\"\n",
       "  47.0391,84.6226 55.0382,84.6226 \n",
       "  \"/>\n",
       "<polyline clip-path=\"url(#clip0300)\" style=\"stroke:#ffffff; stroke-width:1; stroke-opacity:1; fill:none\" points=\"\n",
       "  47.0391,60.352 55.0382,60.352 \n",
       "  \"/>\n",
       "<polyline clip-path=\"url(#clip0300)\" style=\"stroke:#ffffff; stroke-width:1; stroke-opacity:1; fill:none\" points=\"\n",
       "  47.0391,36.0815 55.0382,36.0815 \n",
       "  \"/>\n",
       "<polyline clip-path=\"url(#clip0300)\" style=\"stroke:#ffffff; stroke-width:1; stroke-opacity:1; fill:none\" points=\"\n",
       "  47.0391,11.811 55.0382,11.811 \n",
       "  \"/>\n",
       "<g clip-path=\"url(#clip0300)\">\n",
       "<text style=\"fill:#ffffff; fill-opacity:1; font-family:Arial,Helvetica Neue,Helvetica,sans-serif; font-size:12; text-anchor:middle;\" transform=\"rotate(0, 142.626, 389.669)\" x=\"142.626\" y=\"389.669\">5</text>\n",
       "</g>\n",
       "<g clip-path=\"url(#clip0300)\">\n",
       "<text style=\"fill:#ffffff; fill-opacity:1; font-family:Arial,Helvetica Neue,Helvetica,sans-serif; font-size:12; text-anchor:middle;\" transform=\"rotate(0, 243.244, 389.669)\" x=\"243.244\" y=\"389.669\">10</text>\n",
       "</g>\n",
       "<g clip-path=\"url(#clip0300)\">\n",
       "<text style=\"fill:#ffffff; fill-opacity:1; font-family:Arial,Helvetica Neue,Helvetica,sans-serif; font-size:12; text-anchor:middle;\" transform=\"rotate(0, 343.862, 389.669)\" x=\"343.862\" y=\"389.669\">15</text>\n",
       "</g>\n",
       "<g clip-path=\"url(#clip0300)\">\n",
       "<text style=\"fill:#ffffff; fill-opacity:1; font-family:Arial,Helvetica Neue,Helvetica,sans-serif; font-size:12; text-anchor:middle;\" transform=\"rotate(0, 444.481, 389.669)\" x=\"444.481\" y=\"389.669\">20</text>\n",
       "</g>\n",
       "<g clip-path=\"url(#clip0300)\">\n",
       "<text style=\"fill:#ffffff; fill-opacity:1; font-family:Arial,Helvetica Neue,Helvetica,sans-serif; font-size:12; text-anchor:middle;\" transform=\"rotate(0, 545.099, 389.669)\" x=\"545.099\" y=\"389.669\">25</text>\n",
       "</g>\n",
       "<g clip-path=\"url(#clip0300)\">\n",
       "<text style=\"fill:#ffffff; fill-opacity:1; font-family:Arial,Helvetica Neue,Helvetica,sans-serif; font-size:12; text-anchor:end;\" transform=\"rotate(0, 41.0391, 380.369)\" x=\"41.0391\" y=\"380.369\">0.00</text>\n",
       "</g>\n",
       "<g clip-path=\"url(#clip0300)\">\n",
       "<text style=\"fill:#ffffff; fill-opacity:1; font-family:Arial,Helvetica Neue,Helvetica,sans-serif; font-size:12; text-anchor:end;\" transform=\"rotate(0, 41.0391, 356.098)\" x=\"41.0391\" y=\"356.098\">0.01</text>\n",
       "</g>\n",
       "<g clip-path=\"url(#clip0300)\">\n",
       "<text style=\"fill:#ffffff; fill-opacity:1; font-family:Arial,Helvetica Neue,Helvetica,sans-serif; font-size:12; text-anchor:end;\" transform=\"rotate(0, 41.0391, 331.828)\" x=\"41.0391\" y=\"331.828\">0.02</text>\n",
       "</g>\n",
       "<g clip-path=\"url(#clip0300)\">\n",
       "<text style=\"fill:#ffffff; fill-opacity:1; font-family:Arial,Helvetica Neue,Helvetica,sans-serif; font-size:12; text-anchor:end;\" transform=\"rotate(0, 41.0391, 307.557)\" x=\"41.0391\" y=\"307.557\">0.03</text>\n",
       "</g>\n",
       "<g clip-path=\"url(#clip0300)\">\n",
       "<text style=\"fill:#ffffff; fill-opacity:1; font-family:Arial,Helvetica Neue,Helvetica,sans-serif; font-size:12; text-anchor:end;\" transform=\"rotate(0, 41.0391, 283.287)\" x=\"41.0391\" y=\"283.287\">0.04</text>\n",
       "</g>\n",
       "<g clip-path=\"url(#clip0300)\">\n",
       "<text style=\"fill:#ffffff; fill-opacity:1; font-family:Arial,Helvetica Neue,Helvetica,sans-serif; font-size:12; text-anchor:end;\" transform=\"rotate(0, 41.0391, 259.016)\" x=\"41.0391\" y=\"259.016\">0.05</text>\n",
       "</g>\n",
       "<g clip-path=\"url(#clip0300)\">\n",
       "<text style=\"fill:#ffffff; fill-opacity:1; font-family:Arial,Helvetica Neue,Helvetica,sans-serif; font-size:12; text-anchor:end;\" transform=\"rotate(0, 41.0391, 234.746)\" x=\"41.0391\" y=\"234.746\">0.06</text>\n",
       "</g>\n",
       "<g clip-path=\"url(#clip0300)\">\n",
       "<text style=\"fill:#ffffff; fill-opacity:1; font-family:Arial,Helvetica Neue,Helvetica,sans-serif; font-size:12; text-anchor:end;\" transform=\"rotate(0, 41.0391, 210.475)\" x=\"41.0391\" y=\"210.475\">0.07</text>\n",
       "</g>\n",
       "<g clip-path=\"url(#clip0300)\">\n",
       "<text style=\"fill:#ffffff; fill-opacity:1; font-family:Arial,Helvetica Neue,Helvetica,sans-serif; font-size:12; text-anchor:end;\" transform=\"rotate(0, 41.0391, 186.205)\" x=\"41.0391\" y=\"186.205\">0.08</text>\n",
       "</g>\n",
       "<g clip-path=\"url(#clip0300)\">\n",
       "<text style=\"fill:#ffffff; fill-opacity:1; font-family:Arial,Helvetica Neue,Helvetica,sans-serif; font-size:12; text-anchor:end;\" transform=\"rotate(0, 41.0391, 161.934)\" x=\"41.0391\" y=\"161.934\">0.09</text>\n",
       "</g>\n",
       "<g clip-path=\"url(#clip0300)\">\n",
       "<text style=\"fill:#ffffff; fill-opacity:1; font-family:Arial,Helvetica Neue,Helvetica,sans-serif; font-size:12; text-anchor:end;\" transform=\"rotate(0, 41.0391, 137.664)\" x=\"41.0391\" y=\"137.664\">0.10</text>\n",
       "</g>\n",
       "<g clip-path=\"url(#clip0300)\">\n",
       "<text style=\"fill:#ffffff; fill-opacity:1; font-family:Arial,Helvetica Neue,Helvetica,sans-serif; font-size:12; text-anchor:end;\" transform=\"rotate(0, 41.0391, 113.393)\" x=\"41.0391\" y=\"113.393\">0.11</text>\n",
       "</g>\n",
       "<g clip-path=\"url(#clip0300)\">\n",
       "<text style=\"fill:#ffffff; fill-opacity:1; font-family:Arial,Helvetica Neue,Helvetica,sans-serif; font-size:12; text-anchor:end;\" transform=\"rotate(0, 41.0391, 89.1226)\" x=\"41.0391\" y=\"89.1226\">0.12</text>\n",
       "</g>\n",
       "<g clip-path=\"url(#clip0300)\">\n",
       "<text style=\"fill:#ffffff; fill-opacity:1; font-family:Arial,Helvetica Neue,Helvetica,sans-serif; font-size:12; text-anchor:end;\" transform=\"rotate(0, 41.0391, 64.852)\" x=\"41.0391\" y=\"64.852\">0.13</text>\n",
       "</g>\n",
       "<g clip-path=\"url(#clip0300)\">\n",
       "<text style=\"fill:#ffffff; fill-opacity:1; font-family:Arial,Helvetica Neue,Helvetica,sans-serif; font-size:12; text-anchor:end;\" transform=\"rotate(0, 41.0391, 40.5815)\" x=\"41.0391\" y=\"40.5815\">0.14</text>\n",
       "</g>\n",
       "<g clip-path=\"url(#clip0300)\">\n",
       "<text style=\"fill:#ffffff; fill-opacity:1; font-family:Arial,Helvetica Neue,Helvetica,sans-serif; font-size:12; text-anchor:end;\" transform=\"rotate(0, 41.0391, 16.311)\" x=\"41.0391\" y=\"16.311\">0.15</text>\n",
       "</g>\n",
       "<polyline clip-path=\"url(#clip0302)\" style=\"stroke:#14d0ff; stroke-width:1; stroke-opacity:1; fill:none\" points=\"\n",
       "  62.1318,-2049.88 82.2554,-174.484 102.379,44.6378 122.503,79.0053 142.626,90.0265 162.75,102.707 182.874,120.483 202.997,115.861 223.121,120.72 243.244,117.876 \n",
       "  263.368,106.144 283.492,118.824 303.615,123.209 323.739,121.55 343.862,115.15 363.986,115.269 384.11,117.639 404.233,125.579 424.357,113.847 444.481,115.98 \n",
       "  464.604,120.839 484.728,117.639 504.851,117.757 524.975,120.483 545.099,117.046 565.222,116.098 \n",
       "  \"/>\n",
       "<polyline clip-path=\"url(#clip0302)\" style=\"stroke:#ffa478; stroke-width:1; stroke-opacity:1; fill:none\" stroke-dasharray=\"8, 5\" points=\"\n",
       "  62.1318,-2051.18 82.2554,-934.36 102.379,-199.489 122.503,52.3409 142.626,117.046 162.75,137.193 182.874,176.538 202.997,187.322 223.121,190.403 243.244,197.04 \n",
       "  263.368,201.187 283.492,198.936 303.615,203.439 323.739,201.306 343.862,211.142 363.986,198.936 384.11,203.795 404.233,210.668 424.357,206.402 444.481,208.179 \n",
       "  464.604,209.601 484.728,204.861 504.851,206.994 524.975,208.535 545.099,209.364 565.222,206.757 \n",
       "  \"/>\n",
       "<polyline clip-path=\"url(#clip0302)\" style=\"stroke:#a2d566; stroke-width:1; stroke-opacity:1; fill:none\" stroke-dasharray=\"1, 2\" points=\"\n",
       "  62.1318,-2032.93 82.2554,-739.295 102.379,6.47815 122.503,107.684 142.626,143.829 162.75,158.287 182.874,186.729 202.997,191.588 223.121,187.914 243.244,192.892 \n",
       "  263.368,190.522 283.492,189.1 303.615,194.195 323.739,189.811 343.862,193.129 363.986,183.411 384.11,188.981 404.233,194.669 424.357,193.84 444.481,186.729 \n",
       "  464.604,190.403 484.728,185.07 504.851,184.478 524.975,190.522 545.099,190.522 565.222,190.877 \n",
       "  \"/>\n",
       "<polyline clip-path=\"url(#clip0302)\" style=\"stroke:#fda7fe; stroke-width:1; stroke-opacity:1; fill:none\" stroke-dasharray=\"8, 4, 1, 4\" points=\"\n",
       "  62.1318,-2050.23 82.2554,-726.14 102.379,41.2011 122.503,152.954 142.626,193.84 162.75,212.446 182.874,241.48 202.997,247.406 223.121,246.458 243.244,251.079 \n",
       "  263.368,250.605 283.492,258.19 303.615,256.294 323.739,253.094 343.862,256.294 363.986,259.73 384.11,257.834 404.233,261.508 424.357,262.693 444.481,257.479 \n",
       "  464.604,261.982 484.728,256.175 504.851,249.42 524.975,259.256 545.099,261.745 565.222,257.834 \n",
       "  \"/>\n",
       "<polyline clip-path=\"url(#clip0302)\" style=\"stroke:#00e2c2; stroke-width:1; stroke-opacity:1; fill:none\" stroke-dasharray=\"8, 4, 1, 4, 1, 4\" points=\"\n",
       "  62.1318,-2049.88 82.2554,-584.167 102.379,86.1158 122.503,171.442 142.626,205.572 162.75,218.016 182.874,239.347 202.997,247.406 223.121,248.828 243.244,250.961 \n",
       "  263.368,247.761 283.492,254.161 303.615,250.724 323.739,253.213 343.862,256.412 363.986,254.161 384.11,256.531 404.233,252.739 424.357,257.716 444.481,251.198 \n",
       "  464.604,258.664 484.728,254.161 504.851,221.689 524.975,254.161 545.099,260.679 565.222,256.294 \n",
       "  \"/>\n",
       "<polygon clip-path=\"url(#clip0300)\" points=\"\n",
       "484.927,123.411 562.315,123.411 562.315,32.691 484.927,32.691 \n",
       "  \" fill=\"#000000\" fill-opacity=\"1\"/>\n",
       "<polyline clip-path=\"url(#clip0300)\" style=\"stroke:#ffffff; stroke-width:1; stroke-opacity:1; fill:none\" points=\"\n",
       "  484.927,123.411 562.315,123.411 562.315,32.691 484.927,32.691 484.927,123.411 \n",
       "  \"/>\n",
       "<polyline clip-path=\"url(#clip0300)\" style=\"stroke:#14d0ff; stroke-width:1; stroke-opacity:1; fill:none\" points=\"\n",
       "  490.927,47.811 526.927,47.811 \n",
       "  \"/>\n",
       "<g clip-path=\"url(#clip0300)\">\n",
       "<text style=\"fill:#ffffff; fill-opacity:1; font-family:Arial,Helvetica Neue,Helvetica,sans-serif; font-size:12; text-anchor:start;\" transform=\"rotate(0, 532.927, 52.311)\" x=\"532.927\" y=\"52.311\">r0</text>\n",
       "</g>\n",
       "<polyline clip-path=\"url(#clip0300)\" style=\"stroke:#ffa478; stroke-width:1; stroke-opacity:1; fill:none\" stroke-dasharray=\"8, 5\" points=\"\n",
       "  490.927,62.931 526.927,62.931 \n",
       "  \"/>\n",
       "<g clip-path=\"url(#clip0300)\">\n",
       "<text style=\"fill:#ffffff; fill-opacity:1; font-family:Arial,Helvetica Neue,Helvetica,sans-serif; font-size:12; text-anchor:start;\" transform=\"rotate(0, 532.927, 67.431)\" x=\"532.927\" y=\"67.431\">r1</text>\n",
       "</g>\n",
       "<polyline clip-path=\"url(#clip0300)\" style=\"stroke:#a2d566; stroke-width:1; stroke-opacity:1; fill:none\" stroke-dasharray=\"1, 2\" points=\"\n",
       "  490.927,78.051 526.927,78.051 \n",
       "  \"/>\n",
       "<g clip-path=\"url(#clip0300)\">\n",
       "<text style=\"fill:#ffffff; fill-opacity:1; font-family:Arial,Helvetica Neue,Helvetica,sans-serif; font-size:12; text-anchor:start;\" transform=\"rotate(0, 532.927, 82.551)\" x=\"532.927\" y=\"82.551\">r1a</text>\n",
       "</g>\n",
       "<polyline clip-path=\"url(#clip0300)\" style=\"stroke:#fda7fe; stroke-width:1; stroke-opacity:1; fill:none\" stroke-dasharray=\"8, 4, 1, 4\" points=\"\n",
       "  490.927,93.171 526.927,93.171 \n",
       "  \"/>\n",
       "<g clip-path=\"url(#clip0300)\">\n",
       "<text style=\"fill:#ffffff; fill-opacity:1; font-family:Arial,Helvetica Neue,Helvetica,sans-serif; font-size:12; text-anchor:start;\" transform=\"rotate(0, 532.927, 97.671)\" x=\"532.927\" y=\"97.671\">r2</text>\n",
       "</g>\n",
       "<polyline clip-path=\"url(#clip0300)\" style=\"stroke:#00e2c2; stroke-width:1; stroke-opacity:1; fill:none\" stroke-dasharray=\"8, 4, 1, 4, 1, 4\" points=\"\n",
       "  490.927,108.291 526.927,108.291 \n",
       "  \"/>\n",
       "<g clip-path=\"url(#clip0300)\">\n",
       "<text style=\"fill:#ffffff; fill-opacity:1; font-family:Arial,Helvetica Neue,Helvetica,sans-serif; font-size:12; text-anchor:start;\" transform=\"rotate(0, 532.927, 112.791)\" x=\"532.927\" y=\"112.791\">r2a</text>\n",
       "</g>\n",
       "</svg>\n"
      ]
     },
     "execution_count": 122,
     "metadata": {},
     "output_type": "execute_result"
    }
   ],
   "source": [
    "using Plots\n",
    "plot([r0.errors, r1.errors, r1a.errors, r2.errors, r2a.errors]; \n",
    "    ylim=(0,0.15), yticks=0:0.01:0.15, labels=[\"r0\",\"r1\",\"r1a\",\"r2\",\"r2a\"], \n",
    "    linestyle=:auto,bg=:black,gridcolor=:yellow,grid=true)"
   ]
  },
  {
   "cell_type": "code",
   "execution_count": 123,
   "metadata": {},
   "outputs": [
    {
     "data": {
      "image/svg+xml": [
       "<?xml version=\"1.0\" encoding=\"utf-8\"?>\n",
       "<svg xmlns=\"http://www.w3.org/2000/svg\" xmlns:xlink=\"http://www.w3.org/1999/xlink\" width=\"600\" height=\"400\" viewBox=\"0 0 600 400\">\n",
       "<defs>\n",
       "  <clipPath id=\"clip0500\">\n",
       "    <rect x=\"0\" y=\"0\" width=\"600\" height=\"400\"/>\n",
       "  </clipPath>\n",
       "</defs>\n",
       "<polygon clip-path=\"url(#clip0500)\" points=\"\n",
       "0,400 600,400 600,0 0,0 \n",
       "  \" fill=\"#000000\" fill-opacity=\"1\"/>\n",
       "<defs>\n",
       "  <clipPath id=\"clip0501\">\n",
       "    <rect x=\"120\" y=\"0\" width=\"421\" height=\"400\"/>\n",
       "  </clipPath>\n",
       "</defs>\n",
       "<polygon clip-path=\"url(#clip0500)\" points=\"\n",
       "40.3485,375.869 580.315,375.869 580.315,11.811 40.3485,11.811 \n",
       "  \" fill=\"#000000\" fill-opacity=\"1\"/>\n",
       "<defs>\n",
       "  <clipPath id=\"clip0502\">\n",
       "    <rect x=\"40\" y=\"11\" width=\"541\" height=\"365\"/>\n",
       "  </clipPath>\n",
       "</defs>\n",
       "<polyline clip-path=\"url(#clip0502)\" style=\"stroke:#ffffff; stroke-width:0.5; stroke-opacity:0.1; fill:none\" points=\"\n",
       "  137.135,375.869 137.135,11.811 \n",
       "  \"/>\n",
       "<polyline clip-path=\"url(#clip0502)\" style=\"stroke:#ffffff; stroke-width:0.5; stroke-opacity:0.1; fill:none\" points=\"\n",
       "  239.015,375.869 239.015,11.811 \n",
       "  \"/>\n",
       "<polyline clip-path=\"url(#clip0502)\" style=\"stroke:#ffffff; stroke-width:0.5; stroke-opacity:0.1; fill:none\" points=\"\n",
       "  340.896,375.869 340.896,11.811 \n",
       "  \"/>\n",
       "<polyline clip-path=\"url(#clip0502)\" style=\"stroke:#ffffff; stroke-width:0.5; stroke-opacity:0.1; fill:none\" points=\"\n",
       "  442.776,375.869 442.776,11.811 \n",
       "  \"/>\n",
       "<polyline clip-path=\"url(#clip0502)\" style=\"stroke:#ffffff; stroke-width:0.5; stroke-opacity:0.1; fill:none\" points=\"\n",
       "  544.657,375.869 544.657,11.811 \n",
       "  \"/>\n",
       "<polyline clip-path=\"url(#clip0502)\" style=\"stroke:#ffffff; stroke-width:0.5; stroke-opacity:0.1; fill:none\" points=\"\n",
       "  40.3485,375.869 580.315,375.869 \n",
       "  \"/>\n",
       "<polyline clip-path=\"url(#clip0502)\" style=\"stroke:#ffffff; stroke-width:0.5; stroke-opacity:0.1; fill:none\" points=\"\n",
       "  40.3485,339.463 580.315,339.463 \n",
       "  \"/>\n",
       "<polyline clip-path=\"url(#clip0502)\" style=\"stroke:#ffffff; stroke-width:0.5; stroke-opacity:0.1; fill:none\" points=\"\n",
       "  40.3485,303.057 580.315,303.057 \n",
       "  \"/>\n",
       "<polyline clip-path=\"url(#clip0502)\" style=\"stroke:#ffffff; stroke-width:0.5; stroke-opacity:0.1; fill:none\" points=\"\n",
       "  40.3485,266.651 580.315,266.651 \n",
       "  \"/>\n",
       "<polyline clip-path=\"url(#clip0502)\" style=\"stroke:#ffffff; stroke-width:0.5; stroke-opacity:0.1; fill:none\" points=\"\n",
       "  40.3485,230.246 580.315,230.246 \n",
       "  \"/>\n",
       "<polyline clip-path=\"url(#clip0502)\" style=\"stroke:#ffffff; stroke-width:0.5; stroke-opacity:0.1; fill:none\" points=\"\n",
       "  40.3485,193.84 580.315,193.84 \n",
       "  \"/>\n",
       "<polyline clip-path=\"url(#clip0502)\" style=\"stroke:#ffffff; stroke-width:0.5; stroke-opacity:0.1; fill:none\" points=\"\n",
       "  40.3485,157.434 580.315,157.434 \n",
       "  \"/>\n",
       "<polyline clip-path=\"url(#clip0502)\" style=\"stroke:#ffffff; stroke-width:0.5; stroke-opacity:0.1; fill:none\" points=\"\n",
       "  40.3485,121.028 580.315,121.028 \n",
       "  \"/>\n",
       "<polyline clip-path=\"url(#clip0502)\" style=\"stroke:#ffffff; stroke-width:0.5; stroke-opacity:0.1; fill:none\" points=\"\n",
       "  40.3485,84.6226 580.315,84.6226 \n",
       "  \"/>\n",
       "<polyline clip-path=\"url(#clip0502)\" style=\"stroke:#ffffff; stroke-width:0.5; stroke-opacity:0.1; fill:none\" points=\"\n",
       "  40.3485,48.2168 580.315,48.2168 \n",
       "  \"/>\n",
       "<polyline clip-path=\"url(#clip0502)\" style=\"stroke:#ffffff; stroke-width:0.5; stroke-opacity:0.1; fill:none\" points=\"\n",
       "  40.3485,11.811 580.315,11.811 \n",
       "  \"/>\n",
       "<polyline clip-path=\"url(#clip0500)\" style=\"stroke:#ffffff; stroke-width:1; stroke-opacity:1; fill:none\" points=\"\n",
       "  40.3485,375.869 580.315,375.869 \n",
       "  \"/>\n",
       "<polyline clip-path=\"url(#clip0500)\" style=\"stroke:#ffffff; stroke-width:1; stroke-opacity:1; fill:none\" points=\"\n",
       "  40.3485,375.869 40.3485,11.811 \n",
       "  \"/>\n",
       "<polyline clip-path=\"url(#clip0500)\" style=\"stroke:#ffffff; stroke-width:1; stroke-opacity:1; fill:none\" points=\"\n",
       "  137.135,375.869 137.135,370.408 \n",
       "  \"/>\n",
       "<polyline clip-path=\"url(#clip0500)\" style=\"stroke:#ffffff; stroke-width:1; stroke-opacity:1; fill:none\" points=\"\n",
       "  239.015,375.869 239.015,370.408 \n",
       "  \"/>\n",
       "<polyline clip-path=\"url(#clip0500)\" style=\"stroke:#ffffff; stroke-width:1; stroke-opacity:1; fill:none\" points=\"\n",
       "  340.896,375.869 340.896,370.408 \n",
       "  \"/>\n",
       "<polyline clip-path=\"url(#clip0500)\" style=\"stroke:#ffffff; stroke-width:1; stroke-opacity:1; fill:none\" points=\"\n",
       "  442.776,375.869 442.776,370.408 \n",
       "  \"/>\n",
       "<polyline clip-path=\"url(#clip0500)\" style=\"stroke:#ffffff; stroke-width:1; stroke-opacity:1; fill:none\" points=\"\n",
       "  544.657,375.869 544.657,370.408 \n",
       "  \"/>\n",
       "<polyline clip-path=\"url(#clip0500)\" style=\"stroke:#ffffff; stroke-width:1; stroke-opacity:1; fill:none\" points=\"\n",
       "  40.3485,375.869 48.448,375.869 \n",
       "  \"/>\n",
       "<polyline clip-path=\"url(#clip0500)\" style=\"stroke:#ffffff; stroke-width:1; stroke-opacity:1; fill:none\" points=\"\n",
       "  40.3485,339.463 48.448,339.463 \n",
       "  \"/>\n",
       "<polyline clip-path=\"url(#clip0500)\" style=\"stroke:#ffffff; stroke-width:1; stroke-opacity:1; fill:none\" points=\"\n",
       "  40.3485,303.057 48.448,303.057 \n",
       "  \"/>\n",
       "<polyline clip-path=\"url(#clip0500)\" style=\"stroke:#ffffff; stroke-width:1; stroke-opacity:1; fill:none\" points=\"\n",
       "  40.3485,266.651 48.448,266.651 \n",
       "  \"/>\n",
       "<polyline clip-path=\"url(#clip0500)\" style=\"stroke:#ffffff; stroke-width:1; stroke-opacity:1; fill:none\" points=\"\n",
       "  40.3485,230.246 48.448,230.246 \n",
       "  \"/>\n",
       "<polyline clip-path=\"url(#clip0500)\" style=\"stroke:#ffffff; stroke-width:1; stroke-opacity:1; fill:none\" points=\"\n",
       "  40.3485,193.84 48.448,193.84 \n",
       "  \"/>\n",
       "<polyline clip-path=\"url(#clip0500)\" style=\"stroke:#ffffff; stroke-width:1; stroke-opacity:1; fill:none\" points=\"\n",
       "  40.3485,157.434 48.448,157.434 \n",
       "  \"/>\n",
       "<polyline clip-path=\"url(#clip0500)\" style=\"stroke:#ffffff; stroke-width:1; stroke-opacity:1; fill:none\" points=\"\n",
       "  40.3485,121.028 48.448,121.028 \n",
       "  \"/>\n",
       "<polyline clip-path=\"url(#clip0500)\" style=\"stroke:#ffffff; stroke-width:1; stroke-opacity:1; fill:none\" points=\"\n",
       "  40.3485,84.6226 48.448,84.6226 \n",
       "  \"/>\n",
       "<polyline clip-path=\"url(#clip0500)\" style=\"stroke:#ffffff; stroke-width:1; stroke-opacity:1; fill:none\" points=\"\n",
       "  40.3485,48.2168 48.448,48.2168 \n",
       "  \"/>\n",
       "<polyline clip-path=\"url(#clip0500)\" style=\"stroke:#ffffff; stroke-width:1; stroke-opacity:1; fill:none\" points=\"\n",
       "  40.3485,11.811 48.448,11.811 \n",
       "  \"/>\n",
       "<g clip-path=\"url(#clip0500)\">\n",
       "<text style=\"fill:#ffffff; fill-opacity:1; font-family:Arial,Helvetica Neue,Helvetica,sans-serif; font-size:12; text-anchor:middle;\" transform=\"rotate(0, 137.135, 389.669)\" x=\"137.135\" y=\"389.669\">5</text>\n",
       "</g>\n",
       "<g clip-path=\"url(#clip0500)\">\n",
       "<text style=\"fill:#ffffff; fill-opacity:1; font-family:Arial,Helvetica Neue,Helvetica,sans-serif; font-size:12; text-anchor:middle;\" transform=\"rotate(0, 239.015, 389.669)\" x=\"239.015\" y=\"389.669\">10</text>\n",
       "</g>\n",
       "<g clip-path=\"url(#clip0500)\">\n",
       "<text style=\"fill:#ffffff; fill-opacity:1; font-family:Arial,Helvetica Neue,Helvetica,sans-serif; font-size:12; text-anchor:middle;\" transform=\"rotate(0, 340.896, 389.669)\" x=\"340.896\" y=\"389.669\">15</text>\n",
       "</g>\n",
       "<g clip-path=\"url(#clip0500)\">\n",
       "<text style=\"fill:#ffffff; fill-opacity:1; font-family:Arial,Helvetica Neue,Helvetica,sans-serif; font-size:12; text-anchor:middle;\" transform=\"rotate(0, 442.776, 389.669)\" x=\"442.776\" y=\"389.669\">20</text>\n",
       "</g>\n",
       "<g clip-path=\"url(#clip0500)\">\n",
       "<text style=\"fill:#ffffff; fill-opacity:1; font-family:Arial,Helvetica Neue,Helvetica,sans-serif; font-size:12; text-anchor:middle;\" transform=\"rotate(0, 544.657, 389.669)\" x=\"544.657\" y=\"389.669\">25</text>\n",
       "</g>\n",
       "<g clip-path=\"url(#clip0500)\">\n",
       "<text style=\"fill:#ffffff; fill-opacity:1; font-family:Arial,Helvetica Neue,Helvetica,sans-serif; font-size:12; text-anchor:end;\" transform=\"rotate(0, 34.3485, 380.369)\" x=\"34.3485\" y=\"380.369\">0.0</text>\n",
       "</g>\n",
       "<g clip-path=\"url(#clip0500)\">\n",
       "<text style=\"fill:#ffffff; fill-opacity:1; font-family:Arial,Helvetica Neue,Helvetica,sans-serif; font-size:12; text-anchor:end;\" transform=\"rotate(0, 34.3485, 343.963)\" x=\"34.3485\" y=\"343.963\">0.1</text>\n",
       "</g>\n",
       "<g clip-path=\"url(#clip0500)\">\n",
       "<text style=\"fill:#ffffff; fill-opacity:1; font-family:Arial,Helvetica Neue,Helvetica,sans-serif; font-size:12; text-anchor:end;\" transform=\"rotate(0, 34.3485, 307.557)\" x=\"34.3485\" y=\"307.557\">0.2</text>\n",
       "</g>\n",
       "<g clip-path=\"url(#clip0500)\">\n",
       "<text style=\"fill:#ffffff; fill-opacity:1; font-family:Arial,Helvetica Neue,Helvetica,sans-serif; font-size:12; text-anchor:end;\" transform=\"rotate(0, 34.3485, 271.151)\" x=\"34.3485\" y=\"271.151\">0.3</text>\n",
       "</g>\n",
       "<g clip-path=\"url(#clip0500)\">\n",
       "<text style=\"fill:#ffffff; fill-opacity:1; font-family:Arial,Helvetica Neue,Helvetica,sans-serif; font-size:12; text-anchor:end;\" transform=\"rotate(0, 34.3485, 234.746)\" x=\"34.3485\" y=\"234.746\">0.4</text>\n",
       "</g>\n",
       "<g clip-path=\"url(#clip0500)\">\n",
       "<text style=\"fill:#ffffff; fill-opacity:1; font-family:Arial,Helvetica Neue,Helvetica,sans-serif; font-size:12; text-anchor:end;\" transform=\"rotate(0, 34.3485, 198.34)\" x=\"34.3485\" y=\"198.34\">0.5</text>\n",
       "</g>\n",
       "<g clip-path=\"url(#clip0500)\">\n",
       "<text style=\"fill:#ffffff; fill-opacity:1; font-family:Arial,Helvetica Neue,Helvetica,sans-serif; font-size:12; text-anchor:end;\" transform=\"rotate(0, 34.3485, 161.934)\" x=\"34.3485\" y=\"161.934\">0.6</text>\n",
       "</g>\n",
       "<g clip-path=\"url(#clip0500)\">\n",
       "<text style=\"fill:#ffffff; fill-opacity:1; font-family:Arial,Helvetica Neue,Helvetica,sans-serif; font-size:12; text-anchor:end;\" transform=\"rotate(0, 34.3485, 125.528)\" x=\"34.3485\" y=\"125.528\">0.7</text>\n",
       "</g>\n",
       "<g clip-path=\"url(#clip0500)\">\n",
       "<text style=\"fill:#ffffff; fill-opacity:1; font-family:Arial,Helvetica Neue,Helvetica,sans-serif; font-size:12; text-anchor:end;\" transform=\"rotate(0, 34.3485, 89.1226)\" x=\"34.3485\" y=\"89.1226\">0.8</text>\n",
       "</g>\n",
       "<g clip-path=\"url(#clip0500)\">\n",
       "<text style=\"fill:#ffffff; fill-opacity:1; font-family:Arial,Helvetica Neue,Helvetica,sans-serif; font-size:12; text-anchor:end;\" transform=\"rotate(0, 34.3485, 52.7168)\" x=\"34.3485\" y=\"52.7168\">0.9</text>\n",
       "</g>\n",
       "<g clip-path=\"url(#clip0500)\">\n",
       "<text style=\"fill:#ffffff; fill-opacity:1; font-family:Arial,Helvetica Neue,Helvetica,sans-serif; font-size:12; text-anchor:end;\" transform=\"rotate(0, 34.3485, 16.311)\" x=\"34.3485\" y=\"16.311\">1.0</text>\n",
       "</g>\n",
       "<polyline clip-path=\"url(#clip0502)\" style=\"stroke:#14d0ff; stroke-width:1; stroke-opacity:1; fill:none\" points=\"\n",
       "  55.6306,-1870.06 76.0067,-4.57807 96.3828,198.768 116.759,229.556 137.135,239.661 157.511,248.675 177.887,260.731 198.263,260.327 218.639,260.816 239.015,262.591 \n",
       "  259.392,261.244 279.768,264.136 300.144,264.653 320.52,263.839 340.896,262.918 361.272,261.977 381.648,262.989 402.024,266.87 422.4,263.73 442.776,262.445 \n",
       "  463.152,263.023 483.529,262.381 503.905,262.575 524.281,261.975 544.657,260.837 565.033,261.649 \n",
       "  \"/>\n",
       "<polyline clip-path=\"url(#clip0502)\" style=\"stroke:#ffa478; stroke-width:1; stroke-opacity:1; fill:none\" stroke-dasharray=\"8, 5\" points=\"\n",
       "  55.6306,-1866.61 76.0067,-463.298 96.3828,-7.13865 116.759,166.239 137.135,219.119 157.511,244.052 177.887,267.466 198.263,275.115 218.639,278.756 239.015,283.192 \n",
       "  259.392,284.399 279.768,288.387 300.144,288.341 320.52,288.827 340.896,289.543 361.272,286.652 381.648,287.886 402.024,292.739 422.4,290.944 442.776,289.502 \n",
       "  463.152,290.412 483.529,288.689 503.905,287.46 524.281,287.767 544.657,290.225 565.033,288.598 \n",
       "  \"/>\n",
       "<polyline clip-path=\"url(#clip0502)\" style=\"stroke:#a2d566; stroke-width:1; stroke-opacity:1; fill:none\" stroke-dasharray=\"1, 2\" points=\"\n",
       "  55.6306,-1863.2 76.0067,-480.075 96.3828,53.5225 116.759,141.419 137.135,173.553 157.511,192.276 177.887,213.196 198.263,218.272 218.639,221.182 239.015,226.779 \n",
       "  259.392,227.36 279.768,230.524 300.144,232.058 320.52,232.701 340.896,233.872 361.272,229.378 381.648,232.961 402.024,236.756 422.4,237.533 442.776,232.059 \n",
       "  463.152,236.394 483.529,234.229 503.905,234.855 524.281,237.179 544.657,238.721 565.033,237.252 \n",
       "  \"/>\n",
       "<polyline clip-path=\"url(#clip0502)\" style=\"stroke:#fda7fe; stroke-width:1; stroke-opacity:1; fill:none\" stroke-dasharray=\"8, 4, 1, 4\" points=\"\n",
       "  55.6306,-1866.97 76.0067,-339.226 96.3828,153.538 116.759,238.501 137.135,267.374 157.511,282.656 177.887,300.454 198.263,305.127 218.639,307.465 239.015,310.365 \n",
       "  259.392,309.98 279.768,312.771 300.144,312.928 320.52,313.041 340.896,313.753 361.272,313.202 381.648,313.9 402.024,316.269 422.4,316.86 442.776,312.205 \n",
       "  463.152,315.734 483.529,310.286 503.905,310.012 524.281,310.379 544.657,314.309 565.033,311.839 \n",
       "  \"/>\n",
       "<polyline clip-path=\"url(#clip0502)\" style=\"stroke:#00e2c2; stroke-width:1; stroke-opacity:1; fill:none\" stroke-dasharray=\"8, 4, 1, 4, 1, 4\" points=\"\n",
       "  55.6306,-1864.52 76.0067,-299.615 96.3828,178.91 116.759,244.216 137.135,268.133 157.511,280.682 177.887,297.08 198.263,301.909 218.639,303.253 239.015,307.156 \n",
       "  259.392,306.729 279.768,309.265 300.144,308.04 320.52,309.97 340.896,310.763 361.272,307.379 381.648,310.831 402.024,311.351 422.4,313.053 442.776,307.945 \n",
       "  463.152,311.796 483.529,306.237 503.905,298.949 524.281,307.888 544.657,310.797 565.033,310.145 \n",
       "  \"/>\n",
       "<polygon clip-path=\"url(#clip0500)\" points=\"\n",
       "484.927,123.411 562.315,123.411 562.315,32.691 484.927,32.691 \n",
       "  \" fill=\"#000000\" fill-opacity=\"1\"/>\n",
       "<polyline clip-path=\"url(#clip0500)\" style=\"stroke:#ffffff; stroke-width:1; stroke-opacity:1; fill:none\" points=\"\n",
       "  484.927,123.411 562.315,123.411 562.315,32.691 484.927,32.691 484.927,123.411 \n",
       "  \"/>\n",
       "<polyline clip-path=\"url(#clip0500)\" style=\"stroke:#14d0ff; stroke-width:1; stroke-opacity:1; fill:none\" points=\"\n",
       "  490.927,47.811 526.927,47.811 \n",
       "  \"/>\n",
       "<g clip-path=\"url(#clip0500)\">\n",
       "<text style=\"fill:#ffffff; fill-opacity:1; font-family:Arial,Helvetica Neue,Helvetica,sans-serif; font-size:12; text-anchor:start;\" transform=\"rotate(0, 532.927, 52.311)\" x=\"532.927\" y=\"52.311\">r0</text>\n",
       "</g>\n",
       "<polyline clip-path=\"url(#clip0500)\" style=\"stroke:#ffa478; stroke-width:1; stroke-opacity:1; fill:none\" stroke-dasharray=\"8, 5\" points=\"\n",
       "  490.927,62.931 526.927,62.931 \n",
       "  \"/>\n",
       "<g clip-path=\"url(#clip0500)\">\n",
       "<text style=\"fill:#ffffff; fill-opacity:1; font-family:Arial,Helvetica Neue,Helvetica,sans-serif; font-size:12; text-anchor:start;\" transform=\"rotate(0, 532.927, 67.431)\" x=\"532.927\" y=\"67.431\">r1</text>\n",
       "</g>\n",
       "<polyline clip-path=\"url(#clip0500)\" style=\"stroke:#a2d566; stroke-width:1; stroke-opacity:1; fill:none\" stroke-dasharray=\"1, 2\" points=\"\n",
       "  490.927,78.051 526.927,78.051 \n",
       "  \"/>\n",
       "<g clip-path=\"url(#clip0500)\">\n",
       "<text style=\"fill:#ffffff; fill-opacity:1; font-family:Arial,Helvetica Neue,Helvetica,sans-serif; font-size:12; text-anchor:start;\" transform=\"rotate(0, 532.927, 82.551)\" x=\"532.927\" y=\"82.551\">r1a</text>\n",
       "</g>\n",
       "<polyline clip-path=\"url(#clip0500)\" style=\"stroke:#fda7fe; stroke-width:1; stroke-opacity:1; fill:none\" stroke-dasharray=\"8, 4, 1, 4\" points=\"\n",
       "  490.927,93.171 526.927,93.171 \n",
       "  \"/>\n",
       "<g clip-path=\"url(#clip0500)\">\n",
       "<text style=\"fill:#ffffff; fill-opacity:1; font-family:Arial,Helvetica Neue,Helvetica,sans-serif; font-size:12; text-anchor:start;\" transform=\"rotate(0, 532.927, 97.671)\" x=\"532.927\" y=\"97.671\">r2</text>\n",
       "</g>\n",
       "<polyline clip-path=\"url(#clip0500)\" style=\"stroke:#00e2c2; stroke-width:1; stroke-opacity:1; fill:none\" stroke-dasharray=\"8, 4, 1, 4, 1, 4\" points=\"\n",
       "  490.927,108.291 526.927,108.291 \n",
       "  \"/>\n",
       "<g clip-path=\"url(#clip0500)\">\n",
       "<text style=\"fill:#ffffff; fill-opacity:1; font-family:Arial,Helvetica Neue,Helvetica,sans-serif; font-size:12; text-anchor:start;\" transform=\"rotate(0, 532.927, 112.791)\" x=\"532.927\" y=\"112.791\">r2a</text>\n",
       "</g>\n",
       "</svg>\n"
      ]
     },
     "execution_count": 123,
     "metadata": {},
     "output_type": "execute_result"
    }
   ],
   "source": [
    "using Plots\n",
    "plot([r0.losses, r1.losses, r1a.losses, r2.losses, r2a.losses]; \n",
    "    ylim=(0,1), yticks=0:0.1:1, labels=[\"r0\",\"r1\",\"r1a\",\"r2\",\"r2a\"], \n",
    "    linestyle=:auto,bg=:black,grid=true)"
   ]
  },
  {
   "cell_type": "code",
   "execution_count": 118,
   "metadata": {},
   "outputs": [
    {
     "data": {
      "text/plain": [
       "1-element Array{Array{Float64,1},1}:\n",
       " [0.99248, 0.459473, 0.152197, 0.110498, 0.0956055, 0.0896484, 0.0779297, 0.0759277, 0.0774414, 0.0753906  …  0.077002, 0.0746582, 0.075, 0.0779297, 0.076416, 0.0786133, 0.0788574, 0.0763672, 0.0763672, 0.0762207]"
      ]
     },
     "execution_count": 118,
     "metadata": {},
     "output_type": "execute_result"
    }
   ],
   "source": [
    "r1a.errors"
   ]
  },
  {
   "cell_type": "code",
   "execution_count": 119,
   "metadata": {},
   "outputs": [
    {
     "data": {
      "text/plain": [
       "1-element Array{Array{Float64,1},1}:\n",
       " [1.0, 0.539844, 0.237061, 0.133301, 0.106641, 0.0983398, 0.0821289, 0.0776855, 0.076416, 0.0736816  …  0.0708984, 0.0680664, 0.0698242, 0.0690918, 0.0685059, 0.070459, 0.0695801, 0.0689453, 0.0686035, 0.0696777]"
      ]
     },
     "execution_count": 119,
     "metadata": {},
     "output_type": "execute_result"
    }
   ],
   "source": [
    "r1.errors"
   ]
  },
  {
   "cell_type": "code",
   "execution_count": 120,
   "metadata": {},
   "outputs": [
    {
     "data": {
      "text/plain": [
       "5-element Array{Float64,1}:\n",
       " 0.10312500000000002\n",
       " 0.06787109375      \n",
       " 0.07465820312500004\n",
       " 0.046630859375     \n",
       " 0.04746093750000002"
      ]
     },
     "execution_count": 120,
     "metadata": {},
     "output_type": "execute_result"
    }
   ],
   "source": [
    "#= 128\n",
    "5-element Array{Float64,1}:\n",
    " 0.10292968749999998\n",
    " 0.07744140624999996\n",
    " 0.095458984375     \n",
    " 0.05190429687499998\n",
    " 0.055908203125    \n",
    "256\n",
    "5-element Array{Float64,1}:\n",
    " 0.10273437500000004 \n",
    " 0.06855468750000004 \n",
    " 0.084228515625      \n",
    " 0.050097656249999956\n",
    " 0.049267578125000044\n",
    "512\n",
    "5-element Array{Float64,1}:\n",
    " 0.10312500000000002\n",
    " 0.06787109375      \n",
    " 0.07465820312500004\n",
    " 0.046630859375     \n",
    " 0.04746093750000002\n",
    "=#\n",
    "minimum.(x.errors[1] for x in (r0,r1,r1a,r2,r2a))"
   ]
  },
  {
   "cell_type": "code",
   "execution_count": 121,
   "metadata": {},
   "outputs": [
    {
     "data": {
      "text/plain": [
       "(0.2994007468223572, 0.10312500000000002)"
      ]
     },
     "execution_count": 121,
     "metadata": {},
     "output_type": "execute_result"
    }
   ],
   "source": [
    "# try dropout\n",
    "# try 256 hidden\n",
    "minimum.((r0.losses..., r0.errors...))"
   ]
  },
  {
   "cell_type": "code",
   "execution_count": null,
   "metadata": {},
   "outputs": [],
   "source": []
  }
 ],
 "metadata": {
  "kernelspec": {
   "display_name": "Julia 1.0.0",
   "language": "julia",
   "name": "julia-1.0"
  },
  "language_info": {
   "file_extension": ".jl",
   "mimetype": "application/julia",
   "name": "julia",
   "version": "1.0.0"
  }
 },
 "nbformat": 4,
 "nbformat_minor": 2
}
