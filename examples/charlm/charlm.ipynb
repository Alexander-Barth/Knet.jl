{
 "cells": [
  {
   "cell_type": "markdown",
   "metadata": {},
   "source": [
    "# Character based RNN language model trained on 'The Complete Works of William Shakespeare'\n",
    "Based on http://karpathy.github.io/2015/05/21/rnn-effectiveness"
   ]
  },
  {
   "cell_type": "code",
   "execution_count": 1,
   "metadata": {},
   "outputs": [],
   "source": [
    "RNNTYPE = :lstm\n",
    "BATCHSIZE = 256\n",
    "SEQLENGTH = 100\n",
    "INPUTSIZE = 168\n",
    "VOCABSIZE = 84\n",
    "HIDDENSIZE = 334\n",
    "NUMLAYERS = 1\n",
    "DROPOUT = 0.0\n",
    "LR=0.001\n",
    "BETA_1=0.9\n",
    "BETA_2=0.999\n",
    "EPS=1e-08\n",
    "EPOCHS = 30;"
   ]
  },
  {
   "cell_type": "code",
   "execution_count": 2,
   "metadata": {},
   "outputs": [
    {
     "name": "stderr",
     "output_type": "stream",
     "text": [
      "┌ Info: Recompiling stale cache file /kuacc/users/dyuret/.julia/compiled/v1.0/Knet/f4vSz.ji for Knet [1902f260-5fb4-5aff-8c31-6271790ab950]\n",
      "└ @ Base loading.jl:1184\n"
     ]
    },
    {
     "name": "stdout",
     "output_type": "stream",
     "text": [
      "gpu() = 0\n"
     ]
    },
    {
     "data": {
      "text/plain": [
       "(\"4934845-element Array{UInt8,1}\", \"526731-element Array{UInt8,1}\", \"84-element Array{Char,1}\")"
      ]
     },
     "execution_count": 2,
     "metadata": {},
     "output_type": "execute_result"
    }
   ],
   "source": [
    "# Load 'The Complete Works of William Shakespeare'\n",
    "using Knet; @show gpu()\n",
    "include(Knet.dir(\"data\",\"gutenberg.jl\"))\n",
    "trn,tst,chars = shakespeare()\n",
    "map(summary,(trn,tst,chars))"
   ]
  },
  {
   "cell_type": "code",
   "execution_count": 3,
   "metadata": {},
   "outputs": [
    {
     "name": "stdout",
     "output_type": "stream",
     "text": [
      "\r\n",
      "    Cheated of feature by dissembling nature,\r\n",
      "    Deform'd, unfinish'd, sent before my time\r\n",
      "    Into this breathing world scarce half made up,\r\n",
      "    And that so lamely and unfashionable\r\n",
      " \n"
     ]
    }
   ],
   "source": [
    "# Print a sample\n",
    "println(string(chars[trn[1020:1210]]...)) "
   ]
  },
  {
   "cell_type": "code",
   "execution_count": 4,
   "metadata": {},
   "outputs": [
    {
     "data": {
      "text/plain": [
       "(192, 20)"
      ]
     },
     "execution_count": 4,
     "metadata": {},
     "output_type": "execute_result"
    }
   ],
   "source": [
    "# Minibatch data\n",
    "function mb(a)\n",
    "    N = div(length(a),BATCHSIZE)\n",
    "    x = reshape(a[1:N*BATCHSIZE],N,BATCHSIZE)' # reshape full data to (B,N) with contiguous rows\n",
    "    minibatch(x[:,1:N-1], x[:,2:N], SEQLENGTH) # split into (B,T) blocks \n",
    "end\n",
    "dtrn,dtst = mb(trn),mb(tst)\n",
    "map(length, (dtrn,dtst))"
   ]
  },
  {
   "cell_type": "code",
   "execution_count": 5,
   "metadata": {},
   "outputs": [],
   "source": [
    "# Define model\n",
    "function initmodel()\n",
    "    w(d...)=KnetArray(xavier(Float32,d...))\n",
    "    b(d...)=KnetArray(zeros(Float32,d...))\n",
    "    r,wr = rnninit(INPUTSIZE,HIDDENSIZE,rnnType=RNNTYPE,numLayers=NUMLAYERS,dropout=DROPOUT)\n",
    "    wx = w(INPUTSIZE,VOCABSIZE)\n",
    "    wy = w(VOCABSIZE,HIDDENSIZE)\n",
    "    by = b(VOCABSIZE,1)\n",
    "    return r,wr,wx,wy,by\n",
    "end;"
   ]
  },
  {
   "cell_type": "code",
   "execution_count": 6,
   "metadata": {},
   "outputs": [],
   "source": [
    "# Define loss and its gradient\n",
    "function predict(ws,xs,hx,cx;pdrop=0)\n",
    "    r,wr,wx,wy,by = ws\n",
    "    x = wx[:,xs]                                    # xs=(B,T) x=(X,B,T)\n",
    "    x = dropout(x,pdrop)\n",
    "    y,hy,cy = rnnforw(r,wr,x,hx,cx,hy=true,cy=true) # y=(H,B,T) hy=cy=(H,B,L)\n",
    "    y = dropout(y,pdrop)\n",
    "    y2 = reshape(y,size(y,1),size(y,2)*size(y,3))   # y2=(H,B*T)\n",
    "    return wy*y2.+by, hy, cy\n",
    "end\n",
    "\n",
    "function loss(w,x,y,h;o...)\n",
    "    py,hy,cy = predict(w,x,h...;o...)\n",
    "    h[1],h[2] = getval(hy),getval(cy)\n",
    "    return nll(py,y)\n",
    "end\n",
    "using AutoGrad: gradloss\n",
    "lossgradient = gradloss(loss);"
   ]
  },
  {
   "cell_type": "code",
   "execution_count": 7,
   "metadata": {},
   "outputs": [],
   "source": [
    "# Train and test loops\n",
    "function train(model,data,optim)\n",
    "    hiddens = Any[nothing,nothing]\n",
    "    Σ,N=0,0\n",
    "    for (x,y) in data\n",
    "        grads,loss1 = lossgradient(model,x,y,hiddens;pdrop=DROPOUT)\n",
    "        update!(model, grads, optim)\n",
    "        Σ,N=Σ+loss1,N+1\n",
    "    end\n",
    "    return Σ/N\n",
    "end\n",
    "\n",
    "function test(model,data)\n",
    "    hiddens = Any[nothing,nothing]\n",
    "    Σ,N=0,0\n",
    "    for (x,y) in data\n",
    "        Σ,N = Σ+loss(model,x,y,hiddens), N+1\n",
    "    end\n",
    "    return Σ/N\n",
    "end; "
   ]
  },
  {
   "cell_type": "code",
   "execution_count": 8,
   "metadata": {
    "scrolled": false
   },
   "outputs": [
    {
     "name": "stderr",
     "output_type": "stream",
     "text": [
      "┌ Info: Training...\n",
      "└ @ Main In[8]:8\n"
     ]
    },
    {
     "name": "stdout",
     "output_type": "stream",
     "text": [
      " 23.929362 seconds (15.95 M allocations: 4.041 GiB, 2.10% gc time)\n",
      "  0.998169 seconds (1.31 M allocations: 79.210 MiB, 2.62% gc time)\n",
      "(:epoch, 1, :trnppl, 15.987634f0, :tstppl, 8.394304f0)\n",
      " 17.551927 seconds (210.34 k allocations: 3.258 GiB, 1.23% gc time)\n",
      "  0.515916 seconds (4.37 k allocations: 12.884 MiB, 0.44% gc time)\n",
      "(:epoch, 2, :trnppl, 7.1263394f0, :tstppl, 6.3735137f0)\n",
      " 17.559598 seconds (211.35 k allocations: 3.258 GiB, 0.76% gc time)\n",
      "  0.519077 seconds (4.37 k allocations: 12.884 MiB, 0.55% gc time)\n",
      "(:epoch, 3, :trnppl, 5.818079f0, :tstppl, 5.522996f0)\n",
      " 17.630614 seconds (212.36 k allocations: 3.258 GiB, 0.73% gc time)\n",
      "  0.522979 seconds (4.37 k allocations: 12.884 MiB, 0.49% gc time)\n",
      "(:epoch, 4, :trnppl, 5.165233f0, :tstppl, 5.0538926f0)\n",
      " 17.745022 seconds (212.36 k allocations: 3.258 GiB, 0.73% gc time)\n",
      "  0.518279 seconds (4.37 k allocations: 12.884 MiB, 0.58% gc time)\n",
      "(:epoch, 5, :trnppl, 4.744109f0, :tstppl, 4.7103724f0)\n",
      " 17.775082 seconds (212.36 k allocations: 3.258 GiB, 0.74% gc time)\n",
      "  0.527612 seconds (4.37 k allocations: 12.884 MiB, 0.56% gc time)\n",
      "(:epoch, 6, :trnppl, 4.437237f0, :tstppl, 4.483007f0)\n",
      " 17.855180 seconds (212.36 k allocations: 3.258 GiB, 0.74% gc time)\n",
      "  0.525518 seconds (4.37 k allocations: 12.884 MiB, 0.61% gc time)\n",
      "(:epoch, 7, :trnppl, 4.2054176f0, :tstppl, 4.2824564f0)\n",
      " 17.885418 seconds (212.36 k allocations: 3.258 GiB, 0.76% gc time)\n",
      "  0.531999 seconds (4.37 k allocations: 12.884 MiB, 0.92% gc time)\n",
      "(:epoch, 8, :trnppl, 4.0314846f0, :tstppl, 4.128025f0)\n",
      " 17.900221 seconds (212.36 k allocations: 3.258 GiB, 0.77% gc time)\n",
      "  0.525268 seconds (4.37 k allocations: 12.884 MiB, 0.61% gc time)\n",
      "(:epoch, 9, :trnppl, 3.8919811f0, :tstppl, 4.029302f0)\n",
      " 18.001387 seconds (212.36 k allocations: 3.258 GiB, 0.85% gc time)\n",
      "  0.524052 seconds (4.37 k allocations: 12.884 MiB, 0.63% gc time)\n",
      "(:epoch, 10, :trnppl, 3.7843456f0, :tstppl, 3.9191322f0)\n",
      " 17.951238 seconds (212.36 k allocations: 3.258 GiB, 0.77% gc time)\n",
      "  0.525472 seconds (4.37 k allocations: 12.884 MiB, 0.61% gc time)\n",
      "(:epoch, 11, :trnppl, 3.6892464f0, :tstppl, 3.8293428f0)\n",
      " 17.925097 seconds (212.36 k allocations: 3.258 GiB, 0.77% gc time)\n",
      "  0.523200 seconds (4.37 k allocations: 12.884 MiB, 0.63% gc time)\n",
      "(:epoch, 12, :trnppl, 3.6148405f0, :tstppl, 3.7705235f0)\n",
      " 17.912406 seconds (212.36 k allocations: 3.258 GiB, 0.79% gc time)\n",
      "  0.528064 seconds (4.37 k allocations: 12.884 MiB, 0.63% gc time)\n",
      "(:epoch, 13, :trnppl, 3.546271f0, :tstppl, 3.7156372f0)\n",
      " 17.925877 seconds (212.36 k allocations: 3.258 GiB, 0.77% gc time)\n",
      "  0.525902 seconds (4.37 k allocations: 12.884 MiB, 0.61% gc time)\n",
      "(:epoch, 14, :trnppl, 3.4898067f0, :tstppl, 3.6669998f0)\n",
      " 17.924106 seconds (212.36 k allocations: 3.258 GiB, 0.77% gc time)\n",
      "  0.521548 seconds (4.37 k allocations: 12.884 MiB, 0.60% gc time)\n",
      "(:epoch, 15, :trnppl, 3.4408689f0, :tstppl, 3.6178117f0)\n",
      " 17.947531 seconds (212.36 k allocations: 3.258 GiB, 0.78% gc time)\n",
      "  0.527039 seconds (4.37 k allocations: 12.884 MiB, 0.63% gc time)\n",
      "(:epoch, 16, :trnppl, 3.397194f0, :tstppl, 3.5940406f0)\n",
      " 17.867697 seconds (212.36 k allocations: 3.258 GiB, 0.74% gc time)\n",
      "  0.525226 seconds (4.37 k allocations: 12.884 MiB, 0.56% gc time)\n",
      "(:epoch, 17, :trnppl, 3.358755f0, :tstppl, 3.5567417f0)\n",
      " 17.829651 seconds (212.36 k allocations: 3.258 GiB, 0.73% gc time)\n",
      "  0.529830 seconds (4.37 k allocations: 12.884 MiB, 0.54% gc time)\n",
      "(:epoch, 18, :trnppl, 3.3244562f0, :tstppl, 3.5339892f0)\n",
      " 17.811611 seconds (212.36 k allocations: 3.258 GiB, 0.73% gc time)\n",
      "  0.524901 seconds (4.37 k allocations: 12.884 MiB, 0.64% gc time)\n",
      "(:epoch, 19, :trnppl, 3.2925205f0, :tstppl, 3.507903f0)\n",
      " 17.817032 seconds (212.36 k allocations: 3.258 GiB, 0.72% gc time)\n",
      "  0.527360 seconds (4.37 k allocations: 12.884 MiB, 0.60% gc time)\n",
      "(:epoch, 20, :trnppl, 3.2680037f0, :tstppl, 3.4808605f0)\n",
      " 17.818765 seconds (212.36 k allocations: 3.258 GiB, 0.72% gc time)\n",
      "  0.524082 seconds (4.37 k allocations: 12.884 MiB, 0.56% gc time)\n",
      "(:epoch, 21, :trnppl, 3.238562f0, :tstppl, 3.469959f0)\n",
      " 17.819864 seconds (212.36 k allocations: 3.258 GiB, 0.74% gc time)\n",
      "  0.522349 seconds (4.37 k allocations: 12.884 MiB, 0.59% gc time)\n",
      "(:epoch, 22, :trnppl, 3.216241f0, :tstppl, 3.4449542f0)\n",
      " 17.845216 seconds (212.36 k allocations: 3.258 GiB, 0.77% gc time)\n",
      "  0.523969 seconds (4.37 k allocations: 12.884 MiB, 0.61% gc time)\n",
      "(:epoch, 23, :trnppl, 3.1938314f0, :tstppl, 3.4320786f0)\n",
      " 17.871375 seconds (212.36 k allocations: 3.258 GiB, 0.75% gc time)\n",
      "  0.526576 seconds (4.37 k allocations: 12.884 MiB, 0.59% gc time)\n",
      "(:epoch, 24, :trnppl, 3.1730704f0, :tstppl, 3.4150562f0)\n",
      " 17.840791 seconds (212.36 k allocations: 3.258 GiB, 0.75% gc time)\n",
      "  0.529841 seconds (4.37 k allocations: 12.884 MiB, 0.56% gc time)\n",
      "(:epoch, 25, :trnppl, 3.1548676f0, :tstppl, 3.3972757f0)\n",
      " 17.830405 seconds (212.36 k allocations: 3.258 GiB, 0.75% gc time)\n",
      "  0.524818 seconds (4.37 k allocations: 12.884 MiB, 0.57% gc time)\n",
      "(:epoch, 26, :trnppl, 3.1375449f0, :tstppl, 3.3843834f0)\n",
      " 17.826261 seconds (212.36 k allocations: 3.258 GiB, 0.77% gc time)\n",
      "  0.529491 seconds (4.37 k allocations: 12.884 MiB, 0.57% gc time)\n",
      "(:epoch, 27, :trnppl, 3.1223545f0, :tstppl, 3.3811882f0)\n",
      " 17.823249 seconds (212.36 k allocations: 3.258 GiB, 0.74% gc time)\n",
      "  0.528470 seconds (4.37 k allocations: 12.884 MiB, 0.58% gc time)\n",
      "(:epoch, 28, :trnppl, 3.1086287f0, :tstppl, 3.3707004f0)\n",
      " 17.842982 seconds (212.36 k allocations: 3.258 GiB, 0.78% gc time)\n",
      "  0.523538 seconds (4.37 k allocations: 12.884 MiB, 0.59% gc time)\n",
      "(:epoch, 29, :trnppl, 3.09569f0, :tstppl, 3.3707943f0)\n",
      " 17.815940 seconds (212.36 k allocations: 3.258 GiB, 0.74% gc time)\n",
      "  0.527762 seconds (4.37 k allocations: 12.884 MiB, 0.58% gc time)\n",
      "(:epoch, 30, :trnppl, 3.0825057f0, :tstppl, 3.356588f0)\n",
      "557.932891 seconds (24.77 M allocations: 99.035 GiB, 0.83% gc time)\n"
     ]
    },
    {
     "data": {
      "text/plain": [
       "\"Tuple{Knet.RNN,KnetArray{Float32,3},KnetArray{Float32,2},KnetArray{Float32,2},KnetArray{Float32,2}}\""
      ]
     },
     "execution_count": 8,
     "metadata": {},
     "output_type": "execute_result"
    }
   ],
   "source": [
    "# Train model or load from file if exists\n",
    "#using JLD\n",
    "model=optim=nothing; \n",
    "Knet.gc()\n",
    "if !isfile(\"shakespeare.jld\")\n",
    "    model = initmodel()\n",
    "    optim = optimizers(model, Adam; lr=LR, beta1=BETA_1, beta2=BETA_2, eps=EPS);    \n",
    "    @info(\"Training...\")\n",
    "    @time for epoch in 1:EPOCHS\n",
    "        @time trnloss = train(model,dtrn,optim) # ~18 seconds\n",
    "        @time tstloss = test(model,dtst)        # ~0.5 seconds\n",
    "        println((:epoch, epoch, :trnppl, exp(trnloss), :tstppl, exp(tstloss)))\n",
    "    end\n",
    "    #save(\"shakespeare.jld\",\"model\",model)\n",
    "else\n",
    "    model = load(\"shakespeare.jld\",\"model\")\n",
    "end\n",
    "summary(model)"
   ]
  },
  {
   "cell_type": "code",
   "execution_count": 9,
   "metadata": {},
   "outputs": [
    {
     "name": "stdout",
     "output_type": "stream",
     "text": [
      "[SHEENTITHES    ke't\n",
      "\n",
      "  DEMETRIUS. Mouth weary, and noe requer? I'll need no furth,\n",
      "    And all I papes no tingers will now in resemble.\n",
      "  CAIUS. I hopp'd with me as down;\n",
      "    Mike the deer stalching home to use me,\n",
      "    Of your goes tooulls. Would I was?\n",
      "  SECOND MARGA. Alack, adox, falsole.\n",
      "  BRUTUS. Pact night; for I am not people of us.\n",
      "  HASTINGS. Vertaice, mine, leave about the passion hold,\n",
      "    Which shall not good and tend for cat here.\n",
      "  PLOWN. As nocobbeak with flint fairly frie, passagation, from\n",
      "    by slave-is all pronon. Lie unto thy brand ere Sala.\n",
      "  VALENTINE. Here, sir, past him likely with his secrease stoph'd.\n",
      "  )and. I see under 'Antague, all thing. I hear at the note pleasant\n",
      "    and his present in time. Yet, go do impure to it?\n",
      "  Dam. I aike not enter than.\n",
      "    'About your daughters! I know he is for't;\n",
      "    But, that loose but as scarted, friends were\n",
      "    The pillain that will die this knot to please.\n",
      "  CLEOPATRA. The voice pardon'd with gilt, i\n"
     ]
    }
   ],
   "source": [
    "# Sample from trained model\n",
    "function generate(model,n)\n",
    "    function sample(y)\n",
    "        p,r=Array(exp.(Array(y).-logsumexp(y))),rand()\n",
    "        for j=1:length(p); (r -= p[j]) < 0 && return j; end\n",
    "    end\n",
    "    h,c = nothing,nothing\n",
    "    x = something(findfirst(isequal('\\n'), chars), 0)\n",
    "    for i=1:n\n",
    "        y,h,c = predict(model,[x],h,c)\n",
    "        x = sample(y)\n",
    "        print(chars[x])\n",
    "    end\n",
    "    println()\n",
    "end\n",
    "\n",
    "generate(model,1000)"
   ]
  }
 ],
 "metadata": {
  "kernelspec": {
   "display_name": "Julia 1.0.0",
   "language": "julia",
   "name": "julia-1.0"
  },
  "language_info": {
   "file_extension": ".jl",
   "mimetype": "application/julia",
   "name": "julia",
   "version": "1.0.0"
  }
 },
 "nbformat": 4,
 "nbformat_minor": 2
}
