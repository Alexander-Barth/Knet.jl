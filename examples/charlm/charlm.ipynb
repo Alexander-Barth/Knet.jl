{
 "cells": [
  {
   "cell_type": "markdown",
   "metadata": {},
   "source": [
    "# Character based RNN language model trained on 'The Complete Works of William Shakespeare'\n",
    "Based on http://karpathy.github.io/2015/05/21/rnn-effectiveness"
   ]
  },
  {
   "cell_type": "code",
   "execution_count": 1,
   "metadata": {},
   "outputs": [],
   "source": [
    "RNNTYPE = :lstm\n",
    "BATCHSIZE = 256\n",
    "SEQLENGTH = 100\n",
    "INPUTSIZE = 168\n",
    "VOCABSIZE = 84\n",
    "HIDDENSIZE = 334\n",
    "NUMLAYERS = 1\n",
    "DROPOUT = 0.0\n",
    "LR=0.001\n",
    "BETA_1=0.9\n",
    "BETA_2=0.999\n",
    "EPS=1e-08\n",
    "EPOCHS = 30;"
   ]
  },
  {
   "cell_type": "code",
   "execution_count": 2,
   "metadata": {},
   "outputs": [
    {
     "data": {
      "text/plain": [
       "(\"4934845-element Array{UInt8,1}\", \"526731-element Array{UInt8,1}\", \"84-element Array{Char,1}\")"
      ]
     },
     "execution_count": 2,
     "metadata": {},
     "output_type": "execute_result"
    }
   ],
   "source": [
    "# Load 'The Complete Works of William Shakespeare'\n",
    "using Knet\n",
    "include(Knet.dir(\"data\",\"gutenberg.jl\"))\n",
    "trn,tst,chars = shakespeare()\n",
    "map(summary,(trn,tst,chars))"
   ]
  },
  {
   "cell_type": "code",
   "execution_count": 3,
   "metadata": {},
   "outputs": [
    {
     "name": "stdout",
     "output_type": "stream",
     "text": [
      "\r\n",
      "    Cheated of feature by dissembling nature,\r\n",
      "    Deform'd, unfinish'd, sent before my time\r\n",
      "    Into this breathing world scarce half made up,\r\n",
      "    And that so lamely and unfashionable\r\n",
      " \n"
     ]
    }
   ],
   "source": [
    "# Print a sample\n",
    "println(string(chars[trn[1020:1210]]...)) "
   ]
  },
  {
   "cell_type": "code",
   "execution_count": 4,
   "metadata": {},
   "outputs": [
    {
     "data": {
      "text/plain": [
       "(192, 20)"
      ]
     },
     "execution_count": 4,
     "metadata": {},
     "output_type": "execute_result"
    }
   ],
   "source": [
    "# Minibatch data\n",
    "function mb(a)\n",
    "    N = div(length(a),BATCHSIZE)\n",
    "    x = reshape(a[1:N*BATCHSIZE],N,BATCHSIZE)' # reshape full data to (B,N) with contiguous rows\n",
    "    minibatch(x[:,1:N-1], x[:,2:N], SEQLENGTH) # split into (B,T) blocks \n",
    "end\n",
    "dtrn,dtst = mb(trn),mb(tst)\n",
    "map(length, (dtrn,dtst))"
   ]
  },
  {
   "cell_type": "code",
   "execution_count": 5,
   "metadata": {},
   "outputs": [],
   "source": [
    "# Define model\n",
    "function initmodel()\n",
    "    w(d...)=KnetArray(xavier(Float32,d...))\n",
    "    b(d...)=KnetArray(zeros(Float32,d...))\n",
    "    r,wr = rnninit(INPUTSIZE,HIDDENSIZE,rnnType=RNNTYPE,numLayers=NUMLAYERS,dropout=DROPOUT)\n",
    "    wx = w(INPUTSIZE,VOCABSIZE)\n",
    "    wy = w(VOCABSIZE,HIDDENSIZE)\n",
    "    by = b(VOCABSIZE,1)\n",
    "    return r,wr,wx,wy,by\n",
    "end;"
   ]
  },
  {
   "cell_type": "code",
   "execution_count": 6,
   "metadata": {},
   "outputs": [],
   "source": [
    "# Define loss and its gradient\n",
    "function predict(ws,xs,hx,cx;pdrop=0)\n",
    "    r,wr,wx,wy,by = ws\n",
    "    x = wx[:,xs]                                    # xs=(B,T) x=(X,B,T)\n",
    "    x = dropout(x,pdrop)\n",
    "    y,hy,cy = rnnforw(r,wr,x,hx,cx,hy=true,cy=true) # y=(H,B,T) hy=cy=(H,B,L)\n",
    "    y = dropout(y,pdrop)\n",
    "    y2 = reshape(y,size(y,1),size(y,2)*size(y,3))   # y2=(H,B*T)\n",
    "    return wy*y2.+by, hy, cy\n",
    "end\n",
    "\n",
    "function loss(w,x,y,h;o...)\n",
    "    py,hy,cy = predict(w,x,h...;o...)\n",
    "    h[1],h[2] = getval(hy),getval(cy)\n",
    "    return nll(py,y)\n",
    "end\n",
    "using AutoGrad: gradloss\n",
    "lossgradient = gradloss(loss);"
   ]
  },
  {
   "cell_type": "code",
   "execution_count": 7,
   "metadata": {},
   "outputs": [],
   "source": [
    "# Train and test loops\n",
    "function train(model,data,optim)\n",
    "    hiddens = Any[nothing,nothing]\n",
    "    Σ,N=0,0\n",
    "    for (x,y) in data\n",
    "        grads,loss1 = lossgradient(model,x,y,hiddens;pdrop=DROPOUT)\n",
    "        update!(model, grads, optim)\n",
    "        Σ,N=Σ+loss1,N+1\n",
    "    end\n",
    "    return Σ/N\n",
    "end\n",
    "\n",
    "function test(model,data)\n",
    "    hiddens = Any[nothing,nothing]\n",
    "    Σ,N=0,0\n",
    "    for (x,y) in data\n",
    "        Σ,N = Σ+loss(model,x,y,hiddens), N+1\n",
    "    end\n",
    "    return Σ/N\n",
    "end; "
   ]
  },
  {
   "cell_type": "code",
   "execution_count": 8,
   "metadata": {
    "scrolled": true
   },
   "outputs": [
    {
     "name": "stderr",
     "output_type": "stream",
     "text": [
      "┌ Info: Training...\n",
      "└ @ Main In[8]:8\n"
     ]
    },
    {
     "name": "stdout",
     "output_type": "stream",
     "text": [
      " 28.468388 seconds (22.34 M allocations: 4.346 GiB, 2.85% gc time)\n",
      "  0.979191 seconds (1.24 M allocations: 75.520 MiB, 2.02% gc time)\n",
      "(:epoch, 1, :trnppl, 17.36091f0, :tstppl, 9.151436f0)\n",
      " 18.358390 seconds (212.83 k allocations: 3.258 GiB, 1.41% gc time)\n",
      "  0.536230 seconds (4.37 k allocations: 12.884 MiB, 0.58% gc time)\n",
      "(:epoch, 2, :trnppl, 7.55034f0, :tstppl, 6.611075f0)\n",
      " 18.436042 seconds (213.84 k allocations: 3.258 GiB, 0.92% gc time)\n",
      "  0.544317 seconds (4.37 k allocations: 12.884 MiB, 0.58% gc time)\n",
      "(:epoch, 3, :trnppl, 6.0113096f0, :tstppl, 5.717249f0)\n",
      " 18.461435 seconds (214.86 k allocations: 3.258 GiB, 0.92% gc time)\n",
      "  0.543928 seconds (4.37 k allocations: 12.884 MiB, 0.58% gc time)\n",
      "(:epoch, 4, :trnppl, 5.320017f0, :tstppl, 5.180779f0)\n",
      " 18.521647 seconds (214.86 k allocations: 3.258 GiB, 0.91% gc time)\n",
      "  0.546192 seconds (4.37 k allocations: 12.884 MiB, 0.58% gc time)\n",
      "(:epoch, 5, :trnppl, 4.8687263f0, :tstppl, 4.8216457f0)\n",
      " 18.543604 seconds (214.86 k allocations: 3.258 GiB, 0.92% gc time)\n",
      "  0.542165 seconds (4.37 k allocations: 12.884 MiB, 0.59% gc time)\n",
      "(:epoch, 6, :trnppl, 4.5439553f0, :tstppl, 4.559911f0)\n",
      " 18.598220 seconds (214.86 k allocations: 3.258 GiB, 0.93% gc time)\n",
      "  0.543379 seconds (4.37 k allocations: 12.884 MiB, 0.59% gc time)\n",
      "(:epoch, 7, :trnppl, 4.2981086f0, :tstppl, 4.364653f0)\n",
      " 18.567907 seconds (214.86 k allocations: 3.258 GiB, 0.91% gc time)\n",
      "  0.550986 seconds (4.37 k allocations: 12.884 MiB, 0.57% gc time)\n",
      "(:epoch, 8, :trnppl, 4.112435f0, :tstppl, 4.2193165f0)\n",
      " 18.590514 seconds (214.86 k allocations: 3.258 GiB, 0.93% gc time)\n",
      "  0.542507 seconds (4.37 k allocations: 12.884 MiB, 0.58% gc time)\n",
      "(:epoch, 9, :trnppl, 3.9656677f0, :tstppl, 4.0893655f0)\n",
      " 18.561117 seconds (214.86 k allocations: 3.258 GiB, 0.91% gc time)\n",
      "  0.554295 seconds (4.37 k allocations: 12.884 MiB, 0.58% gc time)\n",
      "(:epoch, 10, :trnppl, 3.8514237f0, :tstppl, 3.989269f0)\n",
      " 18.588532 seconds (214.86 k allocations: 3.258 GiB, 0.90% gc time)\n",
      "  0.542055 seconds (4.37 k allocations: 12.884 MiB, 0.59% gc time)\n",
      "(:epoch, 11, :trnppl, 3.7535012f0, :tstppl, 3.9077728f0)\n",
      " 18.592802 seconds (214.86 k allocations: 3.258 GiB, 0.91% gc time)\n",
      "  0.547617 seconds (4.37 k allocations: 12.884 MiB, 0.59% gc time)\n",
      "(:epoch, 12, :trnppl, 3.6762886f0, :tstppl, 3.8408005f0)\n",
      " 18.578594 seconds (214.86 k allocations: 3.258 GiB, 0.90% gc time)\n",
      "  0.539571 seconds (4.37 k allocations: 12.884 MiB, 0.58% gc time)\n",
      "(:epoch, 13, :trnppl, 3.6078248f0, :tstppl, 3.783932f0)\n",
      " 18.578225 seconds (214.86 k allocations: 3.258 GiB, 0.91% gc time)\n",
      "  0.548517 seconds (4.37 k allocations: 12.884 MiB, 0.58% gc time)\n",
      "(:epoch, 14, :trnppl, 3.547039f0, :tstppl, 3.7226028f0)\n",
      " 18.607344 seconds (214.86 k allocations: 3.258 GiB, 0.91% gc time)\n",
      "  0.553590 seconds (4.37 k allocations: 12.884 MiB, 0.55% gc time)\n",
      "(:epoch, 15, :trnppl, 3.495735f0, :tstppl, 3.6793673f0)\n",
      " 18.585079 seconds (214.86 k allocations: 3.258 GiB, 0.92% gc time)\n",
      "  0.545786 seconds (4.37 k allocations: 12.884 MiB, 0.58% gc time)\n",
      "(:epoch, 16, :trnppl, 3.4529772f0, :tstppl, 3.635046f0)\n",
      " 18.638209 seconds (214.86 k allocations: 3.258 GiB, 0.92% gc time)\n",
      "  0.550798 seconds (4.37 k allocations: 12.884 MiB, 0.58% gc time)\n",
      "(:epoch, 17, :trnppl, 3.4130201f0, :tstppl, 3.6017416f0)\n",
      " 18.645940 seconds (214.86 k allocations: 3.258 GiB, 0.94% gc time)\n",
      "  0.544637 seconds (4.37 k allocations: 12.884 MiB, 0.61% gc time)\n",
      "(:epoch, 18, :trnppl, 3.3767037f0, :tstppl, 3.5705483f0)\n",
      " 18.625493 seconds (214.86 k allocations: 3.258 GiB, 0.94% gc time)\n",
      "  0.549430 seconds (4.37 k allocations: 12.884 MiB, 0.59% gc time)\n",
      "(:epoch, 19, :trnppl, 3.345065f0, :tstppl, 3.547074f0)\n",
      " 18.649470 seconds (214.86 k allocations: 3.258 GiB, 0.92% gc time)\n",
      "  0.544024 seconds (4.37 k allocations: 12.884 MiB, 0.60% gc time)\n",
      "(:epoch, 20, :trnppl, 3.3145344f0, :tstppl, 3.5177436f0)\n",
      " 18.629830 seconds (214.86 k allocations: 3.258 GiB, 0.92% gc time)\n",
      "  0.546447 seconds (4.37 k allocations: 12.884 MiB, 0.60% gc time)\n",
      "(:epoch, 21, :trnppl, 3.2879527f0, :tstppl, 3.4995697f0)\n",
      " 18.615746 seconds (214.86 k allocations: 3.258 GiB, 0.92% gc time)\n",
      "  0.552086 seconds (4.37 k allocations: 12.884 MiB, 0.59% gc time)\n",
      "(:epoch, 22, :trnppl, 3.2640882f0, :tstppl, 3.4809182f0)\n",
      " 18.610846 seconds (214.86 k allocations: 3.258 GiB, 0.93% gc time)\n",
      "  0.547968 seconds (4.37 k allocations: 12.884 MiB, 0.57% gc time)\n",
      "(:epoch, 23, :trnppl, 3.2418966f0, :tstppl, 3.4679244f0)\n",
      " 18.622208 seconds (214.86 k allocations: 3.258 GiB, 0.92% gc time)\n",
      "  0.550828 seconds (4.37 k allocations: 12.884 MiB, 0.59% gc time)\n",
      "(:epoch, 24, :trnppl, 3.2248921f0, :tstppl, 3.4537537f0)\n",
      " 18.626040 seconds (214.86 k allocations: 3.258 GiB, 0.92% gc time)\n",
      "  0.543437 seconds (4.37 k allocations: 12.884 MiB, 0.60% gc time)\n",
      "(:epoch, 25, :trnppl, 3.2022831f0, :tstppl, 3.4392128f0)\n",
      " 18.603006 seconds (214.86 k allocations: 3.258 GiB, 0.92% gc time)\n",
      "  0.548703 seconds (4.37 k allocations: 12.884 MiB, 0.59% gc time)\n",
      "(:epoch, 26, :trnppl, 3.1856923f0, :tstppl, 3.4253104f0)\n",
      " 18.556118 seconds (214.86 k allocations: 3.258 GiB, 0.93% gc time)\n",
      "  0.539097 seconds (4.37 k allocations: 12.884 MiB, 0.60% gc time)\n",
      "(:epoch, 27, :trnppl, 3.1682985f0, :tstppl, 3.413674f0)\n",
      " 18.558341 seconds (214.86 k allocations: 3.258 GiB, 0.93% gc time)\n",
      "  0.546119 seconds (4.37 k allocations: 12.884 MiB, 0.60% gc time)\n",
      "(:epoch, 28, :trnppl, 3.1513386f0, :tstppl, 3.399635f0)\n",
      " 18.566926 seconds (214.86 k allocations: 3.258 GiB, 0.93% gc time)\n",
      "  0.551479 seconds (4.37 k allocations: 12.884 MiB, 0.58% gc time)\n",
      "(:epoch, 29, :trnppl, 3.136538f0, :tstppl, 3.393824f0)\n",
      " 18.565112 seconds (214.86 k allocations: 3.258 GiB, 0.92% gc time)\n",
      "  0.545657 seconds (4.37 k allocations: 12.884 MiB, 0.59% gc time)\n",
      "(:epoch, 30, :trnppl, 3.1223388f0, :tstppl, 3.3867784f0)\n",
      "584.579704 seconds (31.17 M allocations: 99.335 GiB, 1.02% gc time)\n"
     ]
    },
    {
     "data": {
      "text/plain": [
       "\"Tuple{Knet.RNN,KnetArray{Float32,3},KnetArray{Float32,2},KnetArray{Float32,2},KnetArray{Float32,2}}\""
      ]
     },
     "execution_count": 8,
     "metadata": {},
     "output_type": "execute_result"
    }
   ],
   "source": [
    "# Train model or load from file if exists\n",
    "#using JLD\n",
    "model=optim=nothing; \n",
    "Knet.gc()\n",
    "if !isfile(\"shakespeare.jld\")\n",
    "    model = initmodel()\n",
    "    optim = optimizers(model, Adam; lr=LR, beta1=BETA_1, beta2=BETA_2, eps=EPS);    \n",
    "    @info(\"Training...\")\n",
    "    @time for epoch in 1:EPOCHS\n",
    "        @time trnloss = train(model,dtrn,optim) # ~18 seconds\n",
    "        @time tstloss = test(model,dtst)        # ~0.5 seconds\n",
    "        println((:epoch, epoch, :trnppl, exp(trnloss), :tstppl, exp(tstloss)))\n",
    "    end\n",
    "    #save(\"shakespeare.jld\",\"model\",model)\n",
    "else\n",
    "    model = load(\"shakespeare.jld\",\"model\")\n",
    "end\n",
    "summary(model)"
   ]
  },
  {
   "cell_type": "code",
   "execution_count": 10,
   "metadata": {},
   "outputs": [
    {
     "name": "stdout",
     "output_type": "stream",
     "text": [
      "  RICHMOND]  If your fanter's trock, Sir John, Tubine's is!\n",
      "    What you love me- I come for-old!\n",
      "  CONSTANCE. Before thou art]                                           Exeunt\n",
      "\n",
      "\n",
      "\n",
      "\n",
      "SCENE 2.\n",
      "\n",
      "Before OUFLOUF\n",
      "               Ophe and with yours? I do lock upon my\n",
      "    Of great dull conceit, for I fine either\n",
      "     to grimf'd you to your tent.\n",
      "  PETRUCHIO. I thank you, my good Fortung lamb of Vaulnce.\n",
      "  SUFFOLK. Entreat I am less'd, indoctorous chief\n",
      "    For some red and vaunt as he doth pay us,\n",
      "    And sent these Rosalind Dein Pejeona\n",
      "    Than his poor clostly couple as your splean.\n",
      "    Fall-yead, I'll call him nothing service; and let them\n",
      "    To good these father was kill'd the darkness of water\n",
      "    Softh Paris throught.\n",
      "  DEMETRIUS. A fool, would made upon you.\n",
      "  AJAX. My lord, you will!\n",
      "  MACCOLUS. O, good Pity. Stand you round.\n",
      "    False, the Badamon, I will done me from Wild,\n",
      "    hit that greeting into their drinks, being notes- once\n",
      "    Must bearing abway in \n"
     ]
    }
   ],
   "source": [
    "# Sample from trained model\n",
    "function generate(model,n)\n",
    "    function sample(y)\n",
    "        p,r=Array(exp.(Array(y).-logsumexp(y))),rand()\n",
    "        for j=1:length(p); (r -= p[j]) < 0 && return j; end\n",
    "    end\n",
    "    h,c = nothing,nothing\n",
    "    x = something(findfirst(isequal('\\n'), chars), 0)\n",
    "    for i=1:n\n",
    "        y,h,c = predict(model,[x],h,c)\n",
    "        x = sample(y)\n",
    "        print(chars[x])\n",
    "    end\n",
    "    println()\n",
    "end\n",
    "\n",
    "generate(model,1000)"
   ]
  }
 ],
 "metadata": {
  "kernelspec": {
   "display_name": "Julia 0.7.0",
   "language": "julia",
   "name": "julia-0.7"
  },
  "language_info": {
   "file_extension": ".jl",
   "mimetype": "application/julia",
   "name": "julia",
   "version": "0.7.0"
  }
 },
 "nbformat": 4,
 "nbformat_minor": 2
}
