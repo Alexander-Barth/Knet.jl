{
 "cells": [
  {
   "cell_type": "markdown",
   "metadata": {
    "slideshow": {
     "slide_type": "slide"
    }
   },
   "source": [
    "# Introduction to Recurrent Neural Networks"
   ]
  },
  {
   "cell_type": "code",
   "execution_count": 1,
   "metadata": {
    "slideshow": {
     "slide_type": "fragment"
    }
   },
   "outputs": [],
   "source": [
    "using Knet"
   ]
  },
  {
   "cell_type": "markdown",
   "metadata": {
    "slideshow": {
     "slide_type": "slide"
    }
   },
   "source": [
    "## A one layer MLP vs a simple RNN\n",
    "\n",
    "([Elman 1990](http://onlinelibrary.wiley.com/doi/10.1207/s15516709cog1402_1/pdf)) A simple RNN takes the previous hidden state as an extra input, and returns the next hidden state as an output."
   ]
  },
  {
   "cell_type": "code",
   "execution_count": 2,
   "metadata": {
    "slideshow": {
     "slide_type": "fragment"
    }
   },
   "outputs": [],
   "source": [
    "# Comparison of a single MLP layer and corresponding RNN\n",
    "\n",
    "function tanhmlp(param, input)\n",
    "    weight,bias = param\n",
    "    return tanh(input * weight .+ bias)\n",
    "end\n",
    "\n",
    "function tanhrnn(param, input, state)\n",
    "    weight,bias = param\n",
    "    return tanh(hcat(input, state) * weight .+ bias)\n",
    "end;"
   ]
  },
  {
   "cell_type": "markdown",
   "metadata": {
    "slideshow": {
     "slide_type": "slide"
    }
   },
   "source": [
    "<img src=\"images/rnn-vs-mlp.png\" />(<a href=\"https://docs.google.com/drawings/d/1bPttFA0GEh7ti3xoWDma1ZbrQ21eulsPDeVUbPgdA7g/edit?usp=sharing\">image source</a>)"
   ]
  },
  {
   "cell_type": "markdown",
   "metadata": {
    "slideshow": {
     "slide_type": "slide"
    }
   },
   "source": [
    "## Architectures\n",
    "\n",
    "<img src=\"images/diags.png\" />\n",
    "(<a href=\"http://karpathy.github.io/2015/05/21/rnn-effectiveness\">image source</a>)"
   ]
  },
  {
   "cell_type": "markdown",
   "metadata": {
    "slideshow": {
     "slide_type": "slide"
    }
   },
   "source": [
    "## Long Short-Term Memory (LSTM)\n",
    "([Hochreiter and Schmidhuber, 1997](https://papers.nips.cc/paper/5346-sequence-to-sequence-learning-with-neural-networks.pdf))\n",
    "LSTM is a more sophisticated RNN module that performs better with long-range dependencies. "
   ]
  },
  {
   "cell_type": "markdown",
   "metadata": {
    "slideshow": {
     "slide_type": "fragment"
    }
   },
   "source": [
    "<img src=\"images/LSTM3-chain.png\" width=800 />\n",
    "([image source](http://colah.github.io/posts/2015-08-Understanding-LSTMs))"
   ]
  },
  {
   "cell_type": "markdown",
   "metadata": {
    "slideshow": {
     "slide_type": "slide"
    }
   },
   "source": [
    "\n",
    "\n",
    "$$\\begin{align}\n",
    "f_t &= \\sigma(W_f\\cdot[h_{t-1},x_t] + b_f) & \\text{forget gate} \\\\\n",
    "i_t &= \\sigma(W_i\\cdot[h_{t-1},x_t] + b_i) & \\text{input gate} \\\\\n",
    "\\tilde{C}_t &= \\tanh(W_C\\cdot[h_{t-1},x_t] + b_C) & \\text{cell candidate} \\\\\n",
    "C_t &= f_t \\ast C_{t-1} + i_t \\ast \\tilde{C}_t & \\text{new cell} \\\\\n",
    "o_t &= \\sigma(W_o\\cdot[h_{t-1},x_t] + b_o) & \\text{output gate} \\\\\n",
    "h_t &= o_t \\ast \\tanh(C_t) & \\text{new output}\\\\\n",
    "\\end{align}$$"
   ]
  },
  {
   "cell_type": "markdown",
   "metadata": {
    "slideshow": {
     "slide_type": "slide"
    }
   },
   "source": [
    "## A pure Julia LSTM implementation"
   ]
  },
  {
   "cell_type": "code",
   "execution_count": 3,
   "metadata": {
    "slideshow": {
     "slide_type": "fragment"
    }
   },
   "outputs": [],
   "source": [
    "function lstm(param, input, state)\n",
    "    weight,bias = param\n",
    "    hidden,cell = state\n",
    "    h       = size(hidden,2)\n",
    "    gates   = hcat(input,hidden) * weight .+ bias\n",
    "    forget  = sigm.(gates[:,1:h])\n",
    "    ingate  = sigm.(gates[:,1+h:2h])\n",
    "    outgate = sigm.(gates[:,1+2h:3h])\n",
    "    change  = tanh.(gates[:,1+3h:4h])\n",
    "    cell    = cell .* forget + ingate .* change\n",
    "    hidden  = outgate .* tanh.(cell)\n",
    "    return (hidden,cell)\n",
    "end;"
   ]
  },
  {
   "cell_type": "markdown",
   "metadata": {
    "slideshow": {
     "slide_type": "slide"
    }
   },
   "source": [
    "## Gated Recurrent Unit (GRU)\n",
    "\n",
    "Introduced by <a href=\"http://arxiv.org/pdf/1406.1078v3.pdf\">Cho, et al. (2014)</a>, GRU combines the forget and input gates into a single “update gate.”\n",
    "\n",
    "<img src=\"images/LSTM3-var-GRU.png\" />\n",
    "(<a href=\"http://colah.github.io/posts/2015-08-Understanding-LSTMs/\">image source</a>)\n",
    "\n"
   ]
  },
  {
   "cell_type": "markdown",
   "metadata": {
    "slideshow": {
     "slide_type": "slide"
    }
   },
   "source": [
    "## A more efficient cuDNN implementation: rnninit and rnnforw"
   ]
  },
  {
   "cell_type": "code",
   "execution_count": null,
   "metadata": {
    "slideshow": {
     "slide_type": "fragment"
    }
   },
   "outputs": [],
   "source": [
    "# Sample usage\n",
    "# rnnSpec,rnnWeights = rnninit(inputSize, hiddenSize; rnnType=:gru)\n",
    "# rnnOutput = rnnforw(rnnSpec, rnnWeights, rnnInput)[1] # note the [1] at the end, rnnforw returns a tuple"
   ]
  },
  {
   "cell_type": "code",
   "execution_count": 5,
   "metadata": {
    "slideshow": {
     "slide_type": "slide"
    }
   },
   "outputs": [
    {
     "data": {
      "text/markdown": [
       "```\n",
       "rnninit(inputSize, hiddenSize; opts...)\n",
       "```\n",
       "\n",
       "Return an `(r,w)` pair where `r` is a RNN struct and `w` is a single weight array that includes all matrices and biases for the RNN. Keyword arguments:\n",
       "\n",
       "  * `rnnType=:lstm` Type of RNN: One of :relu, :tanh, :lstm, :gru.\n",
       "  * `numLayers=1`: Number of RNN layers.\n",
       "  * `bidirectional=false`: Create a bidirectional RNN if `true`.\n",
       "  * `dropout=0.0`: Dropout probability. Ignored if `numLayers==1`.\n",
       "  * `skipInput=false`: Do not multiply the input with a matrix if `true`.\n",
       "  * `dataType=Float32`: Data type to use for weights.\n",
       "  * `algo=0`: Algorithm to use, see CUDNN docs for details.\n",
       "  * `seed=0`: Random number seed. Uses `time()` if 0.\n",
       "  * `winit=xavier`: Weight initialization method for matrices.\n",
       "  * `binit=zeros`: Weight initialization method for bias vectors.\n",
       "  * `usegpu=(gpu()>=0)`: GPU used by default if one exists.\n",
       "\n",
       "RNNs compute the output h[t] for a given iteration from the recurrent input h[t-1] and the previous layer input x[t] given matrices W, R and biases bW, bR from the following equations:\n",
       "\n",
       "`:relu` and `:tanh`: Single gate RNN with activation function f:\n",
       "\n",
       "```\n",
       "h[t] = f(W * x[t] .+ R * h[t-1] .+ bW .+ bR)\n",
       "```\n",
       "\n",
       "`:gru`: Gated recurrent unit:\n",
       "\n",
       "```\n",
       "i[t] = sigm(Wi * x[t] .+ Ri * h[t-1] .+ bWi .+ bRi) # input gate\n",
       "r[t] = sigm(Wr * x[t] .+ Rr * h[t-1] .+ bWr .+ bRr) # reset gate\n",
       "n[t] = tanh(Wn * x[t] .+ r[t] .* (Rn * h[t-1] .+ bRn) .+ bWn) # new gate\n",
       "h[t] = (1 - i[t]) .* n[t] .+ i[t] .* h[t-1]\n",
       "```\n",
       "\n",
       "`:lstm`: Long short term memory unit with no peephole connections:\n",
       "\n",
       "```\n",
       "i[t] = sigm(Wi * x[t] .+ Ri * h[t-1] .+ bWi .+ bRi) # input gate\n",
       "f[t] = sigm(Wf * x[t] .+ Rf * h[t-1] .+ bWf .+ bRf) # forget gate\n",
       "o[t] = sigm(Wo * x[t] .+ Ro * h[t-1] .+ bWo .+ bRo) # output gate\n",
       "n[t] = tanh(Wn * x[t] .+ Rn * h[t-1] .+ bWn .+ bRn) # new gate\n",
       "c[t] = f[t] .* c[t-1] .+ i[t] .* n[t]               # cell output\n",
       "h[t] = o[t] .* tanh(c[t])\n",
       "```\n"
      ],
      "text/plain": [
       "\u001b[36m  rnninit(inputSize, hiddenSize; opts...)\u001b[39m\n",
       "\n",
       "  Return an \u001b[36m(r,w)\u001b[39m pair where \u001b[36mr\u001b[39m is a RNN struct and \u001b[36mw\u001b[39m is a single weight array that includes all matrices and biases for the RNN. Keyword arguments:\n",
       "\n",
       "    •    \u001b[36mrnnType=:lstm\u001b[39m Type of RNN: One of :relu, :tanh, :lstm, :gru.\n",
       "\n",
       "    •    \u001b[36mnumLayers=1\u001b[39m: Number of RNN layers.\n",
       "\n",
       "    •    \u001b[36mbidirectional=false\u001b[39m: Create a bidirectional RNN if \u001b[36mtrue\u001b[39m.\n",
       "\n",
       "    •    \u001b[36mdropout=0.0\u001b[39m: Dropout probability. Ignored if \u001b[36mnumLayers==1\u001b[39m.\n",
       "\n",
       "    •    \u001b[36mskipInput=false\u001b[39m: Do not multiply the input with a matrix if \u001b[36mtrue\u001b[39m.\n",
       "\n",
       "    •    \u001b[36mdataType=Float32\u001b[39m: Data type to use for weights.\n",
       "\n",
       "    •    \u001b[36malgo=0\u001b[39m: Algorithm to use, see CUDNN docs for details.\n",
       "\n",
       "    •    \u001b[36mseed=0\u001b[39m: Random number seed. Uses \u001b[36mtime()\u001b[39m if 0.\n",
       "\n",
       "    •    \u001b[36mwinit=xavier\u001b[39m: Weight initialization method for matrices.\n",
       "\n",
       "    •    \u001b[36mbinit=zeros\u001b[39m: Weight initialization method for bias vectors.\n",
       "\n",
       "    •    \u001b[36musegpu=(gpu()>=0)\u001b[39m: GPU used by default if one exists.\n",
       "\n",
       "  RNNs compute the output h[t] for a given iteration from the recurrent input h[t-1] and the previous layer input x[t] given matrices W, R and biases\n",
       "  bW, bR from the following equations:\n",
       "\n",
       "  \u001b[36m:relu\u001b[39m and \u001b[36m:tanh\u001b[39m: Single gate RNN with activation function f:\n",
       "\n",
       "\u001b[36m  h[t] = f(W * x[t] .+ R * h[t-1] .+ bW .+ bR)\u001b[39m\n",
       "\n",
       "  \u001b[36m:gru\u001b[39m: Gated recurrent unit:\n",
       "\n",
       "\u001b[36m  i[t] = sigm(Wi * x[t] .+ Ri * h[t-1] .+ bWi .+ bRi) # input gate\u001b[39m\n",
       "\u001b[36m  r[t] = sigm(Wr * x[t] .+ Rr * h[t-1] .+ bWr .+ bRr) # reset gate\u001b[39m\n",
       "\u001b[36m  n[t] = tanh(Wn * x[t] .+ r[t] .* (Rn * h[t-1] .+ bRn) .+ bWn) # new gate\u001b[39m\n",
       "\u001b[36m  h[t] = (1 - i[t]) .* n[t] .+ i[t] .* h[t-1]\u001b[39m\n",
       "\n",
       "  \u001b[36m:lstm\u001b[39m: Long short term memory unit with no peephole connections:\n",
       "\n",
       "\u001b[36m  i[t] = sigm(Wi * x[t] .+ Ri * h[t-1] .+ bWi .+ bRi) # input gate\u001b[39m\n",
       "\u001b[36m  f[t] = sigm(Wf * x[t] .+ Rf * h[t-1] .+ bWf .+ bRf) # forget gate\u001b[39m\n",
       "\u001b[36m  o[t] = sigm(Wo * x[t] .+ Ro * h[t-1] .+ bWo .+ bRo) # output gate\u001b[39m\n",
       "\u001b[36m  n[t] = tanh(Wn * x[t] .+ Rn * h[t-1] .+ bWn .+ bRn) # new gate\u001b[39m\n",
       "\u001b[36m  c[t] = f[t] .* c[t-1] .+ i[t] .* n[t]               # cell output\u001b[39m\n",
       "\u001b[36m  h[t] = o[t] .* tanh(c[t])\u001b[39m"
      ]
     },
     "execution_count": 5,
     "metadata": {},
     "output_type": "execute_result"
    }
   ],
   "source": [
    "@doc rnninit"
   ]
  },
  {
   "cell_type": "code",
   "execution_count": 6,
   "metadata": {
    "slideshow": {
     "slide_type": "slide"
    }
   },
   "outputs": [
    {
     "data": {
      "text/markdown": [
       "```\n",
       "rnnforw(r, w, x[, hx, cx]; batchSizes, hy, cy)\n",
       "```\n",
       "\n",
       "Returns a tuple (y,hyout,cyout,rs) given rnn `r`, weights `w`, input `x` and optionally the initial hidden and cell states `hx` and `cx` (`cx` is only used in LSTMs).  `r` and `w` should come from a previous call to `rnninit`.  Both `hx` and `cx` are optional, they are treated as zero arrays if not provided.  The output `y` contains the hidden states of the final layer for each time step, `hyout` and `cyout` give the final hidden and cell states for all layers, `rs` is a buffer the RNN needs for its gradient calculation.\n",
       "\n",
       "The boolean keyword arguments `hy` and `cy` control whether `hyout` and `cyout` will be output.  By default `hy = (hx!=nothing)` and `cy = (cx!=nothing && r.mode==2)`, i.e. a hidden state will be output if one is provided as input and for cell state we also require an LSTM.  If `hy`/`cy` is `false`, `hyout`/`cyout` will be `nothing`. `batchSizes` can be an integer array that specifies non-uniform batch sizes as explained below. By default `batchSizes=nothing` and the same batch size, `size(x,2)`, is used for all time steps.\n",
       "\n",
       "The input and output dimensions are:\n",
       "\n",
       "  * `x`: (X,[B,T])\n",
       "  * `y`: (H/2H,[B,T])\n",
       "  * `hx`,`cx`,`hyout`,`cyout`: (H,B,L/2L)\n",
       "  * `batchSizes`: `nothing` or `Vector{Int}(T)`\n",
       "\n",
       "where X is inputSize, H is hiddenSize, B is batchSize, T is seqLength, L is numLayers.  `x` can be 1, 2, or 3 dimensional.  If `batchSizes==nothing`, a 1-D `x` represents a single instance, a 2-D `x` represents a single minibatch, and a 3-D `x` represents a sequence of identically sized minibatches.  If `batchSizes` is an array of (non-increasing) integers, it gives us the batch size for each time step in the sequence, in which case `sum(batchSizes)` should equal `div(length(x),size(x,1))`. `y` has the same dimensionality as `x`, differing only in its first dimension, which is H if the RNN is unidirectional, 2H if bidirectional.  Hidden vectors `hx`, `cx`, `hyout`, `cyout` all have size (H,B1,L) for unidirectional RNNs, and (H,B1,2L) for bidirectional RNNs where B1 is the size of the first minibatch.\n"
      ],
      "text/plain": [
       "\u001b[36m  rnnforw(r, w, x[, hx, cx]; batchSizes, hy, cy)\u001b[39m\n",
       "\n",
       "  Returns a tuple (y,hyout,cyout,rs) given rnn \u001b[36mr\u001b[39m, weights \u001b[36mw\u001b[39m, input \u001b[36mx\u001b[39m and optionally the initial hidden and cell states \u001b[36mhx\u001b[39m and \u001b[36mcx\u001b[39m (\u001b[36mcx\u001b[39m is only used in\n",
       "  LSTMs). \u001b[36mr\u001b[39m and \u001b[36mw\u001b[39m should come from a previous call to \u001b[36mrnninit\u001b[39m. Both \u001b[36mhx\u001b[39m and \u001b[36mcx\u001b[39m are optional, they are treated as zero arrays if not provided. The\n",
       "  output \u001b[36my\u001b[39m contains the hidden states of the final layer for each time step, \u001b[36mhyout\u001b[39m and \u001b[36mcyout\u001b[39m give the final hidden and cell states for all layers, \u001b[36mrs\u001b[39m\n",
       "  is a buffer the RNN needs for its gradient calculation.\n",
       "\n",
       "  The boolean keyword arguments \u001b[36mhy\u001b[39m and \u001b[36mcy\u001b[39m control whether \u001b[36mhyout\u001b[39m and \u001b[36mcyout\u001b[39m will be output. By default \u001b[36mhy = (hx!=nothing)\u001b[39m and \u001b[36mcy = (cx!=nothing &&\n",
       "  r.mode==2)\u001b[39m, i.e. a hidden state will be output if one is provided as input and for cell state we also require an LSTM. If \u001b[36mhy\u001b[39m/\u001b[36mcy\u001b[39m is \u001b[36mfalse\u001b[39m,\n",
       "  \u001b[36mhyout\u001b[39m/\u001b[36mcyout\u001b[39m will be \u001b[36mnothing\u001b[39m. \u001b[36mbatchSizes\u001b[39m can be an integer array that specifies non-uniform batch sizes as explained below. By default\n",
       "  \u001b[36mbatchSizes=nothing\u001b[39m and the same batch size, \u001b[36msize(x,2)\u001b[39m, is used for all time steps.\n",
       "\n",
       "  The input and output dimensions are:\n",
       "\n",
       "    •    \u001b[36mx\u001b[39m: (X,[B,T])\n",
       "\n",
       "    •    \u001b[36my\u001b[39m: (H/2H,[B,T])\n",
       "\n",
       "    •    \u001b[36mhx\u001b[39m,\u001b[36mcx\u001b[39m,\u001b[36mhyout\u001b[39m,\u001b[36mcyout\u001b[39m: (H,B,L/2L)\n",
       "\n",
       "    •    \u001b[36mbatchSizes\u001b[39m: \u001b[36mnothing\u001b[39m or \u001b[36mVector{Int}(T)\u001b[39m\n",
       "\n",
       "  where X is inputSize, H is hiddenSize, B is batchSize, T is seqLength, L is numLayers. \u001b[36mx\u001b[39m can be 1, 2, or 3 dimensional. If \u001b[36mbatchSizes==nothing\u001b[39m, a\n",
       "  1-D \u001b[36mx\u001b[39m represents a single instance, a 2-D \u001b[36mx\u001b[39m represents a single minibatch, and a 3-D \u001b[36mx\u001b[39m represents a sequence of identically sized minibatches. If\n",
       "  \u001b[36mbatchSizes\u001b[39m is an array of (non-increasing) integers, it gives us the batch size for each time step in the sequence, in which case \u001b[36msum(batchSizes)\u001b[39m\n",
       "  should equal \u001b[36mdiv(length(x),size(x,1))\u001b[39m. \u001b[36my\u001b[39m has the same dimensionality as \u001b[36mx\u001b[39m, differing only in its first dimension, which is H if the RNN is\n",
       "  unidirectional, 2H if bidirectional. Hidden vectors \u001b[36mhx\u001b[39m, \u001b[36mcx\u001b[39m, \u001b[36mhyout\u001b[39m, \u001b[36mcyout\u001b[39m all have size (H,B1,L) for unidirectional RNNs, and (H,B1,2L) for\n",
       "  bidirectional RNNs where B1 is the size of the first minibatch."
      ]
     },
     "execution_count": 6,
     "metadata": {},
     "output_type": "execute_result"
    }
   ],
   "source": [
    "@doc rnnforw"
   ]
  }
 ],
 "metadata": {
  "kernelspec": {
   "display_name": "Julia 1.0.0",
   "language": "julia",
   "name": "julia-1.0"
  },
  "language_info": {
   "file_extension": ".jl",
   "mimetype": "application/julia",
   "name": "julia",
   "version": "1.0.0"
  }
 },
 "nbformat": 4,
 "nbformat_minor": 2
}
