{
 "cells": [
  {
   "cell_type": "code",
   "execution_count": 1,
   "metadata": {},
   "outputs": [
    {
     "data": {
      "text/plain": [
       "Main.Housing"
      ]
     },
     "execution_count": 1,
     "metadata": {},
     "output_type": "execute_result"
    }
   ],
   "source": [
    "include(\"housing.jl\")"
   ]
  },
  {
   "cell_type": "code",
   "execution_count": 2,
   "metadata": {},
   "outputs": [
    {
     "data": {
      "text/markdown": [
       "This example uses the [Boston Housing](https://archive.ics.uci.edu/ml/machine-learning-databases/housing) dataset from the UCI Machine Learning Repository to demonstrate a linear regression model. The dataset has housing related information for 506 neighborhoods in Boston from 1978. Each neighborhood has 14 attributes, the goal is to use the first 13, such as average number of rooms per house, or distance to employment centers, to predict the 14’th attribute: median dollar value of the houses.\n",
       "\n",
       "You can run the demo using `julia housing.jl`.  Use `julia housing.jl --help` for a list of options.  The dataset will be automatically downloaded and randomly split into training and test sets.  The quadratic loss for the training and test sets will be printed at every epoch and optimized parameters will be returned.\n"
      ],
      "text/plain": [
       "  This example uses the Boston Housing\n",
       "  (https://archive.ics.uci.edu/ml/machine-learning-databases/housing) dataset\n",
       "  from the UCI Machine Learning Repository to demonstrate a linear regression\n",
       "  model. The dataset has housing related information for 506 neighborhoods in\n",
       "  Boston from 1978. Each neighborhood has 14 attributes, the goal is to use\n",
       "  the first 13, such as average number of rooms per house, or distance to\n",
       "  employment centers, to predict the 14’th attribute: median dollar value of\n",
       "  the houses.\n",
       "\n",
       "  You can run the demo using \u001b[36mjulia housing.jl\u001b[39m. Use \u001b[36mjulia housing.jl --help\u001b[39m for\n",
       "  a list of options. The dataset will be automatically downloaded and randomly\n",
       "  split into training and test sets. The quadratic loss for the training and\n",
       "  test sets will be printed at every epoch and optimized parameters will be\n",
       "  returned."
      ]
     },
     "execution_count": 2,
     "metadata": {},
     "output_type": "execute_result"
    }
   ],
   "source": [
    "@doc Housing"
   ]
  },
  {
   "cell_type": "code",
   "execution_count": 3,
   "metadata": {},
   "outputs": [
    {
     "name": "stdout",
     "output_type": "stream",
     "text": [
      "usage: <PROGRAM> [--seed SEED] [--epochs EPOCHS] [--lr LR]\n",
      "                 [--test TEST] [--atype ATYPE] [--fast]\n",
      "                 [--gcheck GCHECK]\n",
      "\n",
      "housing.jl (c) Deniz Yuret, 2016. Linear regression model for the\n",
      "Housing dataset from the UCI Machine Learning Repository.\n",
      "\n",
      "optional arguments:\n",
      "  --seed SEED      random number seed: use a nonnegative int for\n",
      "                   repeatable results (type: Int64, default: -1)\n",
      "  --epochs EPOCHS  number of epochs for training (type: Int64,\n",
      "                   default: 20)\n",
      "  --lr LR          learning rate (type: Float64, default: 0.1)\n",
      "  --test TEST      ratio of data to split for testing (type: Float64,\n",
      "                   default: 0.0)\n",
      "  --atype ATYPE    array type: Array for cpu, KnetArray for gpu\n",
      "                   (default: \"KnetArray{Float32}\")\n",
      "  --fast           skip loss printing for faster run\n",
      "  --gcheck GCHECK  check N random gradients (type: Int64, default: 0)\n",
      "\n"
     ]
    }
   ],
   "source": [
    "Housing.main(\"--help\")"
   ]
  },
  {
   "cell_type": "code",
   "execution_count": 4,
   "metadata": {},
   "outputs": [
    {
     "name": "stdout",
     "output_type": "stream",
     "text": [
      "housing.jl (c) Deniz Yuret, 2016. Linear regression model for the Housing dataset from the UCI Machine Learning\n",
      "Repository.\n",
      "opts=(:fast, false)(:atype, \"KnetArray{Float32}\")(:test, 0.0)(:epochs, 20)(:gcheck, 0)(:lr, 0.1)(:seed, -1)\n",
      "(:epoch, 0, :trn, 598.03656f0, :tst, 598.03656f0)\n",
      "(:epoch, 1, :trn, 372.33838f0, :tst, 372.33838f0)\n",
      "(:epoch, 2, :trn, 245.35292f0, :tst, 245.35292f0)\n",
      "(:epoch, 3, :trn, 165.28955f0, :tst, 165.28955f0)\n",
      "(:epoch, 4, :trn, 114.26158f0, :tst, 114.26158f0)\n",
      "(:epoch, 5, :trn, 81.6704f0, :tst, 81.6704f0)\n",
      "(:epoch, 6, :trn, 60.822895f0, :tst, 60.822895f0)\n",
      "(:epoch, 7, :trn, 47.464947f0, :tst, 47.464947f0)\n",
      "(:epoch, 8, :trn, 38.88838f0, :tst, 38.88838f0)\n",
      "(:epoch, 9, :trn, 33.367332f0, :tst, 33.367332f0)\n",
      "(:epoch, 10, :trn, 29.800943f0, :tst, 29.800943f0)\n",
      "(:epoch, 11, :trn, 27.48643f0, :tst, 27.48643f0)\n",
      "(:epoch, 12, :trn, 25.97476f0, :tst, 25.97476f0)\n",
      "(:epoch, 13, :trn, 24.978851f0, :tst, 24.978851f0)\n",
      "(:epoch, 14, :trn, 24.314978f0, :tst, 24.314978f0)\n",
      "(:epoch, 15, :trn, 23.865477f0, :tst, 23.865477f0)\n",
      "(:epoch, 16, :trn, 23.554922f0, :tst, 23.554922f0)\n",
      "(:epoch, 17, :trn, 23.334894f0, :tst, 23.334894f0)\n",
      "(:epoch, 18, :trn, 23.174269f0, :tst, 23.174269f0)\n",
      "(:epoch, 19, :trn, 23.053005f0, :tst, 23.053005f0)\n",
      "(:epoch, 20, :trn, 22.958157f0, :tst, 22.958157f0)\n",
      "  2.583218 seconds (6.99 M allocations: 343.003 MiB, 3.51% gc time)\n"
     ]
    },
    {
     "data": {
      "text/plain": [
       "2-element Array{Knet.KnetArray{Float32,2},1}:\n",
       " Knet.KnetArray{Float32,2}(Knet.KnetPtr(Ptr{Nothing} @0x0000001203d20000, 52, 0, #undef), (1, 13))\n",
       " Knet.KnetArray{Float32,2}(Knet.KnetPtr(Ptr{Nothing} @0x0000001203d20200, 4, 0, #undef), (1, 1))  "
      ]
     },
     "execution_count": 4,
     "metadata": {},
     "output_type": "execute_result"
    }
   ],
   "source": [
    "Housing.main(\"\")"
   ]
  }
 ],
 "metadata": {
  "kernelspec": {
   "display_name": "Julia 0.7.0",
   "language": "julia",
   "name": "julia-0.7"
  },
  "language_info": {
   "file_extension": ".jl",
   "mimetype": "application/julia",
   "name": "julia",
   "version": "0.7.0"
  }
 },
 "nbformat": 4,
 "nbformat_minor": 2
}
