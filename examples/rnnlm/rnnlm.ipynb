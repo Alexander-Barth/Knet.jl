{
 "cells": [
  {
   "cell_type": "markdown",
   "metadata": {},
   "source": [
    "# RNN language model\n",
    "Loosely based on [Zaremba et al. 2014](https://arxiv.org/abs/1409.2329), this example trains a word based RNN language model on Mikolov's PTB data with 10K vocab. It uses the `batchSizes` feature of `rnnforw` to process batches with different sized sentences. The `mb` minibatching function sorts sentences in a corpus by length and tries to group similarly sized sentences together. For an example that uses fixed length batches and goes across sentence boundaries see the [charlm](https://github.com/denizyuret/Knet.jl/blob/master/examples/charlm/charlm.ipynb) notebook."
   ]
  },
  {
   "cell_type": "code",
   "execution_count": 1,
   "metadata": {},
   "outputs": [],
   "source": [
    "using Knet\n",
    "EPOCHS=10\n",
    "RNNTYPE=:lstm\n",
    "BATCHSIZE=64\n",
    "EMBEDSIZE=128\n",
    "HIDDENSIZE=256\n",
    "VOCABSIZE=10000\n",
    "NUMLAYERS=1\n",
    "DROPOUT=0.5\n",
    "LR=0.001\n",
    "BETA_1=0.9\n",
    "BETA_2=0.999\n",
    "EPS=1e-08;"
   ]
  },
  {
   "cell_type": "code",
   "execution_count": 2,
   "metadata": {},
   "outputs": [
    {
     "name": "stdout",
     "output_type": "stream",
     "text": [
      "42068-element Array{Array{UInt16,1},1}\n",
      "3370-element Array{Array{UInt16,1},1}\n",
      "3761-element Array{Array{UInt16,1},1}\n",
      "9999-element Array{String,1}\n"
     ]
    }
   ],
   "source": [
    "# Load data\n",
    "include(Knet.dir(\"data\",\"mikolovptb.jl\"))\n",
    "(trn,val,tst,vocab) = mikolovptb()\n",
    "@assert VOCABSIZE == length(vocab)+1 # +1 for the EOS token\n",
    "for x in (trn,val,tst,vocab); println(summary(x)); end"
   ]
  },
  {
   "cell_type": "code",
   "execution_count": 3,
   "metadata": {},
   "outputs": [
    {
     "name": "stdout",
     "output_type": "stream",
     "text": [
      "UInt16[0x008e, 0x004e, 0x0036, 0x00fb, 0x0938, 0x0195]\n",
      "String[\"no\", \"it\", \"was\", \"n't\", \"black\", \"monday\"]\n"
     ]
    }
   ],
   "source": [
    "# Print a sample\n",
    "println(tst[1])\n",
    "println(vocab[tst[1]])"
   ]
  },
  {
   "cell_type": "code",
   "execution_count": 4,
   "metadata": {},
   "outputs": [
    {
     "data": {
      "text/markdown": [
       "```\n",
       "mikolovptb()\n",
       "```\n",
       "\n",
       "Read [PTB](https://catalog.ldc.upenn.edu/ldc99t42) text from Mikolov's [RNNLM](http://www.fit.vutbr.cz/~imikolov/rnnlm) toolkit which has been lowercased and reduced to a 10K vocabulary size.  Return a tuple (trn,dev,tst,vocab) where\n",
       "\n",
       "```\n",
       "trn::Vector{Vector{UInt16}}: 42068 sentences, 887521 words\n",
       "dev::Vector{Vector{UInt16}}: 3370 sentences, 70390 words\n",
       "tst::Vector{Vector{UInt16}}: 3761 sentences, 78669 words\n",
       "vocab::Vector{String}: 9999 unique words\n",
       "```\n"
      ],
      "text/plain": [
       "```\n",
       "mikolovptb()\n",
       "```\n",
       "\n",
       "Read [PTB](https://catalog.ldc.upenn.edu/ldc99t42) text from Mikolov's [RNNLM](http://www.fit.vutbr.cz/~imikolov/rnnlm) toolkit which has been lowercased and reduced to a 10K vocabulary size.  Return a tuple (trn,dev,tst,vocab) where\n",
       "\n",
       "```\n",
       "trn::Vector{Vector{UInt16}}: 42068 sentences, 887521 words\n",
       "dev::Vector{Vector{UInt16}}: 3370 sentences, 70390 words\n",
       "tst::Vector{Vector{UInt16}}: 3761 sentences, 78669 words\n",
       "vocab::Vector{String}: 9999 unique words\n",
       "```\n"
      ]
     },
     "execution_count": 4,
     "metadata": {},
     "output_type": "execute_result"
    }
   ],
   "source": [
    "@doc mikolovptb"
   ]
  },
  {
   "cell_type": "code",
   "execution_count": 5,
   "metadata": {},
   "outputs": [
    {
     "data": {
      "text/plain": [
       "(658, 53, 59)"
      ]
     },
     "execution_count": 5,
     "metadata": {},
     "output_type": "execute_result"
    }
   ],
   "source": [
    "# Minibatch data into (x,y,b) triples. This is the most complicated part of the code:\n",
    "# for language models x and y contain the same words shifted, x has an EOS in the beginning, y has an EOS at the end\n",
    "# x,y = [ s11,s21,s31,...,s12,s22,...] i.e. all the first words followed by all the second words etc.\n",
    "# b = [b1,b2,...,bT] i.e. how many sentences have first words, how many have second words etc.\n",
    "# length(x)==length(y)==sum(b) and length(b)=length(s1)+1 (+1 because of EOS)\n",
    "# sentences in batch should be sorted from longest to shortest, i.e. s1 is the longest sentence\n",
    "function mb(sentences,batchsize)\n",
    "    sentences = sort(sentences,by=length,rev=true)\n",
    "    data = []; eos = VOCABSIZE\n",
    "    for i = 1:batchsize:length(sentences)\n",
    "        j = min(i+batchsize-1,length(sentences))\n",
    "        sij = view(sentences,i:j)\n",
    "        T = 1+length(sij[1])\n",
    "        x = UInt16[]; y = UInt16[]; b = UInt16[]\n",
    "        for t=1:T\n",
    "            bt = 0\n",
    "            for s in sij\n",
    "                if t == 1\n",
    "                    push!(x,eos)\n",
    "                    push!(y,s[1])\n",
    "                elseif t <= length(s)\n",
    "                    push!(x,s[t-1])\n",
    "                    push!(y,s[t])\n",
    "                elseif t == 1+length(s)\n",
    "                    push!(x,s[t-1])\n",
    "                    push!(y,eos)\n",
    "                else\n",
    "                    break\n",
    "                end\n",
    "                bt += 1\n",
    "            end\n",
    "            push!(b,bt)\n",
    "        end\n",
    "        push!(data,(x,y,b))\n",
    "    end\n",
    "    return data\n",
    "end\n",
    "\n",
    "mbtrn = mb(trn,BATCHSIZE)\n",
    "mbval = mb(val,BATCHSIZE)\n",
    "mbtst = mb(tst,BATCHSIZE)\n",
    "map(length,(mbtrn,mbval,mbtst))"
   ]
  },
  {
   "cell_type": "code",
   "execution_count": 6,
   "metadata": {},
   "outputs": [],
   "source": [
    "# Define model\n",
    "function initmodel()\n",
    "    w(d...)=KnetArray(xavier(Float32,d...))\n",
    "    b(d...)=KnetArray(zeros(Float32,d...))\n",
    "    r,wr = rnninit(EMBEDSIZE,HIDDENSIZE,rnnType=RNNTYPE,numLayers=NUMLAYERS,dropout=DROPOUT)\n",
    "    wx = w(EMBEDSIZE,VOCABSIZE)\n",
    "    wy = w(VOCABSIZE,HIDDENSIZE)\n",
    "    by = b(VOCABSIZE,1)\n",
    "    return r,wr,wx,wy,by\n",
    "end;"
   ]
  },
  {
   "cell_type": "code",
   "execution_count": 7,
   "metadata": {},
   "outputs": [
    {
     "data": {
      "text/markdown": [
       "```\n",
       "rnninit(inputSize, hiddenSize; opts...)\n",
       "```\n",
       "\n",
       "Return an `(r,w)` pair where `r` is a RNN struct and `w` is a single weight array that includes all matrices and biases for the RNN. Keyword arguments:\n",
       "\n",
       "  * `rnnType=:lstm` Type of RNN: One of :relu, :tanh, :lstm, :gru.\n",
       "  * `numLayers=1`: Number of RNN layers.\n",
       "  * `bidirectional=false`: Create a bidirectional RNN if `true`.\n",
       "  * `dropout=0.0`: Dropout probability. Ignored if `numLayers==1`.\n",
       "  * `skipInput=false`: Do not multiply the input with a matrix if `true`.\n",
       "  * `dataType=Float32`: Data type to use for weights.\n",
       "  * `algo=0`: Algorithm to use, see CUDNN docs for details.\n",
       "  * `seed=0`: Random number seed. Uses `time()` if 0.\n",
       "  * `winit=xavier`: Weight initialization method for matrices.\n",
       "  * `binit=zeros`: Weight initialization method for bias vectors.\n",
       "  * `usegpu=(gpu()>=0): GPU used by default if one exists.\n",
       "\n",
       "RNNs compute the output h[t] for a given iteration from the recurrent input h[t-1] and the previous layer input x[t] given matrices W, R and biases bW, bR from the following equations:\n",
       "\n",
       "`:relu` and `:tanh`: Single gate RNN with activation function f:\n",
       "\n",
       "```\n",
       "h[t] = f(W * x[t] .+ R * h[t-1] .+ bW .+ bR)\n",
       "```\n",
       "\n",
       "`:gru`: Gated recurrent unit:\n",
       "\n",
       "```\n",
       "i[t] = sigm(Wi * x[t] .+ Ri * h[t-1] .+ bWi .+ bRi) # input gate\n",
       "r[t] = sigm(Wr * x[t] .+ Rr * h[t-1] .+ bWr .+ bRr) # reset gate\n",
       "n[t] = tanh(Wn * x[t] .+ r[t] .* (Rn * h[t-1] .+ bRn) .+ bWn) # new gate\n",
       "h[t] = (1 - i[t]) .* n[t] .+ i[t] .* h[t-1]\n",
       "```\n",
       "\n",
       "`:lstm`: Long short term memory unit with no peephole connections:\n",
       "\n",
       "```\n",
       "i[t] = sigm(Wi * x[t] .+ Ri * h[t-1] .+ bWi .+ bRi) # input gate\n",
       "f[t] = sigm(Wf * x[t] .+ Rf * h[t-1] .+ bWf .+ bRf) # forget gate\n",
       "o[t] = sigm(Wo * x[t] .+ Ro * h[t-1] .+ bWo .+ bRo) # output gate\n",
       "n[t] = tanh(Wn * x[t] .+ Rn * h[t-1] .+ bWn .+ bRn) # new gate\n",
       "c[t] = f[t] .* c[t-1] .+ i[t] .* n[t]               # cell output\n",
       "h[t] = o[t] .* tanh(c[t])\n",
       "```\n"
      ],
      "text/plain": [
       "```\n",
       "rnninit(inputSize, hiddenSize; opts...)\n",
       "```\n",
       "\n",
       "Return an `(r,w)` pair where `r` is a RNN struct and `w` is a single weight array that includes all matrices and biases for the RNN. Keyword arguments:\n",
       "\n",
       "  * `rnnType=:lstm` Type of RNN: One of :relu, :tanh, :lstm, :gru.\n",
       "  * `numLayers=1`: Number of RNN layers.\n",
       "  * `bidirectional=false`: Create a bidirectional RNN if `true`.\n",
       "  * `dropout=0.0`: Dropout probability. Ignored if `numLayers==1`.\n",
       "  * `skipInput=false`: Do not multiply the input with a matrix if `true`.\n",
       "  * `dataType=Float32`: Data type to use for weights.\n",
       "  * `algo=0`: Algorithm to use, see CUDNN docs for details.\n",
       "  * `seed=0`: Random number seed. Uses `time()` if 0.\n",
       "  * `winit=xavier`: Weight initialization method for matrices.\n",
       "  * `binit=zeros`: Weight initialization method for bias vectors.\n",
       "  * `usegpu=(gpu()>=0): GPU used by default if one exists.\n",
       "\n",
       "RNNs compute the output h[t] for a given iteration from the recurrent input h[t-1] and the previous layer input x[t] given matrices W, R and biases bW, bR from the following equations:\n",
       "\n",
       "`:relu` and `:tanh`: Single gate RNN with activation function f:\n",
       "\n",
       "```\n",
       "h[t] = f(W * x[t] .+ R * h[t-1] .+ bW .+ bR)\n",
       "```\n",
       "\n",
       "`:gru`: Gated recurrent unit:\n",
       "\n",
       "```\n",
       "i[t] = sigm(Wi * x[t] .+ Ri * h[t-1] .+ bWi .+ bRi) # input gate\n",
       "r[t] = sigm(Wr * x[t] .+ Rr * h[t-1] .+ bWr .+ bRr) # reset gate\n",
       "n[t] = tanh(Wn * x[t] .+ r[t] .* (Rn * h[t-1] .+ bRn) .+ bWn) # new gate\n",
       "h[t] = (1 - i[t]) .* n[t] .+ i[t] .* h[t-1]\n",
       "```\n",
       "\n",
       "`:lstm`: Long short term memory unit with no peephole connections:\n",
       "\n",
       "```\n",
       "i[t] = sigm(Wi * x[t] .+ Ri * h[t-1] .+ bWi .+ bRi) # input gate\n",
       "f[t] = sigm(Wf * x[t] .+ Rf * h[t-1] .+ bWf .+ bRf) # forget gate\n",
       "o[t] = sigm(Wo * x[t] .+ Ro * h[t-1] .+ bWo .+ bRo) # output gate\n",
       "n[t] = tanh(Wn * x[t] .+ Rn * h[t-1] .+ bWn .+ bRn) # new gate\n",
       "c[t] = f[t] .* c[t-1] .+ i[t] .* n[t]               # cell output\n",
       "h[t] = o[t] .* tanh(c[t])\n",
       "```\n"
      ]
     },
     "execution_count": 7,
     "metadata": {},
     "output_type": "execute_result"
    }
   ],
   "source": [
    "@doc rnninit"
   ]
  },
  {
   "cell_type": "code",
   "execution_count": 8,
   "metadata": {},
   "outputs": [],
   "source": [
    "# Define loss and its gradient\n",
    "function predict(ws,xs,bs;pdrop=0)\n",
    "    r,wr,wx,wy,by = ws\n",
    "    x = wx[:,xs] # xs=(ΣBt) x=(X,ΣBt)\n",
    "    x = dropout(x,pdrop)\n",
    "    (y,_) = rnnforw(r,wr,x,batchSizes=bs) # y=(H,ΣBt)\n",
    "    y = dropout(y,pdrop)\n",
    "    return wy * y .+ by  # return=(V,ΣBt)\n",
    "end\n",
    "\n",
    "loss(w,x,y,b;o...) = nll(predict(w,x,b;o...), y)\n",
    "\n",
    "lossgradient = gradloss(loss);"
   ]
  },
  {
   "cell_type": "code",
   "execution_count": 9,
   "metadata": {},
   "outputs": [
    {
     "data": {
      "text/markdown": [
       "```\n",
       "rnnforw(r, w, x[, hx, cx]; batchSizes, hy, cy)\n",
       "```\n",
       "\n",
       "Returns a tuple (y,hyout,cyout,rs) given rnn `r`, weights `w`, input `x` and optionally the initial hidden and cell states `hx` and `cx` (`cx` is only used in LSTMs).  `r` and `w` should come from a previous call to `rnninit`.  Both `hx` and `cx` are optional, they are treated as zero arrays if not provided.  The output `y` contains the hidden states of the final layer for each time step, `hyout` and `cyout` give the final hidden and cell states for all layers, `rs` is a buffer the RNN needs for its gradient calculation.\n",
       "\n",
       "The boolean keyword arguments `hy` and `cy` control whether `hyout` and `cyout` will be output.  By default `hy = (hx!=nothing)` and `cy = (cx!=nothing && r.mode==2)`, i.e. a hidden state will be output if one is provided as input and for cell state we also require an LSTM.  If `hy`/`cy` is `false`, `hyout`/`cyout` will be `nothing`. `batchSizes` can be an integer array that specifies non-uniform batch sizes as explained below. By default `batchSizes=nothing` and the same batch size, `size(x,2)`, is used for all time steps.\n",
       "\n",
       "The input and output dimensions are:\n",
       "\n",
       "  * `x`: (X,[B,T])\n",
       "  * `y`: (H/2H,[B,T])\n",
       "  * `hx`,`cx`,`hyout`,`cyout`: (H,B,L/2L)\n",
       "  * `batchSizes`: `nothing` or `Vector{Int}(T)`\n",
       "\n",
       "where X is inputSize, H is hiddenSize, B is batchSize, T is seqLength, L is numLayers.  `x` can be 1, 2, or 3 dimensional.  If `batchSizes==nothing`, a 1-D `x` represents a single instance, a 2-D `x` represents a single minibatch, and a 3-D `x` represents a sequence of identically sized minibatches.  If `batchSizes` is an array of (non-increasing) integers, it gives us the batch size for each time step in the sequence, in which case `sum(batchSizes)` should equal `div(length(x),size(x,1))`. `y` has the same dimensionality as `x`, differing only in its first dimension, which is H if the RNN is unidirectional, 2H if bidirectional.  Hidden vectors `hx`, `cx`, `hyout`, `cyout` all have size (H,B1,L) for unidirectional RNNs, and (H,B1,2L) for bidirectional RNNs where B1 is the size of the first minibatch.\n"
      ],
      "text/plain": [
       "```\n",
       "rnnforw(r, w, x[, hx, cx]; batchSizes, hy, cy)\n",
       "```\n",
       "\n",
       "Returns a tuple (y,hyout,cyout,rs) given rnn `r`, weights `w`, input `x` and optionally the initial hidden and cell states `hx` and `cx` (`cx` is only used in LSTMs).  `r` and `w` should come from a previous call to `rnninit`.  Both `hx` and `cx` are optional, they are treated as zero arrays if not provided.  The output `y` contains the hidden states of the final layer for each time step, `hyout` and `cyout` give the final hidden and cell states for all layers, `rs` is a buffer the RNN needs for its gradient calculation.\n",
       "\n",
       "The boolean keyword arguments `hy` and `cy` control whether `hyout` and `cyout` will be output.  By default `hy = (hx!=nothing)` and `cy = (cx!=nothing && r.mode==2)`, i.e. a hidden state will be output if one is provided as input and for cell state we also require an LSTM.  If `hy`/`cy` is `false`, `hyout`/`cyout` will be `nothing`. `batchSizes` can be an integer array that specifies non-uniform batch sizes as explained below. By default `batchSizes=nothing` and the same batch size, `size(x,2)`, is used for all time steps.\n",
       "\n",
       "The input and output dimensions are:\n",
       "\n",
       "  * `x`: (X,[B,T])\n",
       "  * `y`: (H/2H,[B,T])\n",
       "  * `hx`,`cx`,`hyout`,`cyout`: (H,B,L/2L)\n",
       "  * `batchSizes`: `nothing` or `Vector{Int}(T)`\n",
       "\n",
       "where X is inputSize, H is hiddenSize, B is batchSize, T is seqLength, L is numLayers.  `x` can be 1, 2, or 3 dimensional.  If `batchSizes==nothing`, a 1-D `x` represents a single instance, a 2-D `x` represents a single minibatch, and a 3-D `x` represents a sequence of identically sized minibatches.  If `batchSizes` is an array of (non-increasing) integers, it gives us the batch size for each time step in the sequence, in which case `sum(batchSizes)` should equal `div(length(x),size(x,1))`. `y` has the same dimensionality as `x`, differing only in its first dimension, which is H if the RNN is unidirectional, 2H if bidirectional.  Hidden vectors `hx`, `cx`, `hyout`, `cyout` all have size (H,B1,L) for unidirectional RNNs, and (H,B1,2L) for bidirectional RNNs where B1 is the size of the first minibatch.\n"
      ]
     },
     "execution_count": 9,
     "metadata": {},
     "output_type": "execute_result"
    }
   ],
   "source": [
    "@doc rnnforw"
   ]
  },
  {
   "cell_type": "code",
   "execution_count": 10,
   "metadata": {},
   "outputs": [],
   "source": [
    "# Train and test loops\n",
    "function train(model,data,optim)\n",
    "    Σ,N=0,0\n",
    "    for (x,y,b) in data\n",
    "        grads,loss1 = lossgradient(model,x,y,b;pdrop=DROPOUT)\n",
    "        update!(model, grads, optim)\n",
    "        n = length(y)\n",
    "        Σ,N = Σ+n*loss1, N+n\n",
    "    end\n",
    "    return Σ/N\n",
    "end\n",
    "\n",
    "function test(model,data)\n",
    "    Σ,N=0,0\n",
    "    for (x,y,b) in data\n",
    "        loss1 = loss(model,x,y,b)\n",
    "        n = length(y)\n",
    "        Σ,N = Σ+n*loss1, N+n\n",
    "    end\n",
    "    return Σ/N\n",
    "end;"
   ]
  },
  {
   "cell_type": "code",
   "execution_count": 11,
   "metadata": {},
   "outputs": [
    {
     "name": "stdout",
     "output_type": "stream",
     "text": [
      " 46.941482 seconds (3.57 M allocations: 184.063 MiB, 26.48% gc time)\n",
      "  1.467637 seconds (287.61 k allocations: 15.255 MiB, 20.69% gc time)\n",
      "  0.929730 seconds (58.72 k allocations: 3.365 MiB, 32.45% gc time)\n",
      "(1, 740.5685f0, 1.0907398f6, 1.0106692f6)\n",
      " 41.121480 seconds (1.86 M allocations: 89.222 MiB, 29.29% gc time)\n",
      "  1.083793 seconds (61.81 k allocations: 3.174 MiB, 27.90% gc time)\n",
      "  0.924770 seconds (58.43 k allocations: 3.346 MiB, 32.38% gc time)\n",
      "(2, 561.7699f0, 86835.01f0, 82495.06f0)\n",
      " 41.193815 seconds (1.86 M allocations: 89.184 MiB, 29.23% gc time)\n",
      "  1.091355 seconds (61.81 k allocations: 3.174 MiB, 27.54% gc time)\n",
      "  0.921975 seconds (58.43 k allocations: 3.346 MiB, 32.66% gc time)\n",
      "(3, 416.24133f0, 16002.863f0, 15172.273f0)\n",
      " 41.650553 seconds (1.86 M allocations: 89.184 MiB, 29.02% gc time)\n",
      "  1.091172 seconds (61.81 k allocations: 3.174 MiB, 27.48% gc time)\n",
      "  0.924982 seconds (58.43 k allocations: 3.346 MiB, 32.74% gc time)\n",
      "(4, 346.99088f0, 19381.719f0, 18700.217f0)\n",
      " 44.982792 seconds (1.86 M allocations: 89.184 MiB, 30.51% gc time)\n",
      "  1.089504 seconds (61.81 k allocations: 3.174 MiB, 27.68% gc time)\n",
      "  0.917893 seconds (58.43 k allocations: 3.346 MiB, 32.61% gc time)\n",
      "(5, 314.28296f0, 4668.638f0, 4431.232f0)\n",
      " 41.265332 seconds (1.86 M allocations: 89.184 MiB, 29.28% gc time)\n",
      "  1.084579 seconds (61.81 k allocations: 3.174 MiB, 27.75% gc time)\n",
      "  0.916898 seconds (58.43 k allocations: 3.346 MiB, 32.74% gc time)\n",
      "(6, 279.8391f0, 2566.926f0, 2406.1558f0)\n",
      " 41.145614 seconds (1.86 M allocations: 89.184 MiB, 29.35% gc time)\n",
      "  1.159191 seconds (61.81 k allocations: 3.174 MiB, 27.27% gc time)\n",
      "  0.943177 seconds (58.43 k allocations: 3.346 MiB, 33.59% gc time)\n",
      "(7, 253.76361f0, 2339.5352f0, 2190.9897f0)\n",
      " 41.554832 seconds (1.86 M allocations: 89.184 MiB, 29.09% gc time)\n",
      "  1.074168 seconds (61.81 k allocations: 3.174 MiB, 28.12% gc time)\n",
      "  0.929052 seconds (58.43 k allocations: 3.346 MiB, 32.38% gc time)\n",
      "(8, 238.98685f0, 1717.3044f0, 1598.3759f0)\n",
      " 41.402219 seconds (1.86 M allocations: 89.184 MiB, 29.26% gc time)\n",
      "  1.108320 seconds (61.81 k allocations: 3.174 MiB, 27.88% gc time)\n",
      "  0.915901 seconds (58.43 k allocations: 3.346 MiB, 32.56% gc time)\n",
      "(9, 221.11407f0, 1746.8793f0, 1619.9492f0)\n",
      " 45.849922 seconds (1.86 M allocations: 89.184 MiB, 29.12% gc time)\n",
      "  1.185345 seconds (61.81 k allocations: 3.174 MiB, 25.34% gc time)\n",
      "  0.947166 seconds (58.43 k allocations: 3.346 MiB, 32.62% gc time)\n",
      "(10, 211.99782f0, 1620.558f0, 1497.7067f0)\n"
     ]
    },
    {
     "data": {
      "text/plain": [
       "\"Tuple{Knet.RNN,Knet.KnetArray{Float32,3},Knet.KnetArray{Float32,2},Knet.KnetArray{Float32,2},Knet.KnetArray{Float32,2}}\""
      ]
     },
     "execution_count": 11,
     "metadata": {},
     "output_type": "execute_result"
    }
   ],
   "source": [
    "using JLD\n",
    "model = optim = nothing; knetgc() # free gpu memory\n",
    "if !isfile(\"rnnlm.jld\")\n",
    "    # Initialize and train model\n",
    "    model = initmodel()\n",
    "    optim = optimizers(model,Adam,lr=LR,beta1=BETA_1,beta2=BETA_2,eps=EPS)\n",
    "    for epoch=1:EPOCHS\n",
    "        @time j1 = train(model,mbtrn,optim)  # ~39 seconds\n",
    "        @time j2 = test(model,mbval)         # ~1 second\n",
    "        @time j3 = test(model,mbtst)         # ~1 second\n",
    "        println((epoch,exp(j1),exp(j2),exp(j3))); flush(STDOUT)  # prints perplexity = exp(negative_log_likelihood)\n",
    "    end\n",
    "    save(\"rnnlm.jld\",\"model\",model)\n",
    "else\n",
    "    model = load(\"rnnlm.jld\",\"model\")\n",
    "    @time j1 = test(model,mbtrn)\n",
    "    @time j2 = test(model,mbval)\n",
    "    @time j3 = test(model,mbtst)\n",
    "    println((EPOCHS,exp(j1),exp(j2),exp(j3))); flush(STDOUT)  # prints perplexity = exp(negative_log_likelihood)\n",
    "end\n",
    "summary(model)"
   ]
  },
  {
   "cell_type": "code",
   "execution_count": null,
   "metadata": {},
   "outputs": [],
   "source": []
  }
 ],
 "metadata": {
  "kernelspec": {
   "display_name": "Julia 0.6.2",
   "language": "julia",
   "name": "julia-0.6"
  },
  "language_info": {
   "file_extension": ".jl",
   "mimetype": "application/julia",
   "name": "julia",
   "version": "0.6.2"
  }
 },
 "nbformat": 4,
 "nbformat_minor": 2
}
