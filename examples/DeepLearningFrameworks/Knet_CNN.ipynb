{
 "cells": [
  {
   "cell_type": "markdown",
   "metadata": {},
   "source": [
    "# Knet CNN Example"
   ]
  },
  {
   "cell_type": "code",
   "execution_count": 1,
   "metadata": {},
   "outputs": [
    {
     "data": {
      "text/plain": [
       "0"
      ]
     },
     "execution_count": 1,
     "metadata": {},
     "output_type": "execute_result"
    }
   ],
   "source": [
    "using Pkg; haskey(Pkg.installed(),\"Knet\") || Pkg.add(\"Knet\")\n",
    "using Knet\n",
    "import Knet: train!\n",
    "True=true # so we can read the python params\n",
    "include(\"common/params.py\")\n",
    "gpu()"
   ]
  },
  {
   "cell_type": "code",
   "execution_count": 2,
   "metadata": {},
   "outputs": [
    {
     "name": "stdout",
     "output_type": "stream",
     "text": [
      "OS: Linux\n",
      "Julia: 1.0.0\n",
      "Knet: 1.1.1\n",
      "GPU: Tesla K80, \n"
     ]
    }
   ],
   "source": [
    "println(\"OS: \", Sys.KERNEL)\n",
    "println(\"Julia: \", VERSION)\n",
    "println(\"Knet: \", Pkg.installed()[\"Knet\"])\n",
    "println(\"GPU: \", replace(read(`nvidia-smi --query-gpu=name --format=csv,noheader`,String),'\\n'=>\", \"))"
   ]
  },
  {
   "cell_type": "code",
   "execution_count": 3,
   "metadata": {},
   "outputs": [],
   "source": [
    "_atype = gpu() >= 0 ? KnetArray{Float32} : Array{Float64}\n",
    "\n",
    "\n",
    "# define layers\n",
    "mutable struct Conv\n",
    "    w\n",
    "    b\n",
    "end\n",
    "\n",
    "\n",
    "function Conv(ci::Int, co::Int, k::Int; atype=_atype)\n",
    "    w = param(k, k, ci, co; atype=atype)\n",
    "    b = param(1, 1, co, 1; atype=atype, init=zeros)\n",
    "    return Conv(w, b)\n",
    "end\n",
    "\n",
    "\n",
    "function (l::Conv)(x)\n",
    "    conv4(l.w, x; padding=1) .+ l.b\n",
    "end\n",
    "\n",
    "\n",
    "mutable struct Block\n",
    "    layer1\n",
    "    layer2\n",
    "end\n",
    "\n",
    "\n",
    "function Block(ci::Int, ct::Int, co::Int, k::Int; atype=_atype)\n",
    "    layer1 = Conv(ci, ct, k; atype=atype)\n",
    "    layer2 = Conv(ct, co, k; atype=atype)\n",
    "    return Block(layer1, layer2)\n",
    "end\n",
    "\n",
    "\n",
    "function (l::Block)(x; pdrop=0.0)\n",
    "    y1 = relu.(l.layer1(x))\n",
    "    y2 = relu.(pool(l.layer2(y1)))\n",
    "    y3 = dropout(y2, pdrop)\n",
    "end\n",
    "\n",
    "\n",
    "mutable struct Linear\n",
    "    w\n",
    "    b\n",
    "end\n",
    "\n",
    "\n",
    "function Linear(input_dim::Int, output_dim::Int; atype=_atype)\n",
    "    w = param(output_dim, input_dim; atype=atype)\n",
    "    b = param(output_dim, 1; atype=atype, init=zeros)\n",
    "    return Linear(w, b)\n",
    "end\n",
    "\n",
    "\n",
    "(l::Linear)(x) = l.w * mat(x) .+ l.b"
   ]
  },
  {
   "cell_type": "code",
   "execution_count": 4,
   "metadata": {},
   "outputs": [
    {
     "data": {
      "text/plain": [
       "loss (generic function with 1 method)"
      ]
     },
     "execution_count": 4,
     "metadata": {},
     "output_type": "execute_result"
    }
   ],
   "source": [
    "# define model and loss\n",
    "mutable struct CNN\n",
    "    conv1\n",
    "    conv2\n",
    "    fc1\n",
    "    fc2\n",
    "end\n",
    "\n",
    "\n",
    "function CNN(; atype=_atype)\n",
    "    conv1 = Block(3, 50, 50, 3; atype=atype)\n",
    "    conv2 = Block(50, 100, 100, 3; atype=atype)\n",
    "    fc1 = Linear(6400, 512)\n",
    "    fc2 = Linear(512, 10)\n",
    "    return CNN(conv1, conv2, fc1, fc2)\n",
    "end\n",
    "\n",
    "\n",
    "function (model::CNN)(x; pdrops=(0.0, 0.0))\n",
    "    y1 = model.conv1(x; pdrop=pdrops[1])\n",
    "    y2 = model.conv2(y1; pdrop=pdrops[1])\n",
    "    y3 = dropout(relu.(model.fc1(y2)), pdrops[2])\n",
    "    y4 = model.fc2(y3)\n",
    "end\n",
    "\n",
    "\n",
    "loss(model, x, y; o...) = nll(model(x; o...), y) # nll: negative log likelihood"
   ]
  },
  {
   "cell_type": "code",
   "execution_count": 5,
   "metadata": {},
   "outputs": [
    {
     "data": {
      "text/plain": [
       "train! (generic function with 2 methods)"
      ]
     },
     "execution_count": 5,
     "metadata": {},
     "output_type": "execute_result"
    }
   ],
   "source": [
    "# helper to initialize optimizers\n",
    "function initopt!(model, optim; options...)\n",
    "    for par in params(model)\n",
    "        par.opt = optim(; options...)\n",
    "    end\n",
    "end\n",
    "\n",
    "\n",
    "# helper to update the weights\n",
    "function train!(model::CNN, x, y; pdrops=(0.25, 0.5))\n",
    "    J = @diff loss(model, x, y)\n",
    "    for par in params(model)\n",
    "        g = grad(J, par)\n",
    "        update!(value(par), g, par.opt)\n",
    "    end\n",
    "end"
   ]
  },
  {
   "cell_type": "code",
   "execution_count": 6,
   "metadata": {},
   "outputs": [
    {
     "name": "stderr",
     "output_type": "stream",
     "text": [
      "┌ Info: Reading cifar-10-binary.tar.gz...\n",
      "└ @ Main /kuacc/users/ikesen16/.julia/packages/Knet/3lzCR/data/cifar.jl:41\n"
     ]
    },
    {
     "name": "stdout",
     "output_type": "stream",
     "text": [
      "  3.733461 seconds (3.06 M allocations: 1.865 GiB, 20.34% gc time)\n",
      "32×32×3×50000 Array{Float32,4}\n",
      "50000-element Array{UInt8,1}\n",
      "32×32×3×10000 Array{Float32,4}\n",
      "10000-element Array{UInt8,1}\n"
     ]
    }
   ],
   "source": [
    "# load data\n",
    "include(Knet.dir(\"data\",\"cifar.jl\"))\n",
    "@time (xtrn,ytrn,xtst,ytst,lbls)=cifar10()\n",
    "dtrn = minibatch(xtrn,ytrn,BATCHSIZE,shuffle=true,xtype=KnetArray)\n",
    "dtst = minibatch(xtst,ytst,BATCHSIZE,shuffle=false,xtype=KnetArray)\n",
    "for d in (xtrn,ytrn,xtst,ytst); println(summary(d)); end"
   ]
  },
  {
   "cell_type": "code",
   "execution_count": 7,
   "metadata": {},
   "outputs": [],
   "source": [
    "# prepare for training\n",
    "model = optim = nothing; Knet.gc() # Clear memory from last run\n",
    "model = CNN()\n",
    "initopt!(model, Momentum; lr=LR, gamma=MOMENTUM);"
   ]
  },
  {
   "cell_type": "code",
   "execution_count": 8,
   "metadata": {},
   "outputs": [
    {
     "name": "stdout",
     "output_type": "stream",
     "text": [
      " 30.661693 seconds (23.87 M allocations: 1.724 GiB, 11.90% gc time)\n"
     ]
    }
   ],
   "source": [
    "# cold start\n",
    "@time for (x,y) in dtrn\n",
    "    train!(model, x, y)\n",
    "end"
   ]
  },
  {
   "cell_type": "code",
   "execution_count": 9,
   "metadata": {},
   "outputs": [],
   "source": [
    "# prepare for training\n",
    "model = optim = nothing; Knet.gc() # Clear memory from last run\n",
    "model = CNN()\n",
    "initopt!(model, Momentum; lr=LR, gamma=MOMENTUM);"
   ]
  },
  {
   "cell_type": "code",
   "execution_count": 10,
   "metadata": {},
   "outputs": [
    {
     "name": "stderr",
     "output_type": "stream",
     "text": [
      "┌ Info: Training...\n",
      "└ @ Main In[10]:2\n"
     ]
    },
    {
     "name": "stdout",
     "output_type": "stream",
     "text": [
      " 14.000294 seconds (2.38 M allocations: 667.945 MiB, 0.51% gc time)\n",
      " 13.943929 seconds (2.38 M allocations: 667.881 MiB, 0.52% gc time)\n",
      " 13.941756 seconds (2.38 M allocations: 667.881 MiB, 0.52% gc time)\n",
      " 13.935508 seconds (2.38 M allocations: 667.881 MiB, 0.50% gc time)\n",
      " 13.937715 seconds (2.38 M allocations: 667.881 MiB, 0.50% gc time)\n",
      " 13.943693 seconds (2.38 M allocations: 667.881 MiB, 0.51% gc time)\n",
      " 13.939071 seconds (2.38 M allocations: 667.879 MiB, 0.50% gc time)\n",
      " 13.943764 seconds (2.38 M allocations: 667.879 MiB, 0.52% gc time)\n",
      " 13.939797 seconds (2.39 M allocations: 667.973 MiB, 0.51% gc time)\n",
      " 13.940277 seconds (2.38 M allocations: 667.881 MiB, 0.51% gc time)\n",
      "139.470813 seconds (23.80 M allocations: 6.523 GiB, 0.51% gc time)\n"
     ]
    }
   ],
   "source": [
    "# 159s\n",
    "@info(\"Training...\")\n",
    "@time for epoch in 1:EPOCHS\n",
    "    @time for (x,y) in dtrn\n",
    "        train!(model, x, y)\n",
    "    end\n",
    "end"
   ]
  },
  {
   "cell_type": "code",
   "execution_count": 11,
   "metadata": {},
   "outputs": [
    {
     "name": "stdout",
     "output_type": "stream",
     "text": [
      "  2.323146 seconds (1.85 M allocations: 208.511 MiB, 13.59% gc time)\n"
     ]
    },
    {
     "data": {
      "text/plain": [
       "0.7268629807692307"
      ]
     },
     "execution_count": 11,
     "metadata": {},
     "output_type": "execute_result"
    }
   ],
   "source": [
    "# test accuracy 77.54\n",
    "@time accuracy(model,dtst)"
   ]
  },
  {
   "cell_type": "code",
   "execution_count": null,
   "metadata": {},
   "outputs": [],
   "source": []
  }
 ],
 "metadata": {
  "kernelspec": {
   "display_name": "Julia 1.0.0",
   "language": "julia",
   "name": "julia-1.0"
  },
  "language_info": {
   "file_extension": ".jl",
   "mimetype": "application/julia",
   "name": "julia",
   "version": "1.0.0"
  }
 },
 "nbformat": 4,
 "nbformat_minor": 2
}
