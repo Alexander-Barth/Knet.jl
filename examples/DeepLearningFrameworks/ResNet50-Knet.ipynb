{
 "cells": [
  {
   "cell_type": "code",
   "execution_count": 1,
   "metadata": {},
   "outputs": [],
   "source": [
    "# GPU: 32*40 in 8.00s = 160/s\n",
    "# CPU: 32*8 in 115.0s = 2/s"
   ]
  },
  {
   "cell_type": "code",
   "execution_count": 2,
   "metadata": {},
   "outputs": [],
   "source": [
    "# After installing and starting Julia run the following to install the required packages:\n",
    "# Pkg.init(); Pkg.update()\n",
    "# for p in (\"CUDAapi\",\"CUDAdrv\",\"MAT\",\"Images\",\"IJulia\",\"Knet\"); Pkg.add(p); end\n",
    "# Pkg.checkout(\"Knet\",\"ilkarman\") # make sure we have the right Knet version\n",
    "# Pkg.build(\"Knet\")"
   ]
  },
  {
   "cell_type": "code",
   "execution_count": 5,
   "metadata": {},
   "outputs": [
    {
     "name": "stdout",
     "output_type": "stream",
     "text": [
      "gpu() = 0\n"
     ]
    },
    {
     "name": "stderr",
     "output_type": "stream",
     "text": [
      "┌ Info: Precompiling MAT [23992714-dd62-5051-b70f-ba57cb901cac]\n",
      "└ @ Base loading.jl:1186\n",
      "ERROR: LoadError: LoadError: syntax: extra token \"MatlabHDF5File\" after end of expression\n",
      "Stacktrace:\n",
      " [1] include at ./boot.jl:317 [inlined]\n",
      " [2] include_relative(::Module, ::String) at ./loading.jl:1038\n",
      " [3] include at ./sysimg.jl:29 [inlined]\n",
      " [4] include(::String) at /kuacc/users/dyuret/.julia/packages/MAT/KiQ9U/src/MAT.jl:27\n",
      " [5] top-level scope at none:0\n",
      " [6] include at ./boot.jl:317 [inlined]\n",
      " [7] include_relative(::Module, ::String) at ./loading.jl:1038\n",
      " [8] include(::Module, ::String) at ./sysimg.jl:29\n",
      " [9] top-level scope at none:2\n",
      " [10] eval at ./boot.jl:319 [inlined]\n",
      " [11] eval(::Expr) at ./client.jl:389\n",
      " [12] top-level scope at ./none:3\n",
      "in expression starting at /kuacc/users/dyuret/.julia/packages/MAT/KiQ9U/src/MAT_HDF5.jl:39\n",
      "in expression starting at /kuacc/users/dyuret/.julia/packages/MAT/KiQ9U/src/MAT.jl:31\n"
     ]
    },
    {
     "ename": "LoadError",
     "evalue": "LoadError: LoadError: Failed to precompile MAT [23992714-dd62-5051-b70f-ba57cb901cac] to /kuacc/users/dyuret/.julia/compiled/v1.0/MAT/3FHIv.ji.\nin expression starting at /kuacc/users/dyuret/.julia/dev/Knet/data/imagenet.jl:1\nin expression starting at /kuacc/users/dyuret/.julia/dev/Knet/examples/resnet/resnetlib.jl:72",
     "output_type": "error",
     "traceback": [
      "LoadError: LoadError: Failed to precompile MAT [23992714-dd62-5051-b70f-ba57cb901cac] to /kuacc/users/dyuret/.julia/compiled/v1.0/MAT/3FHIv.ji.\nin expression starting at /kuacc/users/dyuret/.julia/dev/Knet/data/imagenet.jl:1\nin expression starting at /kuacc/users/dyuret/.julia/dev/Knet/examples/resnet/resnetlib.jl:72",
      "",
      "Stacktrace:",
      " [1] error(::String) at ./error.jl:33",
      " [2] macro expansion at ./logging.jl:313 [inlined]",
      " [3] compilecache(::Base.PkgId, ::String) at ./loading.jl:1184",
      " [4] macro expansion at ./logging.jl:311 [inlined]",
      " [5] _require(::Base.PkgId) at ./loading.jl:941",
      " [6] require(::Base.PkgId) at ./loading.jl:852",
      " [7] macro expansion at ./logging.jl:311 [inlined]",
      " [8] require(::Module, ::Symbol) at ./loading.jl:834",
      " [9] include at ./boot.jl:317 [inlined]",
      " [10] include_relative(::Module, ::String) at ./loading.jl:1038",
      " [11] include at ./sysimg.jl:29 [inlined]",
      " [12] include(::String) at /kuacc/users/dyuret/.julia/dev/Knet/examples/resnet/resnetlib.jl:69",
      " [13] top-level scope at none:0",
      " [14] include at ./boot.jl:317 [inlined]",
      " [15] include_relative(::Module, ::String) at ./loading.jl:1038",
      " [16] include(::Module, ::String) at ./sysimg.jl:29",
      " [17] include(::String) at ./client.jl:388",
      " [18] top-level scope at none:0"
     ]
    }
   ],
   "source": [
    "using Knet; @show gpu()\n",
    "include(Knet.dir(\"examples\",\"resnet\", \"resnetlib.jl\"))\n",
    "using ResNetLib: resnet50init, resnet50\n",
    "println(\"OS: \", Sys.KERNEL)\n",
    "println(\"Julia: \", VERSION)\n",
    "#println(\"Knet: \", Pkg.installed(\"Knet\"))"
   ]
  },
  {
   "cell_type": "code",
   "execution_count": 9,
   "metadata": {},
   "outputs": [
    {
     "name": "stdout",
     "output_type": "stream",
     "text": [
      "36\n"
     ]
    }
   ],
   "source": [
    "run(pipeline(`cat /proc/cpuinfo`,`grep processor`,`wc -l`));"
   ]
  },
  {
   "cell_type": "code",
   "execution_count": 10,
   "metadata": {},
   "outputs": [
    {
     "name": "stdout",
     "output_type": "stream",
     "text": [
      "name\n",
      "Tesla K80\n"
     ]
    }
   ],
   "source": [
    ";nvidia-smi --query-gpu=gpu_name --format=csv"
   ]
  },
  {
   "cell_type": "code",
   "execution_count": 11,
   "metadata": {},
   "outputs": [
    {
     "data": {
      "text/plain": [
       "8"
      ]
     },
     "execution_count": 11,
     "metadata": {},
     "output_type": "execute_result"
    }
   ],
   "source": [
    "const BATCH_SIZE = 32\n",
    "const RESNET_FEATURES = 2048\n",
    "const BATCHES_GPU = 40\n",
    "const BATCHES_CPU = 8"
   ]
  },
  {
   "cell_type": "code",
   "execution_count": 12,
   "metadata": {},
   "outputs": [
    {
     "data": {
      "text/plain": [
       "fakedata (generic function with 1 method)"
      ]
     },
     "execution_count": 12,
     "metadata": {},
     "output_type": "execute_result"
    }
   ],
   "source": [
    "# Create batches of fake data\n",
    "function fakedata(batches; atype=KnetArray)\n",
    "    x = rand(Float32, 224, 224, 3, BATCH_SIZE * batches)\n",
    "    minibatch(x, BATCH_SIZE, xtype=atype)\n",
    "end"
   ]
  },
  {
   "cell_type": "code",
   "execution_count": 13,
   "metadata": {},
   "outputs": [
    {
     "data": {
      "text/plain": [
       "predictfn (generic function with 1 method)"
      ]
     },
     "execution_count": 13,
     "metadata": {},
     "output_type": "execute_result"
    }
   ],
   "source": [
    "# Return features from classifier\n",
    "function predictfn(weights, moments, data)\n",
    "    out = []\n",
    "    for x in data\n",
    "        pred = resnet50(weights, moments, x; stage=5)\n",
    "        push!(out, mat(pred))\n",
    "    end\n",
    "    return Array(hcat(out...))\n",
    "end"
   ]
  },
  {
   "cell_type": "markdown",
   "metadata": {},
   "source": [
    "## 1. GPU"
   ]
  },
  {
   "cell_type": "code",
   "execution_count": 15,
   "metadata": {},
   "outputs": [
    {
     "ename": "LoadError",
     "evalue": "UndefVarError: resnet50init not defined",
     "output_type": "error",
     "traceback": [
      "UndefVarError: resnet50init not defined",
      "",
      "Stacktrace:",
      " [1] top-level scope at none:0"
     ]
    }
   ],
   "source": [
    "# Initialize resnet weights and fake data\n",
    "gpuweights = gpumoments = nothing; Knet.gc() # clear memory from previous run\n",
    "gpuweights, gpumoments = resnet50init(;stage=5, trained=true, atype=KnetArray);"
   ]
  },
  {
   "cell_type": "code",
   "execution_count": 17,
   "metadata": {},
   "outputs": [
    {
     "name": "stderr",
     "output_type": "stream",
     "text": [
      "┌ Info: Cold start\n",
      "└ @ Main In[17]:1\n"
     ]
    },
    {
     "ename": "LoadError",
     "evalue": "UndefVarError: resnet50 not defined",
     "output_type": "error",
     "traceback": [
      "UndefVarError: resnet50 not defined",
      "",
      "Stacktrace:",
      " [1] predictfn(::Nothing, ::Nothing, ::Knet.MB) at ./In[13]:5",
      " [2] top-level scope at util.jl:156"
     ]
    }
   ],
   "source": [
    "@info(\"Cold start\")\n",
    "gpudata1 = fakedata(BATCHES_GPU, atype=KnetArray)\n",
    "@time predictfn(gpuweights, gpumoments, gpudata1);"
   ]
  },
  {
   "cell_type": "code",
   "execution_count": 18,
   "metadata": {},
   "outputs": [
    {
     "name": "stderr",
     "output_type": "stream",
     "text": [
      "┌ Info: Benchmarking\n",
      "└ @ Main In[18]:1\n"
     ]
    },
    {
     "ename": "LoadError",
     "evalue": "UndefVarError: resnet50 not defined",
     "output_type": "error",
     "traceback": [
      "UndefVarError: resnet50 not defined",
      "",
      "Stacktrace:",
      " [1] predictfn(::Nothing, ::Nothing, ::Knet.MB) at ./In[13]:5",
      " [2] top-level scope at util.jl:156"
     ]
    }
   ],
   "source": [
    "@info(\"Benchmarking\")\n",
    "gpudata = fakedata(BATCHES_GPU, atype=KnetArray)\n",
    "@time predictfn(gpuweights, gpumoments, gpudata);"
   ]
  },
  {
   "cell_type": "markdown",
   "metadata": {},
   "source": [
    "## 2. CPU"
   ]
  },
  {
   "cell_type": "code",
   "execution_count": 19,
   "metadata": {},
   "outputs": [
    {
     "ename": "LoadError",
     "evalue": "UndefVarError: resnet50init not defined",
     "output_type": "error",
     "traceback": [
      "UndefVarError: resnet50init not defined",
      "",
      "Stacktrace:",
      " [1] top-level scope at none:0"
     ]
    }
   ],
   "source": [
    "# Initialize resnet weights\n",
    "cpuweights, cpumoments = resnet50init(;stage=5, trained=true, atype=Array);"
   ]
  },
  {
   "cell_type": "code",
   "execution_count": 20,
   "metadata": {},
   "outputs": [
    {
     "name": "stderr",
     "output_type": "stream",
     "text": [
      "┌ Info: Cold start\n",
      "└ @ Main In[20]:1\n"
     ]
    },
    {
     "ename": "LoadError",
     "evalue": "UndefVarError: cpuweights not defined",
     "output_type": "error",
     "traceback": [
      "UndefVarError: cpuweights not defined",
      "",
      "Stacktrace:",
      " [1] top-level scope at util.jl:156"
     ]
    }
   ],
   "source": [
    "@info(\"Cold start\")\n",
    "cpudata1 = fakedata(1, atype=Array);\n",
    "@time predictfn(cpuweights, cpumoments, cpudata1);"
   ]
  },
  {
   "cell_type": "code",
   "execution_count": 21,
   "metadata": {},
   "outputs": [
    {
     "name": "stderr",
     "output_type": "stream",
     "text": [
      "┌ Info: Benchmarking\n",
      "└ @ Main In[21]:1\n"
     ]
    },
    {
     "ename": "LoadError",
     "evalue": "UndefVarError: cpuweights not defined",
     "output_type": "error",
     "traceback": [
      "UndefVarError: cpuweights not defined",
      "",
      "Stacktrace:",
      " [1] top-level scope at util.jl:156"
     ]
    }
   ],
   "source": [
    "@info(\"Benchmarking\")\n",
    "cpudata = fakedata(BATCHES_CPU, atype=Array);\n",
    "@time predictfn(cpuweights, cpumoments, cpudata);"
   ]
  },
  {
   "cell_type": "code",
   "execution_count": null,
   "metadata": {},
   "outputs": [],
   "source": []
  }
 ],
 "metadata": {
  "kernelspec": {
   "display_name": "Julia 1.0.0",
   "language": "julia",
   "name": "julia-1.0"
  },
  "language_info": {
   "file_extension": ".jl",
   "mimetype": "application/julia",
   "name": "julia",
   "version": "1.0.0"
  }
 },
 "nbformat": 4,
 "nbformat_minor": 2
}
