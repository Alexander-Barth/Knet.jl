{
 "cells": [
  {
   "cell_type": "code",
   "execution_count": null,
   "metadata": {},
   "outputs": [],
   "source": [
    "# GPU: 32*40 in 8.00s = 160/s\n",
    "# CPU: 32*8 in 115.0s = 2/s"
   ]
  },
  {
   "cell_type": "code",
   "execution_count": 1,
   "metadata": {},
   "outputs": [
    {
     "data": {
      "text/plain": [
       "0"
      ]
     },
     "execution_count": 1,
     "metadata": {},
     "output_type": "execute_result"
    }
   ],
   "source": [
    "using Pkg; installed = Pkg.installed()\n",
    "for p in (\"Knet\", \"KnetLayers\", \"Images\", \"BSON\")\n",
    "    haskey(installed,p) || Pkg.add(p)\n",
    "end\n",
    "include(\"./resnetlib.jl\")\n",
    "gpu()"
   ]
  },
  {
   "cell_type": "code",
   "execution_count": 2,
   "metadata": {},
   "outputs": [
    {
     "name": "stdout",
     "output_type": "stream",
     "text": [
      "OS: Linux\n",
      "Julia: 1.0.3\n",
      "Knet: 1.1.1\n",
      "Cores: 6\n",
      "GPUs:\n",
      "Tesla K80\n"
     ]
    }
   ],
   "source": [
    "println(\"OS: \", Sys.KERNEL)\n",
    "println(\"Julia: \", VERSION)\n",
    "println(\"Knet: \", Pkg.installed()[\"Knet\"])\n",
    "println(\"Cores: \", chop(read(pipeline(`cat /proc/cpuinfo`,`grep processor`,`wc -l`),String)))\n",
    "print(\"GPUs:\\n\", read(`nvidia-smi --query-gpu=gpu_name --format=csv,noheader`,String))"
   ]
  },
  {
   "cell_type": "code",
   "execution_count": 3,
   "metadata": {},
   "outputs": [
    {
     "data": {
      "text/plain": [
       "8"
      ]
     },
     "execution_count": 3,
     "metadata": {},
     "output_type": "execute_result"
    }
   ],
   "source": [
    "const BATCH_SIZE = 32\n",
    "const RESNET_FEATURES = 2048\n",
    "const BATCHES_GPU = 40\n",
    "const BATCHES_CPU = 8"
   ]
  },
  {
   "cell_type": "code",
   "execution_count": 4,
   "metadata": {},
   "outputs": [
    {
     "data": {
      "text/plain": [
       "fakedata (generic function with 1 method)"
      ]
     },
     "execution_count": 4,
     "metadata": {},
     "output_type": "execute_result"
    }
   ],
   "source": [
    "# Create batches of fake data\n",
    "function fakedata(batches; atype=KnetArray)\n",
    "    x = rand(Float32, 224, 224, 3, BATCH_SIZE * batches)\n",
    "    minibatch(x, BATCH_SIZE, xtype=atype)\n",
    "end"
   ]
  },
  {
   "cell_type": "code",
   "execution_count": 5,
   "metadata": {},
   "outputs": [
    {
     "data": {
      "text/plain": [
       "predictfn (generic function with 1 method)"
      ]
     },
     "execution_count": 5,
     "metadata": {},
     "output_type": "execute_result"
    }
   ],
   "source": [
    "# Return features from classifier\n",
    "function predictfn(network, data)\n",
    "    out = []\n",
    "    for x in data\n",
    "        pred = network.layers[1:19](x)\n",
    "        push!(out, mat(pred))\n",
    "    end\n",
    "    return Array(hcat(out...))\n",
    "end"
   ]
  },
  {
   "cell_type": "markdown",
   "metadata": {},
   "source": [
    "## 1. GPU"
   ]
  },
  {
   "cell_type": "code",
   "execution_count": 6,
   "metadata": {},
   "outputs": [],
   "source": [
    "# Initialize resnet weights and fake data\n",
    "network = nothing; Knet.gc() # clear memory from previous run\n",
    "KnetLayers.settype!(KnetArray{Float32})\n",
    "network = trained(ResNet50);"
   ]
  },
  {
   "cell_type": "code",
   "execution_count": 7,
   "metadata": {},
   "outputs": [
    {
     "name": "stderr",
     "output_type": "stream",
     "text": [
      "┌ Info: Cold start\n",
      "└ @ Main In[7]:1\n"
     ]
    },
    {
     "name": "stdout",
     "output_type": "stream",
     "text": [
      " 26.287662 seconds (11.70 M allocations: 1.298 GiB, 36.44% gc time)\n"
     ]
    }
   ],
   "source": [
    "@info(\"Cold start\")\n",
    "gpudata1 = fakedata(BATCHES_GPU, atype=KnetArray)\n",
    "@time predictfn(network, gpudata1);"
   ]
  },
  {
   "cell_type": "code",
   "execution_count": 8,
   "metadata": {},
   "outputs": [
    {
     "name": "stderr",
     "output_type": "stream",
     "text": [
      "┌ Info: Benchmarking\n",
      "└ @ Main In[8]:1\n"
     ]
    },
    {
     "name": "stdout",
     "output_type": "stream",
     "text": [
      " 10.889850 seconds (588.71 k allocations: 766.245 MiB, 25.19% gc time)\n"
     ]
    }
   ],
   "source": [
    "@info(\"Benchmarking\")\n",
    "gpudata = fakedata(BATCHES_GPU, atype=KnetArray)\n",
    "@time predictfn(network, gpudata);"
   ]
  },
  {
   "cell_type": "markdown",
   "metadata": {},
   "source": [
    "## 2. CPU"
   ]
  },
  {
   "cell_type": "code",
   "execution_count": null,
   "metadata": {},
   "outputs": [],
   "source": [
    "# Initialize resnet weights and fake data\n",
    "network = nothing; Knet.gc() # clear memory from previous run\n",
    "KnetLayers.settype!(Array{Float32})\n",
    "network = trained(ResNet50);"
   ]
  },
  {
   "cell_type": "code",
   "execution_count": null,
   "metadata": {},
   "outputs": [],
   "source": [
    "@info(\"Cold start\")\n",
    "cpudata1 = fakedata(1, atype=Array);\n",
    "@time predictfn(network, cpudata1);"
   ]
  },
  {
   "cell_type": "code",
   "execution_count": null,
   "metadata": {},
   "outputs": [],
   "source": [
    "@info(\"Benchmarking\")\n",
    "cpudata = fakedata(BATCHES_CPU, atype=Array);\n",
    "@time predictfn(network, cpudata);"
   ]
  },
  {
   "cell_type": "code",
   "execution_count": null,
   "metadata": {},
   "outputs": [],
   "source": []
  }
 ],
 "metadata": {
  "kernelspec": {
   "display_name": "Julia 1.0.3",
   "language": "julia",
   "name": "julia-1.0"
  },
  "language_info": {
   "file_extension": ".jl",
   "mimetype": "application/julia",
   "name": "julia",
   "version": "1.0.3"
  }
 },
 "nbformat": 4,
 "nbformat_minor": 2
}
