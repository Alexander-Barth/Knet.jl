{
 "cells": [
  {
   "cell_type": "code",
   "execution_count": null,
   "metadata": {},
   "outputs": [],
   "source": [
    "# GPU: 32*40 in 8.00s = 160/s\n",
    "# CPU: 32*8 in 115.0s = 2/s"
   ]
  },
  {
   "cell_type": "code",
   "execution_count": null,
   "metadata": {},
   "outputs": [],
   "source": [
    "using Pkg; installed = Pkg.installed()\n",
    "for p in (\"Knet\", \"KnetLayers\", \"Images\", \"BSON\")\n",
    "    haskey(installed,p) || Pkg.add(p)\n",
    "end\n",
    "include(\"./resnetlib.jl\")\n",
    "gpu()"
   ]
  },
  {
   "cell_type": "code",
   "execution_count": null,
   "metadata": {},
   "outputs": [],
   "source": [
    "println(\"OS: \", Sys.KERNEL)\n",
    "println(\"Julia: \", VERSION)\n",
    "println(\"Knet: \", Pkg.installed()[\"Knet\"])\n",
    "println(\"Cores: \", chop(read(pipeline(`cat /proc/cpuinfo`,`grep processor`,`wc -l`),String)))\n",
    "print(\"GPUs:\\n\", read(`nvidia-smi --query-gpu=gpu_name --format=csv,noheader`,String))"
   ]
  },
  {
   "cell_type": "code",
   "execution_count": null,
   "metadata": {},
   "outputs": [],
   "source": [
    "const BATCH_SIZE = 32\n",
    "const RESNET_FEATURES = 2048\n",
    "const BATCHES_GPU = 40\n",
    "const BATCHES_CPU = 8"
   ]
  },
  {
   "cell_type": "code",
   "execution_count": null,
   "metadata": {},
   "outputs": [],
   "source": [
    "# Create batches of fake data\n",
    "function fakedata(batches; atype=KnetArray)\n",
    "    x = rand(Float32, 224, 224, 3, BATCH_SIZE * batches)\n",
    "    minibatch(x, BATCH_SIZE, xtype=atype)\n",
    "end"
   ]
  },
  {
   "cell_type": "code",
   "execution_count": null,
   "metadata": {},
   "outputs": [],
   "source": [
    "# Return features from classifier\n",
    "function predictfn(weights, moments, data)\n",
    "    out = []\n",
    "    for x in data\n",
    "        pred = resnet50(weights, moments, x; stage=5)\n",
    "        push!(out, mat(pred))\n",
    "    end\n",
    "    return Array(hcat(out...))\n",
    "end"
   ]
  },
  {
   "cell_type": "markdown",
   "metadata": {},
   "source": [
    "## 1. GPU"
   ]
  },
  {
   "cell_type": "code",
   "execution_count": null,
   "metadata": {},
   "outputs": [],
   "source": [
    "# Initialize resnet weights and fake data\n",
    "gpuweights = gpumoments = nothing; Knet.gc() # clear memory from previous run\n",
    "KnetLayers.settype!(KnetArray{Float32})\n",
    "gpuweights, gpumoments = trained(ResNet50);"
   ]
  },
  {
   "cell_type": "code",
   "execution_count": null,
   "metadata": {},
   "outputs": [],
   "source": [
    "@info(\"Cold start\")\n",
    "gpudata1 = fakedata(BATCHES_GPU, atype=KnetArray)\n",
    "@time predictfn(gpuweights, gpumoments, gpudata1);"
   ]
  },
  {
   "cell_type": "code",
   "execution_count": null,
   "metadata": {},
   "outputs": [],
   "source": [
    "@info(\"Benchmarking\")\n",
    "gpudata = fakedata(BATCHES_GPU, atype=KnetArray)\n",
    "@time predictfn(gpuweights, gpumoments, gpudata);"
   ]
  },
  {
   "cell_type": "markdown",
   "metadata": {},
   "source": [
    "## 2. CPU"
   ]
  },
  {
   "cell_type": "code",
   "execution_count": null,
   "metadata": {},
   "outputs": [],
   "source": [
    "# Initialize resnet weights\n",
    "KnetLayers.settype!(Array{Float32})\n",
    "cpuweights, cpumoments = resnet50init(;stage=5, trained=true, atype=Array);"
   ]
  },
  {
   "cell_type": "code",
   "execution_count": null,
   "metadata": {},
   "outputs": [],
   "source": [
    "@info(\"Cold start\")\n",
    "cpudata1 = fakedata(1, atype=Array);\n",
    "@time predictfn(cpuweights, cpumoments, cpudata1);"
   ]
  },
  {
   "cell_type": "code",
   "execution_count": null,
   "metadata": {},
   "outputs": [],
   "source": [
    "@info(\"Benchmarking\")\n",
    "cpudata = fakedata(BATCHES_CPU, atype=Array);\n",
    "@time predictfn(cpuweights, cpumoments, cpudata);"
   ]
  },
  {
   "cell_type": "code",
   "execution_count": null,
   "metadata": {},
   "outputs": [],
   "source": []
  }
 ],
 "metadata": {
  "kernelspec": {
   "display_name": "Julia 1.0.1",
   "language": "julia",
   "name": "julia-1.0"
  },
  "language_info": {
   "file_extension": ".jl",
   "mimetype": "application/julia",
   "name": "julia",
   "version": "1.0.1"
  }
 },
 "nbformat": 4,
 "nbformat_minor": 2
}
