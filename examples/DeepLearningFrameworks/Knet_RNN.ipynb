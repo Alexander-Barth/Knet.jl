{
 "cells": [
  {
   "cell_type": "markdown",
   "metadata": {},
   "source": [
    "# Knet RNN example\n",
    "**TODO**: Add dropout?"
   ]
  },
  {
   "cell_type": "code",
   "execution_count": 1,
   "metadata": {},
   "outputs": [
    {
     "data": {
      "text/plain": [
       "0"
      ]
     },
     "execution_count": 1,
     "metadata": {},
     "output_type": "execute_result"
    }
   ],
   "source": [
    "using Pkg; haskey(Pkg.installed(),\"Knet\") || Pkg.add(\"Knet\")\n",
    "using Knet\n",
    "import Knet: train!\n",
    "True=true # so we can read the python params\n",
    "include(\"common/params_lstm.py\")\n",
    "gpu()"
   ]
  },
  {
   "cell_type": "code",
   "execution_count": 2,
   "metadata": {},
   "outputs": [
    {
     "name": "stdout",
     "output_type": "stream",
     "text": [
      "OS: Linux\n",
      "Julia: 1.0.0\n",
      "Knet: 1.1.1\n",
      "GPU: Tesla K80\n",
      "\n"
     ]
    }
   ],
   "source": [
    "println(\"OS: \", Sys.KERNEL)\n",
    "println(\"Julia: \", VERSION)\n",
    "println(\"Knet: \", Pkg.installed()[\"Knet\"])\n",
    "println(\"GPU: \", read(`nvidia-smi --query-gpu=name --format=csv,noheader`,String))"
   ]
  },
  {
   "cell_type": "code",
   "execution_count": 3,
   "metadata": {},
   "outputs": [],
   "source": [
    "# define layers\n",
    "_atype = gpu() >= 0 ? KnetArray{Float32} : Array{Float64}\n",
    "\n",
    "\n",
    "mutable struct Embedding\n",
    "    w\n",
    "end\n",
    "\n",
    "\n",
    "function Embedding(vocabsize::Int, embedsize::Int; atype=_atype)\n",
    "    w = param(embedsize, vocabsize; init=xavier, atype=atype)\n",
    "    return Embedding(w)\n",
    "end\n",
    "\n",
    "\n",
    "(l::Embedding)(x) = l.w[:, x]\n",
    "\n",
    "\n",
    "mutable struct Projection\n",
    "    w\n",
    "end\n",
    "\n",
    "\n",
    "function Projection(input_dim::Int, output_dim::Int; atype=_atype)\n",
    "    w = param(output_dim, input_dim; atype=atype)\n",
    "    return Projection(w)\n",
    "end\n",
    "\n",
    "\n",
    "(l::Projection)(x) = l.w * mat(x)"
   ]
  },
  {
   "cell_type": "code",
   "execution_count": 4,
   "metadata": {},
   "outputs": [
    {
     "data": {
      "text/plain": [
       "loss (generic function with 1 method)"
      ]
     },
     "execution_count": 4,
     "metadata": {},
     "output_type": "execute_result"
    }
   ],
   "source": [
    "# define model and loss\n",
    "mutable struct Model\n",
    "    embed\n",
    "    rnn\n",
    "    fc\n",
    "end\n",
    "\n",
    "\n",
    "function Model(nfeatures::Int, nembed::Int, nhidden::Int; atype=_atype)\n",
    "    embed = Embedding(nfeatures, nembed; atype=atype)\n",
    "    rnn = RNN(nembed, nhidden; rnnType=:gru)\n",
    "    fc = Projection(nhidden, 2)\n",
    "    return Model(embed, rnn, fc)\n",
    "end\n",
    "\n",
    "\n",
    "function (model::Model)(x)\n",
    "    indices = permutedims(hcat(x...))\n",
    "    embed = model.embed(indices)\n",
    "    hidden = model.rnn(embed)[:,:,end]\n",
    "    output = model.fc(hidden)\n",
    "end\n",
    "\n",
    "\n",
    "loss(model,x,y)=nll(model(x), y)"
   ]
  },
  {
   "cell_type": "code",
   "execution_count": 5,
   "metadata": {},
   "outputs": [
    {
     "data": {
      "text/plain": [
       "train! (generic function with 2 methods)"
      ]
     },
     "execution_count": 5,
     "metadata": {},
     "output_type": "execute_result"
    }
   ],
   "source": [
    "# helper to initialize optimizers\n",
    "function initopt!(model, optim; options...)\n",
    "    for par in params(model)\n",
    "        par.opt = optim(; options...)\n",
    "    end\n",
    "end\n",
    "\n",
    "\n",
    "# helper to update the weights\n",
    "function train!(model::Model, x, y; pdrops=(0.25, 0.5))\n",
    "    J = @diff loss(model, x, y)\n",
    "    for par in params(model)\n",
    "        g = grad(J, par)\n",
    "        update!(value(par), g, par.opt)\n",
    "    end\n",
    "end"
   ]
  },
  {
   "cell_type": "code",
   "execution_count": 6,
   "metadata": {},
   "outputs": [
    {
     "name": "stderr",
     "output_type": "stream",
     "text": [
      "┌ Info: Loading IMDB...\n",
      "└ @ Main /kuacc/users/ikesen16/.julia/packages/Knet/3lzCR/data/imdb.jl:57\n"
     ]
    },
    {
     "name": "stdout",
     "output_type": "stream",
     "text": [
      " 15.098990 seconds (29.44 M allocations: 1.496 GiB, 6.40% gc time)\n",
      "25000-element Array{Array{Int32,1},1}\n",
      "25000-element Array{Int8,1}\n",
      "25000-element Array{Array{Int32,1},1}\n",
      "25000-element Array{Int8,1}\n"
     ]
    }
   ],
   "source": [
    "# load data\n",
    "include(Knet.dir(\"data\",\"imdb.jl\"))\n",
    "@time (xtrn,ytrn,xtst,ytst,imdbdict)=imdb(maxlen=MAXLEN,maxval=MAXFEATURES)\n",
    "for d in (xtrn,ytrn,xtst,ytst); println(summary(d)); end"
   ]
  },
  {
   "cell_type": "code",
   "execution_count": 7,
   "metadata": {},
   "outputs": [
    {
     "data": {
      "text/plain": [
       "150-element Array{String,1}:\n",
       " \"nice\"          \n",
       " \"cinematography\"\n",
       " \"i\"             \n",
       " \"can\"           \n",
       " \"hardly\"        \n",
       " \"say\"           \n",
       " \"anything\"      \n",
       " \"positive\"      \n",
       " \"about\"         \n",
       " \"this\"          \n",
       " \"movie\"         \n",
       " \"the\"           \n",
       " \"single\"        \n",
       " ⋮               \n",
       " \"plot\"          \n",
       " \"or\"            \n",
       " \"the\"           \n",
       " \"bad\"           \n",
       " \"acting\"        \n",
       " \"disturbing\"    \n",
       " \"any\"           \n",
       " \"appeal\"        \n",
       " \"that\"          \n",
       " \"might\"         \n",
       " \"be\"            \n",
       " \"left\"          "
      ]
     },
     "execution_count": 7,
     "metadata": {},
     "output_type": "execute_result"
    }
   ],
   "source": [
    "imdbarray = Array{String}(undef,88584)\n",
    "for (k,v) in imdbdict; imdbarray[v]=k; end\n",
    "imdbarray[xtrn[1]]"
   ]
  },
  {
   "cell_type": "code",
   "execution_count": 8,
   "metadata": {},
   "outputs": [],
   "source": [
    "# prepare for training\n",
    "weights = nothing; Knet.gc(); # Reclaim memory from previous run\n",
    "model = Model(MAXFEATURES, EMBEDSIZE, NUMHIDDEN)\n",
    "initopt!(model, Adam; lr=LR, beta1=BETA_1, beta2=BETA_2, eps=EPS);"
   ]
  },
  {
   "cell_type": "code",
   "execution_count": 9,
   "metadata": {},
   "outputs": [
    {
     "name": "stdout",
     "output_type": "stream",
     "text": [
      " 21.101671 seconds (15.31 M allocations: 841.157 MiB, 16.92% gc time)\n"
     ]
    }
   ],
   "source": [
    "# cold start\n",
    "@time for (x,y) in minibatch(xtrn,ytrn,BATCHSIZE;shuffle=true)\n",
    "    train!(model, x, y)\n",
    "end"
   ]
  },
  {
   "cell_type": "code",
   "execution_count": 10,
   "metadata": {},
   "outputs": [],
   "source": [
    "# prepare for training\n",
    "weights = nothing; Knet.gc(); # Reclaim memory from previous run\n",
    "model = Model(MAXFEATURES, EMBEDSIZE, NUMHIDDEN)\n",
    "initopt!(model, Adam; lr=LR, beta1=BETA_1, beta2=BETA_2, eps=EPS);"
   ]
  },
  {
   "cell_type": "code",
   "execution_count": 11,
   "metadata": {},
   "outputs": [
    {
     "name": "stderr",
     "output_type": "stream",
     "text": [
      "┌ Info: Training...\n",
      "└ @ Main In[11]:2\n"
     ]
    },
    {
     "name": "stdout",
     "output_type": "stream",
     "text": [
      "  9.998816 seconds (624.31 k allocations: 79.030 MiB, 7.06% gc time)\n",
      "  9.217722 seconds (566.49 k allocations: 76.379 MiB, 6.39% gc time)\n",
      "  9.355325 seconds (583.71 k allocations: 76.642 MiB, 7.85% gc time)\n",
      " 28.573209 seconds (1.78 M allocations: 232.099 MiB, 7.10% gc time)\n"
     ]
    }
   ],
   "source": [
    "# 29s\n",
    "@info(\"Training...\")\n",
    "@time for epoch in 1:EPOCHS\n",
    "    @time for (x,y) in minibatch(xtrn,ytrn,BATCHSIZE;shuffle=true)\n",
    "        train!(model, x, y)\n",
    "    end\n",
    "end"
   ]
  },
  {
   "cell_type": "code",
   "execution_count": 12,
   "metadata": {},
   "outputs": [
    {
     "name": "stderr",
     "output_type": "stream",
     "text": [
      "┌ Info: Testing...\n",
      "└ @ Main In[12]:1\n"
     ]
    },
    {
     "name": "stdout",
     "output_type": "stream",
     "text": [
      "  3.721205 seconds (2.26 M allocations: 172.522 MiB, 1.55% gc time)\n"
     ]
    },
    {
     "data": {
      "text/plain": [
       "0.8496794871794872"
      ]
     },
     "execution_count": 12,
     "metadata": {},
     "output_type": "execute_result"
    }
   ],
   "source": [
    "@info(\"Testing...\")\n",
    "@time accuracy(model, minibatch(xtst,ytst,BATCHSIZE))"
   ]
  },
  {
   "cell_type": "code",
   "execution_count": null,
   "metadata": {},
   "outputs": [],
   "source": []
  }
 ],
 "metadata": {
  "kernelspec": {
   "display_name": "Julia 1.0.0",
   "language": "julia",
   "name": "julia-1.0"
  },
  "language_info": {
   "file_extension": ".jl",
   "mimetype": "application/julia",
   "name": "julia",
   "version": "1.0.0"
  }
 },
 "nbformat": 4,
 "nbformat_minor": 2
}
